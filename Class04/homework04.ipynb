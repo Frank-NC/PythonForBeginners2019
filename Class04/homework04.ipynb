{
 "cells": [
  {
   "cell_type": "markdown",
   "metadata": {},
   "source": [
    "# Python Programming for Kids\n",
    "## Homework for Week 4\n",
    "### Due 10/12/2019"
   ]
  },
  {
   "cell_type": "markdown",
   "metadata": {},
   "source": [
    "# Conditions\n",
    "\n",
    "## 1\n",
    "Write a program, check if the value of the variable \"num\" is positive or negative or zero and display an appropriate message:\n",
    "\n",
    "* When variable num is a positive number, \"Positive number\" is printed.\n",
    "* If num is equal to 0, \"Zero\" is printed.\n",
    "* If num is a negative number, \"Negative number\" is printed"
   ]
  },
  {
   "cell_type": "code",
   "execution_count": 3,
   "metadata": {},
   "outputs": [
    {
     "name": "stdout",
     "output_type": "stream",
     "text": [
      "15: Posutive number\n"
     ]
    }
   ],
   "source": [
    "num = 15  # <-- Test your program by changing this value to 0 and -15\n",
    "\n",
    "print(num, end=': ')\n",
    "\n",
    "# Write your program below to test the value of num\n",
    "\n",
    "\n",
    "\n"
   ]
  },
  {
   "cell_type": "markdown",
   "metadata": {},
   "source": [
    "## 2\n",
    "Write a Python program to check if a user input integer is odd or even. A integer is even if it is divided by 2, it yields no remainder. If remainder is 1, it is odd number.\n",
    "\n",
    "* for even number x, the output should be: x is Even\n",
    "* for odd number x, the output should be: x is Odd\n",
    "\n",
    "How to get the remainder of a division?\n",
    "\n",
    "Hint: \n",
    "[Python Arithmetic Operators](https://www.programiz.com/python-programming/operators#arithmetic_operators)\n"
   ]
  },
  {
   "cell_type": "code",
   "execution_count": 3,
   "metadata": {},
   "outputs": [
    {
     "name": "stdout",
     "output_type": "stream",
     "text": [
      "type a number and press enter key: 20\n",
      "20 is Even\n"
     ]
    }
   ],
   "source": [
    "num = int(input(\"input a number and press enter key: \"))\n",
    "# Write your program below, check if the value of variable 'num' is Odd or Even\n",
    "\n",
    "\n"
   ]
  },
  {
   "cell_type": "markdown",
   "metadata": {},
   "source": [
    "## 3\n",
    "Make a wage calculator for LeX-Mart:\n",
    "\n",
    "A company called LeX-Mart pay their workers weekly. \n",
    "\n",
    "* If a worker has worked no more than 40 hours a week, the normal payment rate is $8.0/hour.\n",
    "* If a worker has worked over 40 hours a week, that means the worker has worked overtime. The overtime salary is at 1.47 times the normal rate. (for example, if you have worked 41 hours in a week, you worked overtime for one hour. The salary for <b>every overtime hour</b> is at 1.47 times the normal rate)\n",
    "\n",
    "Your program should output like the following (for example, if you worked 41 hours in a week):\n",
    "\n",
    "You worked 41.0 hours in a week, you have earned $331.76.\n"
   ]
  },
  {
   "cell_type": "code",
   "execution_count": 9,
   "metadata": {},
   "outputs": [
    {
     "name": "stdout",
     "output_type": "stream",
     "text": [
      "Enter total hours you worked in a week: 41\n",
      "You worked 41.0 hours in a week, you have earned $331.76.\n"
     ]
    }
   ],
   "source": [
    "totalHours = int(input(\"Enter total hours you worked in a week: \"))\n",
    "# Write you program at below\n",
    "\n",
    "\n",
    "\n"
   ]
  },
  {
   "cell_type": "markdown",
   "metadata": {},
   "source": [
    "## 4\n",
    "A leap year is exactly divisible by 4 except for century years (years ending with 00). The century year is a leap year only if it is perfectly divisible by 400. For example,\n",
    "\n",
    "* 2017 is not a leap year\n",
    "* 1900 is a not leap year\n",
    "* 2012 is a leap year\n",
    "* 2000 is a leap year\n",
    "\n",
    "Write a program to check if a given year is leap year or not. Your program should output in the following format:\n",
    "```\n",
    "3000 is not a leap year\n",
    "\n",
    "2017 is not a leap year\n",
    "\n",
    "2012 is a leap year\n",
    "```\n",
    "\n",
    "Hint: nested if conditions have to be used:\n",
    "```\n",
    "if a year is a multiple of 4\n",
    "    if a year is a multiple of 100\n",
    "        if a year is multiple of 400, than this is a leap year\n",
    "    else this is a leap year\n",
    "else this year is not a leap year\n",
    "```"
   ]
  },
  {
   "cell_type": "code",
   "execution_count": 13,
   "metadata": {},
   "outputs": [
    {
     "name": "stdout",
     "output_type": "stream",
     "text": [
      "Enter a year: 1880\n",
      "1880 is a leap year\n"
     ]
    }
   ],
   "source": [
    "year = int(input(\"Enter a year: \"))\n",
    "# Write your program below to check if the value of the variable 'year' is leap year or not\n",
    "\n",
    "\n",
    "\n"
   ]
  },
  {
   "cell_type": "markdown",
   "metadata": {
    "collapsed": true
   },
   "source": [
    "# For Loops\n",
    "\n",
    "## 5\n",
    "Print all of the odd numbers between 1881 to 1842 in descending order. Print one number at each row.\n",
    "```\n",
    "1881\n",
    "1879\n",
    "1877\n",
    "...\n",
    "```"
   ]
  },
  {
   "cell_type": "markdown",
   "metadata": {},
   "source": [
    "## 6\n",
    "Print all of the odd numbers between 80 to 101. Print as the following format:\n",
    "\n",
    "each odd number in a seperate line, with a sequence number in front of it. For example:\n",
    "```\n",
    "1) 81\n",
    "\n",
    "2) 83\n",
    "\n",
    "3) 85\n",
    "```\n",
    "Hints:\n",
    "* you need use a variable as counter, we learned how to program a counter in the class\n",
    "* to print in the required format, check this link: https://www.learnpython.org/en/String_Formatting Somthing like: print('%d) %d'% (variable1, variable2))\n"
   ]
  },
  {
   "cell_type": "markdown",
   "metadata": {},
   "source": [
    "## 7\n",
    "For a number n (input by the user), Write a Python program to print out the following triangle pattern. n is the maximum number of * in a row\n",
    "\n",
    "```\n",
    "Example: n = 5\n",
    "\n",
    "*\n",
    "**\n",
    "***\n",
    "****\n",
    "*****\n",
    "****\n",
    "***\n",
    "**\n",
    "*\n",
    "\n",
    "```\n",
    "Hints: \n",
    "* 1) use two for-loops, one for the upper triangle, one for the lower triangle\n",
    "* 2) use string multiplication to print multiple '*', for example: '*' * 4 is '****'\n"
   ]
  },
  {
   "cell_type": "markdown",
   "metadata": {
    "collapsed": true
   },
   "source": [
    "# While Loops"
   ]
  },
  {
   "cell_type": "markdown",
   "metadata": {},
   "source": [
    "## 8\n",
    "A bag of Hi-Chew costs 372.49 japanese Yen. Write a program to let the user input the number of bags of Hi-Chew and calculate the price. This program should keep running until the user input 'q' and press enter key.\n",
    "The example output of your program is as the following:\n",
    "```\n",
    "Welcome to the super Hi-Chew Calculator!\n",
    "Please input the number of bags: 10\n",
    "The total price is 3724.90\n",
    "Please input the number of bags: 27\n",
    "The total price is 10057.23\n",
    "Please input the number of bags: q\n",
    "Good Bye!\n",
    "\n",
    "```\n",
    "Make your program to output exactly like the above example. Do your best if you can't."
   ]
  },
  {
   "cell_type": "code",
   "execution_count": null,
   "metadata": {},
   "outputs": [],
   "source": []
  }
 ],
 "metadata": {
  "anaconda-cloud": {},
  "kernelspec": {
   "display_name": "Python 3",
   "language": "python",
   "name": "python3"
  },
  "language_info": {
   "codemirror_mode": {
    "name": "ipython",
    "version": 3
   },
   "file_extension": ".py",
   "mimetype": "text/x-python",
   "name": "python",
   "nbconvert_exporter": "python",
   "pygments_lexer": "ipython3",
   "version": "3.7.3"
  }
 },
 "nbformat": 4,
 "nbformat_minor": 1
}
