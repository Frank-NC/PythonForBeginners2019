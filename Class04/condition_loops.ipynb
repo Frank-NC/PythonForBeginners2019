{
 "cells": [
  {
   "cell_type": "markdown",
   "metadata": {},
   "source": [
    "# Control Flow and Loop\n",
    "\n",
    "\n",
    "In this lesson, we learn :\n",
    "* What is Boolean Type\n",
    "* How to use condition to control flow\n",
    "* How to loop\n",
    "* How to program"
   ]
  },
  {
   "cell_type": "code",
   "execution_count": 1,
   "metadata": {},
   "outputs": [
    {
     "data": {
      "text/html": [
       "<div id=\"my_id_menu_nb\">run previous cell, wait for 2 seconds</div>\n",
       "<script>\n",
       "function repeat_indent_string(n){\n",
       "    var a = \"\" ;\n",
       "    for ( ; n > 0 ; --n) {\n",
       "        a += \"    \";\n",
       "    }\n",
       "    return a;\n",
       "}\n",
       "var update_menu_string = function(begin, lfirst, llast, sformat, send, keep_item) {\n",
       "    var anchors = document.getElementsByClassName(\"section\");\n",
       "    if (anchors.length == 0) {\n",
       "        anchors = document.getElementsByClassName(\"text_cell_render rendered_html\");\n",
       "    }\n",
       "    var i,t;\n",
       "    var text_menu = begin;\n",
       "    var text_memo = \"<pre>\\nlength:\" + anchors.length + \"\\n\";\n",
       "    var ind = \"\";\n",
       "    var memo_level = 1;\n",
       "    var href;\n",
       "    var tags = [];\n",
       "    var main_item = 0;\n",
       "    for (i = 0; i <= llast; i++) {\n",
       "        tags.push(\"h\" + i);\n",
       "    }\n",
       "\n",
       "    for (i = 0; i < anchors.length; i++) {\n",
       "        text_memo += \"**\" + anchors[i].id + \"--\\n\";\n",
       "\n",
       "        var child = null;\n",
       "        for(t = 0; t < tags.length; t++) {\n",
       "            var r = anchors[i].getElementsByTagName(tags[t]);\n",
       "            if (r.length > 0) {\n",
       "child = r[0];\n",
       "break;\n",
       "            }\n",
       "        }\n",
       "        if (child == null){\n",
       "            text_memo += \"null\\n\";\n",
       "            continue;\n",
       "        }\n",
       "        if (anchors[i].hasAttribute(\"id\")) {\n",
       "            // when converted in RST\n",
       "            href = anchors[i].id;\n",
       "            text_memo += \"#1-\" + href;\n",
       "            // passer à child suivant (le chercher)\n",
       "        }\n",
       "        else if (child.hasAttribute(\"id\")) {\n",
       "            // in a notebook\n",
       "            href = child.id;\n",
       "            text_memo += \"#2-\" + href;\n",
       "        }\n",
       "        else {\n",
       "            text_memo += \"#3-\" + \"*\" + \"\\n\";\n",
       "            continue;\n",
       "        }\n",
       "        var title = child.textContent;\n",
       "        var level = parseInt(child.tagName.substring(1,2));\n",
       "\n",
       "        text_memo += \"--\" + level + \"?\" + lfirst + \"--\" + title + \"\\n\";\n",
       "\n",
       "        if ((level < lfirst) || (level > llast)) {\n",
       "            continue ;\n",
       "        }\n",
       "        if (title.endsWith('¶')) {\n",
       "            title = title.substring(0,title.length-1).replace(\"<\", \"&lt;\").replace(\">\", \"&gt;\").replace(\"&\", \"&amp;\")\n",
       "        }\n",
       "\n",
       "        if (title.length == 0) {\n",
       "            continue;\n",
       "        }\n",
       "\n",
       "        while (level < memo_level) {\n",
       "            text_menu += \"</ul>\\n\";\n",
       "            memo_level -= 1;\n",
       "        }\n",
       "        if (level == lfirst) {\n",
       "            main_item += 1;\n",
       "        }\n",
       "        if (keep_item != -1 && main_item != keep_item + 1) {\n",
       "            // alert(main_item + \" - \" + level + \" - \" + keep_item);\n",
       "            continue;\n",
       "        }\n",
       "        while (level > memo_level) {\n",
       "            text_menu += \"<ul>\\n\";\n",
       "            memo_level += 1;\n",
       "        }\n",
       "        text_menu += repeat_indent_string(level-2) + sformat.replace(\"__HREF__\", href).replace(\"__TITLE__\", title);\n",
       "    }\n",
       "    while (1 < memo_level) {\n",
       "        text_menu += \"</ul>\\n\";\n",
       "        memo_level -= 1;\n",
       "    }\n",
       "    text_menu += send;\n",
       "    //text_menu += \"\\n\" + text_memo;\n",
       "    return text_menu;\n",
       "};\n",
       "var update_menu = function() {\n",
       "    var sbegin = \"\";\n",
       "    var sformat = '<li><a href=\"#__HREF__\">__TITLE__</a></li>';\n",
       "    var send = \"\";\n",
       "    var keep_item = -1;\n",
       "    var text_menu = update_menu_string(sbegin, 2, 4, sformat, send, keep_item);\n",
       "    var menu = document.getElementById(\"my_id_menu_nb\");\n",
       "    menu.innerHTML=text_menu;\n",
       "};\n",
       "window.setTimeout(update_menu,2000);\n",
       "            </script>"
      ],
      "text/plain": [
       "<IPython.core.display.HTML object>"
      ]
     },
     "execution_count": 1,
     "metadata": {},
     "output_type": "execute_result"
    }
   ],
   "source": [
    "from jyquickhelper import add_notebook_menu\n",
    "add_notebook_menu()"
   ]
  },
  {
   "cell_type": "markdown",
   "metadata": {},
   "source": [
    "## Boolean type: True or False\n",
    "\n",
    "The Python type for storing true/false (or yes/no) values is called bool, \n",
    "named after the British mathematician, George Boole. \n",
    "\n",
    "[George Boole](https://www.wikiwand.com/en/George_Boole) created Boolean Algebra, which is the basis of all modern computer arithmetic, he also made great contributions to Differential Equations and Theory of Probability.\n"
   ]
  },
  {
   "cell_type": "code",
   "execution_count": 2,
   "metadata": {
    "collapsed": true
   },
   "outputs": [],
   "source": [
    "q1 = \"Rabbit runs faster than turtle. True or False?\" \n",
    "a1 = True\n",
    "a11 = \"True\"\n",
    "# unless rabbit sleeps"
   ]
  },
  {
   "cell_type": "code",
   "execution_count": 3,
   "metadata": {},
   "outputs": [
    {
     "data": {
      "text/plain": [
       "(bool, str)"
      ]
     },
     "execution_count": 3,
     "metadata": {},
     "output_type": "execute_result"
    }
   ],
   "source": [
    "type(a1), type(a11)"
   ]
  },
  {
   "cell_type": "code",
   "execution_count": 4,
   "metadata": {},
   "outputs": [
    {
     "data": {
      "text/plain": [
       "bool"
      ]
     },
     "execution_count": 4,
     "metadata": {},
     "output_type": "execute_result"
    }
   ],
   "source": [
    "# 电脑会思维吗？\n",
    "q2 = \"Computer can think. True or False?\"\n",
    "a2 = False\n",
    "type(a2)"
   ]
  },
  {
   "cell_type": "code",
   "execution_count": 5,
   "metadata": {},
   "outputs": [
    {
     "name": "stdout",
     "output_type": "stream",
     "text": [
      "False\n"
     ]
    }
   ],
   "source": [
    "print(a2)"
   ]
  },
  {
   "cell_type": "markdown",
   "metadata": {},
   "source": [
    "bool type has only two values: [True, False]"
   ]
  },
  {
   "cell_type": "markdown",
   "metadata": {},
   "source": [
    "### Special cases"
   ]
  },
  {
   "cell_type": "markdown",
   "metadata": {},
   "source": [
    "In python, None is a special value. It means NOTHING, null, nill."
   ]
  },
  {
   "cell_type": "code",
   "execution_count": 6,
   "metadata": {},
   "outputs": [
    {
     "data": {
      "text/plain": [
       "(False, False, True)"
      ]
     },
     "execution_count": 6,
     "metadata": {},
     "output_type": "execute_result"
    }
   ],
   "source": [
    "bool(None), bool(''), bool(\"None\")"
   ]
  },
  {
   "cell_type": "markdown",
   "metadata": {},
   "source": [
    "1 is Ture, 0 is False"
   ]
  },
  {
   "cell_type": "code",
   "execution_count": 7,
   "metadata": {},
   "outputs": [
    {
     "data": {
      "text/plain": [
       "(False, True, True)"
      ]
     },
     "execution_count": 7,
     "metadata": {},
     "output_type": "execute_result"
    }
   ],
   "source": [
    "bool(0), bool(1), bool(0.1)"
   ]
  },
  {
   "cell_type": "markdown",
   "metadata": {},
   "source": [
    "### comparison creates condition"
   ]
  },
  {
   "cell_type": "code",
   "execution_count": 8,
   "metadata": {},
   "outputs": [
    {
     "data": {
      "text/plain": [
       "bool"
      ]
     },
     "execution_count": 8,
     "metadata": {},
     "output_type": "execute_result"
    }
   ],
   "source": [
    "a = 100; b = 100\n",
    "condition1 = (a == b)\n",
    "type(condition1)"
   ]
  },
  {
   "cell_type": "code",
   "execution_count": 9,
   "metadata": {},
   "outputs": [
    {
     "name": "stdout",
     "output_type": "stream",
     "text": [
      "True\n"
     ]
    }
   ],
   "source": [
    "print(condition1)"
   ]
  },
  {
   "cell_type": "code",
   "execution_count": 10,
   "metadata": {
    "collapsed": true
   },
   "outputs": [],
   "source": [
    "c2 = a > b\n",
    "c3 = a < b\n",
    "c4 = (a != b)\n",
    "c5 = (a >= b)\n",
    "c6 = (a <= b)"
   ]
  },
  {
   "cell_type": "code",
   "execution_count": 11,
   "metadata": {},
   "outputs": [
    {
     "name": "stdout",
     "output_type": "stream",
     "text": [
      "False False False True True\n"
     ]
    }
   ],
   "source": [
    "print(c2, c3, c4, c5, c6)"
   ]
  },
  {
   "cell_type": "markdown",
   "metadata": {},
   "source": [
    "### \"False\" is True"
   ]
  },
  {
   "cell_type": "code",
   "execution_count": 12,
   "metadata": {},
   "outputs": [
    {
     "name": "stdout",
     "output_type": "stream",
     "text": [
      "False\n"
     ]
    }
   ],
   "source": [
    "s1 = \"False\"\n",
    "print(s1)"
   ]
  },
  {
   "cell_type": "code",
   "execution_count": 13,
   "metadata": {},
   "outputs": [
    {
     "name": "stdout",
     "output_type": "stream",
     "text": [
      "False\n"
     ]
    }
   ],
   "source": [
    "b1 = False\n",
    "print(b1)"
   ]
  },
  {
   "cell_type": "code",
   "execution_count": 14,
   "metadata": {},
   "outputs": [
    {
     "data": {
      "text/plain": [
       "(str, bool)"
      ]
     },
     "execution_count": 14,
     "metadata": {},
     "output_type": "execute_result"
    }
   ],
   "source": [
    "type(s1), type(b1)"
   ]
  },
  {
   "cell_type": "code",
   "execution_count": 15,
   "metadata": {},
   "outputs": [
    {
     "data": {
      "text/plain": [
       "True"
      ]
     },
     "execution_count": 15,
     "metadata": {},
     "output_type": "execute_result"
    }
   ],
   "source": [
    "bool(s1)"
   ]
  },
  {
   "cell_type": "code",
   "execution_count": 16,
   "metadata": {},
   "outputs": [
    {
     "data": {
      "text/plain": [
       "False"
      ]
     },
     "execution_count": 16,
     "metadata": {},
     "output_type": "execute_result"
    }
   ],
   "source": [
    "bool(False)"
   ]
  },
  {
   "cell_type": "markdown",
   "metadata": {},
   "source": [
    "### logic operation: and, or, not\n",
    "\n"
   ]
  },
  {
   "cell_type": "code",
   "execution_count": 17,
   "metadata": {},
   "outputs": [
    {
     "name": "stdout",
     "output_type": "stream",
     "text": [
      "True True True True False\n"
     ]
    }
   ],
   "source": [
    "x = 1\n",
    "y = 22\n",
    "z = 333\n",
    "c7 = (x < y)\n",
    "c8 = (y < z)\n",
    "c9 = c7 and c8\n",
    "c10 = c7 or c8\n",
    "c11 = not c7\n",
    "print(c7, c8, c9, c10, c11)"
   ]
  },
  {
   "cell_type": "markdown",
   "metadata": {},
   "source": [
    "### data-structure summary\n",
    "\n",
    "below is a list of basic python data structures we have learned"
   ]
  },
  {
   "cell_type": "markdown",
   "metadata": {},
   "source": [
    "<table> \n",
    "<tr> \n",
    "<th>Data Type </th> <th> Type Name </th> <th> Example </th>\n",
    "<tr> \n",
    "\n",
    "<tr> \n",
    "<td>Boolean </td> <td> bool </td> <td> True, False </td>\n",
    "<tr> \n",
    "\n",
    "<tr> \n",
    "<td>Integer </td> <td> int </td> <td> 1, 100, 123 </td>\n",
    "<tr> \n",
    "\n",
    "<tr> \n",
    "<td>Real number </td> <td> float </td> <td> 3.14159, 1.0e3 </td>\n",
    "<tr> \n",
    "\n",
    "<tr> \n",
    "<td>Text or String </td> <td> str </td> <td> 'Hello', \"你好\" </td>\n",
    "<tr> \n",
    "\n",
    "<tr> \n",
    "<td>List </td> <td> list </td> <td> [1,2,3, \"A\", \"B\", \"C\"] </td>\n",
    "<tr> \n",
    "\n",
    "<tr> \n",
    "<td>Tuple </td> <td> tuple </td> <td> (100,200,300) </td>\n",
    "<tr> \n",
    "\n",
    "<tr> \n",
    "<td>Set </td> <td> set </td> <td> {100,200,300} </td>\n",
    "<tr> \n",
    "\n",
    "<tr> \n",
    "<td>Dictionary, Map, Table </td> <td> dict </td> <td> {1001: \"John\", 1002: \"Jane\"} </td>\n",
    "<tr> \n",
    "\n",
    "\n",
    "\n",
    "</table>"
   ]
  },
  {
   "cell_type": "markdown",
   "metadata": {},
   "source": [
    "Later on, we will learn how to design our own data structure using class/object"
   ]
  },
  {
   "cell_type": "code",
   "execution_count": 18,
   "metadata": {},
   "outputs": [
    {
     "data": {
      "text/plain": [
       "dict"
      ]
     },
     "execution_count": 18,
     "metadata": {},
     "output_type": "execute_result"
    }
   ],
   "source": [
    "a = {1001: \"John\", 1002: \"Jane\"}\n",
    "type(a)"
   ]
  },
  {
   "cell_type": "markdown",
   "metadata": {},
   "source": [
    "## If-elif-else"
   ]
  },
  {
   "cell_type": "markdown",
   "metadata": {},
   "source": [
    "Condition ==> Decision-making ==> Action\n"
   ]
  },
  {
   "cell_type": "markdown",
   "metadata": {},
   "source": [
    "<font color=red>__Note__</font>: read Chapter 5 of \"Python for Kids\" textbook which has a very good explanation"
   ]
  },
  {
   "cell_type": "markdown",
   "metadata": {},
   "source": [
    "### if statement"
   ]
  },
  {
   "cell_type": "markdown",
   "metadata": {},
   "source": [
    "<font color=red>__Indent__</font> is unique and critical feature in python\n",
    "\n",
    "Many people uses 4 whitespaces for indent, but no fixed rule. 2 or 8 spaces are ok. The key is to make your codes humanly readable"
   ]
  },
  {
   "cell_type": "code",
   "execution_count": 19,
   "metadata": {},
   "outputs": [
    {
     "name": "stdout",
     "output_type": "stream",
     "text": [
      "Your age is  12\n",
      "You are not a teenager yet\n"
     ]
    }
   ],
   "source": [
    "your_age = 12\n",
    "if your_age < 13:\n",
    "    print('Your age is ', your_age)\n",
    "    print('You are not a teenager yet')"
   ]
  },
  {
   "cell_type": "markdown",
   "metadata": {},
   "source": [
    "### if-else statement"
   ]
  },
  {
   "cell_type": "code",
   "execution_count": 20,
   "metadata": {},
   "outputs": [
    {
     "name": "stdout",
     "output_type": "stream",
     "text": [
      "Your age is  13\n",
      "You are a teenager\n"
     ]
    }
   ],
   "source": [
    "your_age = 13\n",
    "if your_age < 13:\n",
    "    print('Your age is ', your_age)\n",
    "    print('You are a baby')\n",
    "else:\n",
    "    print('Your age is ', your_age)\n",
    "    print('You are a teenager')\n"
   ]
  },
  {
   "cell_type": "markdown",
   "metadata": {},
   "source": [
    "condition in else branch is implied, i.e., not if condition"
   ]
  },
  {
   "cell_type": "markdown",
   "metadata": {},
   "source": [
    "### if-elif-else statement"
   ]
  },
  {
   "cell_type": "code",
   "execution_count": 21,
   "metadata": {},
   "outputs": [
    {
     "name": "stdout",
     "output_type": "stream",
     "text": [
      "Your age is  21\n",
      "You are an adult\n"
     ]
    }
   ],
   "source": [
    "your_age = 21\n",
    "if your_age < 13:\n",
    "    print('Your age is ', your_age)\n",
    "    print('You are a baby')\n",
    "elif your_age < 18:\n",
    "    print('Your age is ', your_age)\n",
    "    print('You are a teenager')\n",
    "else:\n",
    "    print('Your age is ', your_age)\n",
    "    print('You are an adult')\n"
   ]
  },
  {
   "cell_type": "markdown",
   "metadata": {},
   "source": [
    "### nested if-else statement"
   ]
  },
  {
   "cell_type": "code",
   "execution_count": 22,
   "metadata": {},
   "outputs": [
    {
     "name": "stdout",
     "output_type": "stream",
     "text": [
      "Your age is  21\n",
      "You are a woman\n"
     ]
    }
   ],
   "source": [
    "your_age = 21\n",
    "gender = \"Female\"\n",
    "\n",
    "if your_age < 13:\n",
    "    print('Your age is ', your_age)\n",
    "    \n",
    "    if gender == 'Male':\n",
    "        print('You are a baby boy')\n",
    "    else:\n",
    "        print('You are a baby girl')\n",
    "        \n",
    "elif your_age < 18:\n",
    "    print('Your age is ', your_age)\n",
    "    if gender == 'Male':\n",
    "        print('You are a teenager boy')\n",
    "    else:\n",
    "        print('You are a teenager girl')\n",
    "else:\n",
    "    print('Your age is ', your_age)\n",
    "    if gender == 'Male':\n",
    "        print('You are a man')\n",
    "    else:\n",
    "        print('You are a woman')"
   ]
  },
  {
   "cell_type": "markdown",
   "metadata": {
    "collapsed": true
   },
   "source": [
    "## Loop"
   ]
  },
  {
   "cell_type": "markdown",
   "metadata": {},
   "source": [
    "### Examples\n",
    "\n",
    "A few examples of looping\n",
    "* apple headquarter \n",
    "* computer operating system\n",
    "* smart phone\n",
    "* event loop for game, GUI\n",
    "* web site\n",
    "* our daily-routine\n",
    "* Moon orbiting Earth, Earth around Sun, Sun moving in Milky Way\n",
    "* four seasons"
   ]
  },
  {
   "cell_type": "markdown",
   "metadata": {},
   "source": [
    "### for loop\n",
    "\n",
    "* <font color=red>__for__</font> is a keyword for looping, \n",
    "* repeat within the loop\n",
    "* usually iteration over a finite set\n"
   ]
  },
  {
   "cell_type": "markdown",
   "metadata": {},
   "source": [
    "#### range() - a useful function to build a number list"
   ]
  },
  {
   "cell_type": "code",
   "execution_count": 25,
   "metadata": {
    "collapsed": true
   },
   "outputs": [],
   "source": [
    "number_list = range(10)"
   ]
  },
  {
   "cell_type": "code",
   "execution_count": 26,
   "metadata": {},
   "outputs": [
    {
     "name": "stdout",
     "output_type": "stream",
     "text": [
      "range(0, 10)\n"
     ]
    }
   ],
   "source": [
    "print(number_list)"
   ]
  },
  {
   "cell_type": "code",
   "execution_count": 27,
   "metadata": {},
   "outputs": [
    {
     "name": "stdout",
     "output_type": "stream",
     "text": [
      "n=  0\n",
      "n=  1\n",
      "n=  2\n",
      "n=  3\n",
      "n=  4\n",
      "n=  5\n",
      "n=  6\n",
      "n=  7\n",
      "n=  8\n",
      "n=  9\n"
     ]
    }
   ],
   "source": [
    "for n in number_list:\n",
    "    print(\"n= \", n)"
   ]
  },
  {
   "cell_type": "code",
   "execution_count": 28,
   "metadata": {},
   "outputs": [
    {
     "name": "stdout",
     "output_type": "stream",
     "text": [
      "n=  10\n",
      "n=  30\n",
      "n=  50\n",
      "n=  70\n",
      "n=  90\n"
     ]
    }
   ],
   "source": [
    "number_list_2 = range(10, 100, 20)\n",
    "# 10 is starting number\n",
    "# 100 is the ending number\n",
    "# 20 is the stride (or step)\n",
    "\n",
    "for n in number_list_2:\n",
    "    print(\"n= \", n)"
   ]
  },
  {
   "cell_type": "code",
   "execution_count": 38,
   "metadata": {},
   "outputs": [
    {
     "name": "stdout",
     "output_type": "stream",
     "text": [
      "loop counter = 1\n",
      "\t\tkey= England\n",
      "loop counter = 2\n",
      "\t\tkey= France\n",
      "loop counter = 3\n",
      "\t\tkey= India\n",
      "loop counter = 4\n",
      "\t\tkey= USA\n",
      "loop counter = 5\n",
      "\t\tkey= China\n",
      "loop counter = 6\n",
      "\t\tkey= Japan\n",
      "loop counter = 7\n",
      "\t\tkey= Germany\n"
     ]
    }
   ],
   "source": [
    "# how to track loop - use a counter\n",
    "\n",
    "# initialize the counter before loop starts\n",
    "n = 0 \n",
    "for item in dict1:\n",
    "    n = n + 1  # increment counter by 1\n",
    "    print('loop counter = %d' % n)\n",
    "    print('\\t\\tkey=', item)"
   ]
  },
  {
   "cell_type": "markdown",
   "metadata": {
    "collapsed": true
   },
   "source": [
    "### while loop\n",
    "\n",
    "* usually for an infinite loop"
   ]
  },
  {
   "cell_type": "markdown",
   "metadata": {},
   "source": [
    "#### how to create an infinite loop"
   ]
  },
  {
   "cell_type": "markdown",
   "metadata": {},
   "source": [
    "```\n",
    "while True:\n",
    "    print(\"looping forever\")\n",
    "```"
   ]
  },
  {
   "cell_type": "code",
   "execution_count": 40,
   "metadata": {},
   "outputs": [
    {
     "name": "stdout",
     "output_type": "stream",
     "text": [
      "0  is an even number\n",
      "2  is an even number\n",
      "4  is an even number\n",
      "6  is an even number\n",
      "8  is an even number\n",
      "10  is an even number\n",
      "12  is an even number\n",
      "14  is an even number\n",
      "16  is an even number\n",
      "18  is an even number\n"
     ]
    }
   ],
   "source": [
    "# list even number less than 20\n",
    "n1 = 0\n",
    "while n1 < 20:\n",
    "    if n1 % 2 == 0:\n",
    "        print(n1, ' is an even number')\n",
    "    else:\n",
    "        pass       # pass means pass, does nothing\n",
    "    n1 = n1+1"
   ]
  },
  {
   "cell_type": "markdown",
   "metadata": {
    "collapsed": true
   },
   "source": [
    "### how to control an infinite loop\n",
    "\n",
    "* break\n",
    "* continue"
   ]
  },
  {
   "cell_type": "markdown",
   "metadata": {},
   "source": [
    "#### random number generator"
   ]
  },
  {
   "cell_type": "code",
   "execution_count": 41,
   "metadata": {},
   "outputs": [
    {
     "name": "stdout",
     "output_type": "stream",
     "text": [
      "You picked number:  531\n"
     ]
    }
   ],
   "source": [
    "from random import randint\n",
    "# pick a number between 0 and 1000 randomly\n",
    "a_random_int = randint(0,1000)\n",
    "print('You picked number: ', a_random_int)"
   ]
  },
  {
   "cell_type": "code",
   "execution_count": 42,
   "metadata": {},
   "outputs": [
    {
     "name": "stdout",
     "output_type": "stream",
     "text": [
      "272\n",
      "844\n",
      "202\n",
      "364\n",
      "197\n",
      "187\n",
      "697\n",
      "130\n",
      "920\n",
      "746\n",
      "968\n",
      "608\n",
      "210\n",
      "28\n",
      "914\n",
      "951\n",
      "128\n",
      "971\n",
      "633\n",
      "542\n",
      "413\n",
      "53\n",
      "49\n",
      "902\n",
      "986\n",
      "995\n",
      "671\n",
      "318\n",
      "47\n",
      "378\n",
      "\tCongratulation!  you picked a 9-multiple\n"
     ]
    }
   ],
   "source": [
    "while True:  # this is an infinite loop\n",
    "    your_number_pick = randint(0,1000)\n",
    "    print(your_number_pick)\n",
    "    if your_number_pick % 9 == 0:\n",
    "        print('\\tCongratulation!  you picked a 9-multiple')\n",
    "        break"
   ]
  },
  {
   "cell_type": "markdown",
   "metadata": {},
   "source": [
    "#### a little lottory app \n",
    "Find a number which is multiple of 'my_lucky_number'"
   ]
  },
  {
   "cell_type": "code",
   "execution_count": 2,
   "metadata": {},
   "outputs": [
    {
     "name": "stdout",
     "output_type": "stream",
     "text": [
      "[001]   251\n",
      "[002]   681\n",
      "[003]   505\n",
      "[004]   474\n",
      "[005]   433\n",
      "[006]   966\n",
      "\n",
      "*** Good Luck ***  You got a 7-multiple which is 966\n"
     ]
    }
   ],
   "source": [
    "from random import randint\n",
    "\n",
    "my_lucky_number = 7\n",
    "l_counter = 0\n",
    "while True:           # this is an infinite loop\n",
    "    your_number_pick = randint(0,1000)\n",
    "    l_counter = l_counter + 1\n",
    "    print(\"[%03d] %5d\" % (l_counter,your_number_pick))\n",
    "    if your_number_pick % my_lucky_number == 0:\n",
    "        print('\\n*** Good Luck ***  You got a %d-multiple which is %d' % (my_lucky_number,your_number_pick))\n",
    "        break         # will terminate the infinite loop\n",
    "    else:\n",
    "        continue      # go on forever"
   ]
  }
 ],
 "metadata": {
  "anaconda-cloud": {},
  "kernelspec": {
   "display_name": "Python 3",
   "language": "python",
   "name": "python3"
  },
  "language_info": {
   "codemirror_mode": {
    "name": "ipython",
    "version": 3
   },
   "file_extension": ".py",
   "mimetype": "text/x-python",
   "name": "python",
   "nbconvert_exporter": "python",
   "pygments_lexer": "ipython3",
   "version": "3.7.3"
  }
 },
 "nbformat": 4,
 "nbformat_minor": 1
}
