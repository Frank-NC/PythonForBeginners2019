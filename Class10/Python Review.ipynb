{
 "cells": [
  {
   "cell_type": "markdown",
   "metadata": {},
   "source": [
    "## Python Review Cheat Sheet"
   ]
  },
  {
   "cell_type": "markdown",
   "metadata": {},
   "source": [
    "### Python Arithmetic Operators\n",
    "\n",
    "<img src=../images/arithmatic-operators.PNG width=80%>\n"
   ]
  },
  {
   "cell_type": "markdown",
   "metadata": {},
   "source": [
    "### Python Variable Assignment:\n",
    "```\n",
    "a = 2\n",
    "a, b = 2, 3\n",
    "x, y = y, x\n",
    "```"
   ]
  },
  {
   "cell_type": "markdown",
   "metadata": {},
   "source": [
    "### Using a variable as a counter\n",
    "```\n",
    "a = a + 2\n",
    "a += 2\n",
    "\n",
    "```"
   ]
  },
  {
   "cell_type": "markdown",
   "metadata": {},
   "source": [
    "### Print with Format\n",
    "\n",
    "Placeholders:\n",
    "* %d integer\n",
    "* %f float\n",
    "* %s string\n",
    "\n",
    "Examples:"
   ]
  },
  {
   "cell_type": "code",
   "execution_count": 24,
   "metadata": {},
   "outputs": [
    {
     "name": "stdout",
     "output_type": "stream",
     "text": [
      "please type your nameP: larry\n",
      "How old are you? 144\n",
      "larry's age is 144 months\n"
     ]
    }
   ],
   "source": [
    "#Get Keyboard Input\n",
    "name = input('please type your nameP: ')\n",
    "age = int(input('How old are you? '))\n",
    "print('%s\\'s age is %d months'%(name, age))"
   ]
  },
  {
   "cell_type": "code",
   "execution_count": 18,
   "metadata": {},
   "outputs": [
    {
     "name": "stdout",
     "output_type": "stream",
     "text": [
      "PI is 3.141593\n",
      "PI is 3.14\n",
      "PI is 3.142\n",
      "PI is  3.142\n",
      "PI is   3.142\n",
      "R is 5, Area is 78.540\n",
      "R is 5, Area is  78.540\n"
     ]
    }
   ],
   "source": [
    "pi = 3.1415926535\n",
    "print(\"PI is %f\" % pi)\n",
    "print(\"PI is %.2f\" %pi)\n",
    "print(\"PI is %5.3f\" % pi)\n",
    "print(\"PI is %6.3f\" % pi)\n",
    "print(\"PI is %7.3f\" % pi)\n",
    "\n",
    "r = 5\n",
    "area = r*r*pi\n",
    "print(\"R is %d, Area is %.3f\"% (r, area))\n",
    "print(\"R is %d, Area is %7.3f\"% (r, area))\n"
   ]
  },
  {
   "cell_type": "code",
   "execution_count": 3,
   "metadata": {},
   "outputs": [
    {
     "name": "stdout",
     "output_type": "stream",
     "text": [
      "123\n",
      "45678\n",
      "  123\n",
      "45678\n"
     ]
    }
   ],
   "source": [
    "a = 123\n",
    "b = 45678\n",
    "print(a)\n",
    "print(b)\n",
    "\n",
    "# %5d means fill the number with space if it is less than 5 digits\n",
    "print(\"%5d\"%a)\n",
    "\n",
    "# if a variable has more digits than %xd defined, print number as is (do nothing).\n",
    "print(\"%3d\"%b)"
   ]
  },
  {
   "cell_type": "markdown",
   "metadata": {},
   "source": [
    "### Python String\n",
    "\n",
    "Defined by single, double or triple quote marks: \n",
    "\n",
    "```\n",
    "name = \"Frank\"\n",
    "name = 'Larry'\n",
    "\n",
    "```\n",
    "\n"
   ]
  },
  {
   "cell_type": "code",
   "execution_count": 5,
   "metadata": {},
   "outputs": [
    {
     "name": "stdout",
     "output_type": "stream",
     "text": [
      " King's Avatar(\"A.K.A\"全职高手)\n"
     ]
    }
   ],
   "source": [
    "# use triple quote marks to include single or double quote marks in a string\n",
    "name = ''' King's Avatar(\"A.K.A\"全职高手)'''\n",
    "print(name)"
   ]
  },
  {
   "cell_type": "markdown",
   "metadata": {},
   "source": [
    "### The whitespace\n",
    "\n",
    "The term \"whitespace\" refers to characters that the computer is aware of, but are invisible to human. \n",
    "```\n",
    "\\t\n",
    "\\n\n",
    "\"\" or ''\n",
    "```"
   ]
  },
  {
   "cell_type": "code",
   "execution_count": 26,
   "metadata": {},
   "outputs": [
    {
     "name": "stdout",
     "output_type": "stream",
     "text": [
      "Twinkle, twinkle, little star, \n",
      "\tHow I wonder what you are!\n"
     ]
    }
   ],
   "source": [
    "print(\"Twinkle, twinkle, little star, \\n\\tHow I wonder what you are!\")"
   ]
  },
  {
   "cell_type": "markdown",
   "metadata": {},
   "source": [
    "### String Escaping\n",
    "String Escaping is to prevent certain characters being used as a part of the coding language, and have them be represented correctly in the string itself.\n",
    "Characters that need excaption: \", ', \\\n"
   ]
  },
  {
   "cell_type": "code",
   "execution_count": 2,
   "metadata": {},
   "outputs": [
    {
     "name": "stdout",
     "output_type": "stream",
     "text": [
      "String escaption can be applied to character \", ', and \\\n"
     ]
    }
   ],
   "source": [
    "msg = \"String escaption can be applied to character \\\", \\', and \\\\\"\n",
    "print(msg)"
   ]
  },
  {
   "cell_type": "markdown",
   "metadata": {},
   "source": [
    "### Useful String Methods"
   ]
  },
  {
   "cell_type": "markdown",
   "metadata": {},
   "source": [
    "```\n",
    "Strip() remove space from the beginning and end of the string.\n",
    "\n",
    "len() get string length\n",
    "\n",
    "find() search string in a string\n",
    "count() count the times a substring appears in the string\n",
    "\n",
    "split() parse the string with a given seperator\n",
    "\n",
    "upper() to upper case\n",
    "lower() to lower case\n",
    "title() capitalize the first character of each word\n",
    "replace()  replace a substring with another string\n",
    "\n",
    "in:\n",
    "    when used with if: if \"br\" in \"brother\":\n",
    "    when used with for: for c in \"brother\":\n",
    "not in\n",
    "\n",
    "```"
   ]
  },
  {
   "cell_type": "code",
   "execution_count": 31,
   "metadata": {},
   "outputs": [
    {
     "name": "stdout",
     "output_type": "stream",
     "text": [
      "2\n"
     ]
    }
   ],
   "source": [
    "song = \"Twinkle, twinkle, little star, \\n\\tHow I wonder what you are!\"\n",
    "print(song.lower().count('twin'))\n",
    "\n"
   ]
  },
  {
   "cell_type": "markdown",
   "metadata": {},
   "source": [
    "### String Operations\n",
    "* Concatenate (join) strings: +\n",
    "* Repeat: *\n"
   ]
  },
  {
   "cell_type": "code",
   "execution_count": 6,
   "metadata": {},
   "outputs": [
    {
     "name": "stdout",
     "output_type": "stream",
     "text": [
      "JohnSmith\n",
      "*****\n"
     ]
    }
   ],
   "source": [
    "last_name = \"Smith\"\n",
    "first_name = \"John\"\n",
    "full_name = first_name + last_name\n",
    "print(full_name)\n",
    "\n",
    "star = \"*\"\n",
    "stars = star*5\n",
    "print(stars)"
   ]
  },
  {
   "cell_type": "markdown",
   "metadata": {},
   "source": [
    "### String is a special list\n",
    "Access characters in the string using a position index:\n"
   ]
  },
  {
   "cell_type": "code",
   "execution_count": 7,
   "metadata": {},
   "outputs": [
    {
     "name": "stdout",
     "output_type": "stream",
     "text": [
      "M\n"
     ]
    }
   ],
   "source": [
    "msg = \"Good Morning!\"\n",
    "m = msg[5]\n",
    "print(m)"
   ]
  },
  {
   "cell_type": "markdown",
   "metadata": {},
   "source": [
    "### Reverse a String\n",
    "String itself does not have reverse function."
   ]
  },
  {
   "cell_type": "code",
   "execution_count": 11,
   "metadata": {},
   "outputs": [
    {
     "name": "stdout",
     "output_type": "stream",
     "text": [
      "Python\n"
     ]
    }
   ],
   "source": [
    "msg = \"nohtyP\"\n",
    "\n",
    "s = ''\n",
    "for w in msg:\n",
    "    s =  w + s\n",
    "print(s)"
   ]
  },
  {
   "cell_type": "markdown",
   "metadata": {},
   "source": [
    "### String Slice Operation\n",
    "\n",
    "By using two numbers seperated by ':', define a starting index and an ending index, to extract a sub-string.\n",
    "\n",
    "Note: the ending index is not included in the sub-string"
   ]
  },
  {
   "cell_type": "code",
   "execution_count": 10,
   "metadata": {},
   "outputs": [
    {
     "name": "stdout",
     "output_type": "stream",
     "text": [
      "Good\n",
      "-\n"
     ]
    }
   ],
   "source": [
    "# Slice Operation\n",
    "\n",
    "msg = \"Good-Morning!\"\n",
    "w = msg[0:4]\n",
    "print(w)\n",
    "print(msg[4])\n"
   ]
  },
  {
   "cell_type": "markdown",
   "metadata": {},
   "source": [
    "### Python Data Types\n",
    "\n",
    "<img src=../images/data-types.PNG width=80%>"
   ]
  },
  {
   "cell_type": "markdown",
   "metadata": {},
   "source": [
    "Data Types Functions\n",
    "\n",
    "```\n",
    "get the data type:\n",
    "    type()\n",
    "\n",
    "convert to data type:\n",
    "    str(), int(), float()\n",
    "\n",
    "```\n"
   ]
  },
  {
   "cell_type": "markdown",
   "metadata": {},
   "source": [
    "### Condition and if statement\n",
    "\n",
    "<img src=../images/condition-if.PNG width=80%>\n",
    "\n",
    "```\n",
    "if\n",
    "elif\n",
    "else\n",
    "\n",
    "and\n",
    "or\n",
    "not\n",
    "```"
   ]
  },
  {
   "cell_type": "markdown",
   "metadata": {},
   "source": [
    "### For Loop\n",
    "For loop has two forms:\n",
    "```\n",
    "1) works with range()\n",
    "for i in range(10):\n",
    "\n",
    "2) works with a list/string\n",
    "days = ['Monday', 'Tuesday']\n",
    "for x in days:\n",
    "\n",
    "text = \"Python is easy\"\n",
    "for c in text:\n",
    "\n",
    "```"
   ]
  },
  {
   "cell_type": "markdown",
   "metadata": {},
   "source": [
    "### for... else:\n",
    "```\n",
    "for i in range(10):\n",
    "\n",
    "else\n",
    "```"
   ]
  },
  {
   "cell_type": "markdown",
   "metadata": {},
   "source": [
    "### Continue and Break\n",
    "\n",
    "Continue: jump to the next iteration of the loop\n",
    "\n",
    "Break: exit the loop"
   ]
  },
  {
   "cell_type": "markdown",
   "metadata": {},
   "source": [
    "### The range() function\n",
    "```\n",
    "range(start, end, step)\n",
    "\n",
    "range(5)\n",
    "range(-1, 5, 1)\n",
    "range(5, 0, -1)\n",
    "\n",
    "```"
   ]
  },
  {
   "cell_type": "markdown",
   "metadata": {},
   "source": [
    "### While loop\n",
    "If you use \"while True:\", to avoid infinite loop, make sure you setup a loop exit condition."
   ]
  },
  {
   "cell_type": "code",
   "execution_count": 2,
   "metadata": {},
   "outputs": [
    {
     "name": "stdout",
     "output_type": "stream",
     "text": [
      "*\n",
      "**\n",
      "***\n",
      "****\n",
      "*****\n"
     ]
    }
   ],
   "source": [
    "num = 1\n",
    "while True:\n",
    "    print('*'*num)\n",
    "    num = num + 1\n",
    "    # exit condition below\n",
    "    if num > 5:\n",
    "        break"
   ]
  },
  {
   "cell_type": "markdown",
   "metadata": {},
   "source": [
    "### Python List\n",
    "\n",
    "* len():     the length of the list\n",
    "* index():   find an item's location\n",
    "* in:        check existence\n",
    "* append():  add more items from the back\n",
    "* insert():  add item at a given position\n",
    "* my_list = []:  empty a list\n",
    "* my_list.clear(): empty a list\n",
    "* sort():\t sort a list\n",
    "* reverse(): reverse a list\n",
    "* extend():  extend (join) two lists\n",
    "* del:       removing items from list\n",
    "* pop():     removing from the back of a list\n",
    "* range():   create a list with numbers\n",
    "* enumerate(): return both index and item in the list, one by one\n",
    "\n",
    "To get the details of the above functions, there are many online tutorials.\n",
    "Written tutorials:\n",
    "* https://www.w3schools.com/python/python_lists.asp\n",
    "* https://www.tutorialspoint.com/python/python_lists.htm\n",
    "\n",
    "Video tutorial\n",
    "* https://youtu.be/ohCDWZgNIU0\n"
   ]
  },
  {
   "cell_type": "markdown",
   "metadata": {},
   "source": [
    "### Create a list and set the same initial value to every item"
   ]
  },
  {
   "cell_type": "code",
   "execution_count": 12,
   "metadata": {},
   "outputs": [
    {
     "name": "stdout",
     "output_type": "stream",
     "text": [
      "[True, True, True, True, True, True, True, True, True, True]\n"
     ]
    }
   ],
   "source": [
    "group = [True]*10\n",
    "print(group)"
   ]
  },
  {
   "cell_type": "markdown",
   "metadata": {},
   "source": [
    "### Initial an empty list"
   ]
  },
  {
   "cell_type": "code",
   "execution_count": null,
   "metadata": {},
   "outputs": [],
   "source": [
    "names = []"
   ]
  }
 ],
 "metadata": {
  "kernelspec": {
   "display_name": "Python 3",
   "language": "python",
   "name": "python3"
  },
  "language_info": {
   "codemirror_mode": {
    "name": "ipython",
    "version": 3
   },
   "file_extension": ".py",
   "mimetype": "text/x-python",
   "name": "python",
   "nbconvert_exporter": "python",
   "pygments_lexer": "ipython3",
   "version": "3.7.3"
  }
 },
 "nbformat": 4,
 "nbformat_minor": 2
}
