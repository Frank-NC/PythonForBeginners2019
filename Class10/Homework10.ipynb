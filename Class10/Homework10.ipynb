{
 "cells": [
  {
   "cell_type": "markdown",
   "metadata": {},
   "source": [
    "## Homework 10"
   ]
  },
  {
   "cell_type": "markdown",
   "metadata": {},
   "source": [
    "### 1\n",
    "Write a Python function to multiply all the numbers in a list. \n",
    "* function name:  list_mul\n",
    "* function input parameter: a python list\n",
    "* funciton output: a number represeting the result by multiplying each of the items in the list\n",
    "* Sample List : (8, 2, 3, -1, 7)\n",
    "* Expected Output : -336"
   ]
  },
  {
   "cell_type": "markdown",
   "metadata": {},
   "source": [
    "### 2\n",
    "Write a Python function to check whether a number is in a given range of 18 to 65.\n",
    "\n",
    "* function name:  is_in_range\n",
    "* function input parameter: a number\n",
    "* funciton output: True if the number is between 18 and 65 inclusively.\n",
    "* Sample input: 17, sample output: False\n",
    "* Sample output: 25, sample output: True\n",
    "\n"
   ]
  },
  {
   "cell_type": "markdown",
   "metadata": {},
   "source": [
    "### 3\n",
    "Write a Python function that accepts a string and calculate the number of upper case letters and lower case letters\n",
    "\n",
    "* function name:  string_count\n",
    "* function input parameter: a string\n",
    "* funciton output: number of upper case letters, number of lower case letters, ignore space in the string\n",
    "* Sample input: \"Python Is Very Cool\"\n",
    "* Sample output: 4, 12"
   ]
  },
  {
   "cell_type": "markdown",
   "metadata": {},
   "source": [
    "### 4\n",
    "Write a Python program to return a list with only the even numbers from a given list.\n",
    "\n",
    "* function name: get_event_numbers\n",
    "* function input parameter: a list of poistive integers\n",
    "* funciton output: a list with only the event numbers in the input list\n",
    "* Sample input: [11, 15, 24, 80, 8, 12, 17 6]\n",
    "* Sample output: [24, 80, 8, 12, 6]"
   ]
  },
  {
   "cell_type": "markdown",
   "metadata": {},
   "source": [
    "### 5\n",
    "Write a Python function to merge two Python dictionaries.\n",
    "* function name: dict_merge\n",
    "* function input parameter: two dictionaries\n",
    "* funciton output: a new dictionary that contains all of the items (keys and values) from both input dictionaries.\n",
    "* Sample input: \n",
    "*     dict1: {'English':'A', 'Chinese':'B+', 'US History':'A-'} \n",
    "*     dict2: {'Physics':'A','Biology':'B','PE':'A+'}\n",
    "* Sample output: \n",
    "```\n",
    "{'English':'A', 'Chinese':'B+', 'US History':'A-', 'Physics':'A','Biology':'B','PE':'A+'}\n",
    "```\n",
    "\n",
    "Hint: please go through our previous class presetations for more information about dictionary"
   ]
  },
  {
   "cell_type": "code",
   "execution_count": null,
   "metadata": {},
   "outputs": [],
   "source": []
  }
 ],
 "metadata": {
  "kernelspec": {
   "display_name": "Python 3",
   "language": "python",
   "name": "python3"
  },
  "language_info": {
   "codemirror_mode": {
    "name": "ipython",
    "version": 3
   },
   "file_extension": ".py",
   "mimetype": "text/x-python",
   "name": "python",
   "nbconvert_exporter": "python",
   "pygments_lexer": "ipython3",
   "version": "3.7.3"
  }
 },
 "nbformat": 4,
 "nbformat_minor": 2
}
