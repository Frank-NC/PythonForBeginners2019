{
 "cells": [
  {
   "cell_type": "markdown",
   "metadata": {},
   "source": [
    "### Function\n",
    "\n",
    "Function a named block of python statements. It has the following parts:\n",
    "\n",
    "* keyword __<font color=red>def</font>__ defines a function;\n",
    "* function has a name: it should be meanful;\n",
    "* function may have input parameters, e.g. start,stop, stride\n",
    "* function has a body, which implements functionality of the function\n",
    "* function can return data as a result\n"
   ]
  },
  {
   "cell_type": "code",
   "execution_count": null,
   "metadata": {},
   "outputs": [],
   "source": []
  },
  {
   "cell_type": "code",
   "execution_count": 35,
   "metadata": {},
   "outputs": [
    {
     "name": "stdout",
     "output_type": "stream",
     "text": [
      "Hello from a function\n"
     ]
    }
   ],
   "source": [
    "# function demo\n",
    "def hello_function():\n",
    "    print(\"Hello from a function\")\n",
    "\n",
    "# call a function\n",
    "hello_function()"
   ]
  },
  {
   "cell_type": "markdown",
   "metadata": {},
   "source": [
    "### Function input parameters\n",
    "\n",
    "Information can be passed to functions as parameter.\n",
    "\n",
    "Parameters are specified after the function name, inside the parentheses. You can add as many parameters as you want, just separate them with a comma.\n",
    "\n",
    "The order of the input parameters in function definition is important"
   ]
  },
  {
   "cell_type": "code",
   "execution_count": 2,
   "metadata": {},
   "outputs": [
    {
     "name": "stdout",
     "output_type": "stream",
     "text": [
      "Hello,  Frank\n",
      "Hello,  Dianhao\n"
     ]
    }
   ],
   "source": [
    "# a greeting function example.\n",
    "# given a name as input, the function print out \"Hi, ***\"\n",
    "\n",
    "def greeting(name):\n",
    "    print('Hello, ', name)\n",
    "    \n",
    "greeting('Frank')\n",
    "a = 'Dianhao'\n",
    "greeting(a)"
   ]
  },
  {
   "cell_type": "code",
   "execution_count": 12,
   "metadata": {},
   "outputs": [
    {
     "name": "stdout",
     "output_type": "stream",
     "text": [
      "<class 'list'>\n",
      "finished\n"
     ]
    }
   ],
   "source": [
    "# this function creates a list of integer numbers\n",
    "def creat_num_list(start, stop, stride):\n",
    "    l = []\n",
    "    for i in range(start, stop, stride):\n",
    "        l.append(i)\n",
    "    return l, 'finished'\n",
    "\n",
    "l, name = creat_num_list(0, 8, 2)\n",
    "print(type(l))\n",
    "print(name)"
   ]
  },
  {
   "cell_type": "markdown",
   "metadata": {},
   "source": [
    "### Default values for input parameters\n",
    "If we call the function without parameter, it uses the default value:"
   ]
  },
  {
   "cell_type": "code",
   "execution_count": 38,
   "metadata": {},
   "outputs": [
    {
     "name": "stdout",
     "output_type": "stream",
     "text": [
      "[0, 1, 2, 3, 4, 5]\n"
     ]
    }
   ],
   "source": [
    "# this function creates a list of integer numbers\n",
    "def creat_num_list(start, stop=0, stride=1):\n",
    "    return list(range(start, stop, stride))\n",
    "\n",
    "print(creat_num_list(0))"
   ]
  },
  {
   "cell_type": "code",
   "execution_count": 39,
   "metadata": {},
   "outputs": [
    {
     "name": "stdout",
     "output_type": "stream",
     "text": [
      "[2, 3, 4, 5]\n"
     ]
    }
   ],
   "source": [
    "# this function creates a list of integer numbers\n",
    "def creat_num_list(start=2, stop=6, stride=1):\n",
    "    return list(range(start, stop, stride))\n",
    "\n",
    "print(creat_num_list())"
   ]
  },
  {
   "cell_type": "markdown",
   "metadata": {},
   "source": [
    "### Keyword parameters\n",
    "You can also send arguments with the key = value syntax.\n",
    "\n",
    "This way the order of the arguments does not matter."
   ]
  },
  {
   "cell_type": "code",
   "execution_count": 14,
   "metadata": {},
   "outputs": [
    {
     "name": "stdout",
     "output_type": "stream",
     "text": [
      "[0, 1, 2, 3, 4, 5, 6, 7, 8, 9]\n"
     ]
    }
   ],
   "source": [
    "# this function creates a list of integer numbers\n",
    "def creat_num_list(start, stop, stride):\n",
    "    l = []\n",
    "    for i in range(start, stop, stride):\n",
    "        l.append(i)\n",
    "    return l\n",
    "\n",
    "\n",
    "print(creat_num_list(stop=10, stride=1, start=0))"
   ]
  },
  {
   "cell_type": "code",
   "execution_count": 19,
   "metadata": {},
   "outputs": [
    {
     "name": "stdout",
     "output_type": "stream",
     "text": [
      "input a number10\n",
      "100 1000\n",
      "10\n"
     ]
    }
   ],
   "source": [
    "def get_square_cubic(num):\n",
    "    x = num*num\n",
    "    y= x*num\n",
    "    return x, y\n",
    "\n",
    "x = int(input('input a number'))\n",
    "s, c = get_square_cubic(x)\n",
    "print(s, c)\n",
    "print(x)"
   ]
  },
  {
   "cell_type": "markdown",
   "metadata": {},
   "source": [
    "### Arbitrary parameters\n",
    "If you do not know how many arguments that will be passed into your function, add a * before the parameter name in the function definition.\n",
    "\n",
    "This way the function will receive a tuple of arguments, and can access the items accordingly:"
   ]
  },
  {
   "cell_type": "code",
   "execution_count": 1,
   "metadata": {},
   "outputs": [
    {
     "name": "stdout",
     "output_type": "stream",
     "text": [
      "3\n",
      "The youngest child is Linus\n"
     ]
    }
   ],
   "source": [
    "def my_function(*kids):\n",
    "    print(len(kids))\n",
    "    print(\"The youngest child is \" + kids[2])\n",
    "\n",
    "my_function(\"Emil\", \"Tobias\", \"Linus\")"
   ]
  },
  {
   "cell_type": "markdown",
   "metadata": {},
   "source": [
    "### Function parameters with the Caller\n",
    "\n",
    "When a caller passed number or string as parameters to a function, any modification to the parameter value will not affect the caller."
   ]
  },
  {
   "cell_type": "code",
   "execution_count": 20,
   "metadata": {},
   "outputs": [
    {
     "name": "stdout",
     "output_type": "stream",
     "text": [
      "10\n",
      "10\n"
     ]
    }
   ],
   "source": [
    "def my_function(num):\n",
    "    num = num + 1\n",
    "    \n",
    "x = 10\n",
    "my_function(x)\n",
    "print(x)\n",
    "\n",
    "\n",
    "num = 10\n",
    "my_function(num)\n",
    "print(num)"
   ]
  },
  {
   "cell_type": "code",
   "execution_count": null,
   "metadata": {},
   "outputs": [],
   "source": [
    "When passing a list (or dictionary, set) to a function, any change to the items in the list will affect the caller."
   ]
  },
  {
   "cell_type": "code",
   "execution_count": 22,
   "metadata": {},
   "outputs": [
    {
     "name": "stdout",
     "output_type": "stream",
     "text": [
      "before function call ['JOhn', 'Mary']\n",
      "['JOHN', 'MARY']\n"
     ]
    }
   ],
   "source": [
    "def update_list(names):\n",
    "    for i in range(len(names)):\n",
    "        names[i] = names[i].upper()\n",
    "\n",
    "students = ['JOhn', 'Mary']\n",
    "print('before function call', students)\n",
    "update_list(students)\n",
    "print(students)"
   ]
  },
  {
   "cell_type": "markdown",
   "metadata": {},
   "source": [
    "### Variable Scope\n",
    "\n",
    "Global variables are the one that are defined and declared outside a function \n",
    "* global variables can be read from inside a function\n",
    "\n",
    "Local variables: defined inside a function\n",
    "* if a local variable has the same name as a global variable, by default, local variable will be used inside the function."
   ]
  },
  {
   "cell_type": "code",
   "execution_count": 29,
   "metadata": {},
   "outputs": [
    {
     "name": "stdout",
     "output_type": "stream",
     "text": [
      "before function Hello\n",
      "Hello\n",
      "inside function Hello\n",
      "outside function Hello\n"
     ]
    }
   ],
   "source": [
    "def greeting():  \n",
    "    print(s)\n",
    "    #global s\n",
    "    #s=\"larry\"\n",
    "    print('inside function',s)\n",
    "\n",
    "s = \"Hello\"\n",
    "print('before function', s)\n",
    "greeting()\n",
    "print('outside function', s)"
   ]
  },
  {
   "cell_type": "code",
   "execution_count": 43,
   "metadata": {},
   "outputs": [
    {
     "name": "stdout",
     "output_type": "stream",
     "text": [
      "Hello\n"
     ]
    }
   ],
   "source": [
    "def greeting():  \n",
    "    s = \"Hello\"\n",
    "    print(s)\n",
    "\n",
    "greeting()"
   ]
  },
  {
   "cell_type": "code",
   "execution_count": 44,
   "metadata": {},
   "outputs": [
    {
     "name": "stdout",
     "output_type": "stream",
     "text": [
      "Hello\n",
      "global variable s is:  Hi\n"
     ]
    }
   ],
   "source": [
    "def greeting():  \n",
    "    s = \"Hello\"\n",
    "    print(s)\n",
    "\n",
    "s = \"Hi\"\n",
    "greeting()\n",
    "print('global variable s is: ', s)"
   ]
  },
  {
   "cell_type": "markdown",
   "metadata": {},
   "source": [
    "To change the value of a global variable inside a function, use 'global' to declare the variable."
   ]
  },
  {
   "cell_type": "code",
   "execution_count": 31,
   "metadata": {},
   "outputs": [
    {
     "name": "stdout",
     "output_type": "stream",
     "text": [
      "Hello\n",
      "global variable s is:  Hello\n"
     ]
    }
   ],
   "source": [
    "def greeting():  \n",
    "    global s\n",
    "    s = \"Hello\"\n",
    "    print(s)\n",
    "\n",
    "s = \"Hi\"\n",
    "greeting()\n",
    "print('global variable s is: ', s)"
   ]
  },
  {
   "cell_type": "code",
   "execution_count": 49,
   "metadata": {},
   "outputs": [
    {
     "name": "stdout",
     "output_type": "stream",
     "text": [
      "variable s is  Hi\n",
      "global variable s is:  Hi\n"
     ]
    }
   ],
   "source": [
    "def greeting(s):  \n",
    "    #s = \"Hello\"\n",
    "    print('variable s is: ', s)\n",
    "\n",
    "s = \"Hi\"\n",
    "greeting(s)\n",
    "print('global variable s is: ', s)"
   ]
  },
  {
   "cell_type": "markdown",
   "metadata": {},
   "source": [
    "## Function can return data\n",
    "\n",
    "use keyword 'return'"
   ]
  },
  {
   "cell_type": "code",
   "execution_count": 32,
   "metadata": {},
   "outputs": [
    {
     "name": "stdout",
     "output_type": "stream",
     "text": [
      "5 25\n"
     ]
    }
   ],
   "source": [
    "# a function that take a number as input, return its square\n",
    "def square(x):\n",
    "    return x*x\n",
    "\n",
    "a = 5\n",
    "b = square(5)\n",
    "print(a, b)"
   ]
  },
  {
   "cell_type": "markdown",
   "metadata": {},
   "source": [
    "Return multiple data values"
   ]
  },
  {
   "cell_type": "code",
   "execution_count": 34,
   "metadata": {},
   "outputs": [
    {
     "name": "stdout",
     "output_type": "stream",
     "text": [
      "5 25 125\n"
     ]
    }
   ],
   "source": [
    "# a function that take a number as input, return its square and cubic\n",
    "def s_and_c(x):\n",
    "    return x*x, x*x*x\n",
    "\n",
    "a = 5\n",
    "b, c = s_and_c(5)\n",
    "print(a, b, c)"
   ]
  },
  {
   "cell_type": "markdown",
   "metadata": {},
   "source": []
  }
 ],
 "metadata": {
  "kernelspec": {
   "display_name": "Python 3",
   "language": "python",
   "name": "python3"
  },
  "language_info": {
   "codemirror_mode": {
    "name": "ipython",
    "version": 3
   },
   "file_extension": ".py",
   "mimetype": "text/x-python",
   "name": "python",
   "nbconvert_exporter": "python",
   "pygments_lexer": "ipython3",
   "version": "3.7.3"
  }
 },
 "nbformat": 4,
 "nbformat_minor": 2
}
