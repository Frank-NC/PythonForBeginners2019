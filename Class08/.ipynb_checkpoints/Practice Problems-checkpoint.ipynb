{
 "cells": [
  {
   "cell_type": "markdown",
   "metadata": {},
   "source": [
    "## Class 8 in class practice problems"
   ]
  },
  {
   "cell_type": "markdown",
   "metadata": {},
   "source": [
    "### Formatted Print "
   ]
  },
  {
   "cell_type": "markdown",
   "metadata": {},
   "source": [
    "A barrel of crude oil is $56.66. a barrel is 42 gallons. Write a problem to calculate the oil price per gallon. Note: price should contain only 2 digits after decimal point.\n",
    "\n",
    "Your program's output should be as the following:\n",
    "\n",
    "Oil price is $1.40 per gallon"
   ]
  },
  {
   "cell_type": "code",
   "execution_count": null,
   "metadata": {},
   "outputs": [],
   "source": [
    "price_b = 56.66\n"
   ]
  },
  {
   "cell_type": "markdown",
   "metadata": {},
   "source": [
    "### String\n",
    "Write a Python program to calculate the length of the following string after removing the leading and ending spaces."
   ]
  },
  {
   "cell_type": "code",
   "execution_count": null,
   "metadata": {},
   "outputs": [],
   "source": [
    "str = \"' important  imformation:  '\"\n",
    "# write your solution here\n"
   ]
  },
  {
   "cell_type": "markdown",
   "metadata": {},
   "source": [
    "Write a Python program to count the number of 'the' in the following essay:\n",
    "```\n",
    "Use \"the\" with any noun when the meaning is specific; for example, when the noun names the only one (or one) of a kind.\n",
    "```"
   ]
  },
  {
   "cell_type": "code",
   "execution_count": null,
   "metadata": {},
   "outputs": [],
   "source": []
  },
  {
   "cell_type": "markdown",
   "metadata": {},
   "source": [
    "### Condition Statement and String"
   ]
  },
  {
   "cell_type": "markdown",
   "metadata": {},
   "source": [
    "Write a program and do the following:\n",
    "```\n",
    "1) print out this question: Do you want to watch the movie \"Joker\"?\n",
    "2) take user input from keyboard\n",
    "3) if the user input is YES (regardless of cases), print out: I want to watch it too.\n",
    "4) if the user input is not what listed above, print: Good bye.\n",
    "```"
   ]
  },
  {
   "cell_type": "code",
   "execution_count": null,
   "metadata": {},
   "outputs": [],
   "source": []
  },
  {
   "cell_type": "markdown",
   "metadata": {},
   "source": [
    "### Nested For Loop\n",
    "\n",
    "print out the following pattern. Note there should be a space between numbers :\n",
    "\n",
    "```\n",
    "1\n",
    "2 2\n",
    "3 3 3\n",
    "4 4 4 4\n",
    "5 5 5 5 5\n",
    "```"
   ]
  },
  {
   "cell_type": "markdown",
   "metadata": {},
   "source": [
    "### For Loop,  Continue statement, and String\n",
    "\n",
    "Prints all letters except 'e' and 's' in the string 'pythonforgeeksbutnotforallgeeks' \n"
   ]
  },
  {
   "cell_type": "code",
   "execution_count": 3,
   "metadata": {},
   "outputs": [],
   "source": [
    "str =  'pythonforgeeksbutnotforallgeeks'\n",
    "# write your program below\n"
   ]
  },
  {
   "cell_type": "markdown",
   "metadata": {},
   "source": [
    "### Python List\n",
    "\n",
    "Print the length of the following list using a program:\n",
    "```\n",
    "[11, 12, 13, 14, 15, 16, 17, 18, 19]\n",
    "```"
   ]
  },
  {
   "cell_type": "code",
   "execution_count": null,
   "metadata": {},
   "outputs": [],
   "source": []
  },
  {
   "cell_type": "markdown",
   "metadata": {},
   "source": [
    "\n",
    "```\n",
    "1) Write a program, with a list of integers [11, 12, 13, 14, 15, 16, 17, 18, 19]\n",
    "2) calculate the square of each element and put it in another list.\n",
    "3) print out both lists\n",
    "```"
   ]
  },
  {
   "cell_type": "code",
   "execution_count": null,
   "metadata": {},
   "outputs": [],
   "source": [
    "nums = [11, 12, 13, 14, 15, 16, 17, 18, 19]"
   ]
  },
  {
   "cell_type": "markdown",
   "metadata": {},
   "source": [
    "From a list containing ints, strings and floats, make three lists to store them separately, then print out each list.\n",
    "\n",
    "```\n",
    "example = [12, 144, 'square', '$', '65.21', 67, '3.1415926']\n",
    "```"
   ]
  },
  {
   "cell_type": "code",
   "execution_count": null,
   "metadata": {},
   "outputs": [],
   "source": []
  },
  {
   "cell_type": "code",
   "execution_count": null,
   "metadata": {},
   "outputs": [],
   "source": []
  },
  {
   "cell_type": "code",
   "execution_count": null,
   "metadata": {},
   "outputs": [],
   "source": []
  }
 ],
 "metadata": {
  "kernelspec": {
   "display_name": "Python 3",
   "language": "python",
   "name": "python3"
  },
  "language_info": {
   "codemirror_mode": {
    "name": "ipython",
    "version": 3
   },
   "file_extension": ".py",
   "mimetype": "text/x-python",
   "name": "python",
   "nbconvert_exporter": "python",
   "pygments_lexer": "ipython3",
   "version": "3.7.3"
  }
 },
 "nbformat": 4,
 "nbformat_minor": 2
}
