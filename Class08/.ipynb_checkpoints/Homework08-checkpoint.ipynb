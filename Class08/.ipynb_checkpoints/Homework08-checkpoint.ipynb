{
 "cells": [
  {
   "cell_type": "markdown",
   "metadata": {},
   "source": [
    "### 1 Rounding numbers to the nearest tenth\n",
    "You were given a variable with a number. Please convert the number the number to its nearest tecth. For example, for 12.34, you should print out 12.3;  for 12.55, you should print out 12.6\n",
    "```\n",
    "a = 12.34\n",
    "b = 12.55\n",
    "\n",
    "```"
   ]
  },
  {
   "cell_type": "code",
   "execution_count": null,
   "metadata": {},
   "outputs": [],
   "source": []
  },
  {
   "cell_type": "markdown",
   "metadata": {},
   "source": [
    "### 2. Place holders in print()\n",
    "use place hold % in print(), and print out the following sentence.\n",
    "\n",
    "The apple price is $1.19 per pound.\n"
   ]
  },
  {
   "cell_type": "code",
   "execution_count": null,
   "metadata": {},
   "outputs": [],
   "source": [
    "product = 'apple'\n",
    "price = '1.19'\n",
    "unit = 'per pound'\n",
    "# write your program below\n"
   ]
  },
  {
   "cell_type": "markdown",
   "metadata": {},
   "source": [
    "### 3. String functions\n",
    "Write a Python program to count the number of 'the' in the following essay:\n",
    "```\n",
    "Use \"the\" with any noun when the meaning is specific; for example, when the noun names the only one (or one) of a kind.\n",
    "```"
   ]
  },
  {
   "cell_type": "code",
   "execution_count": null,
   "metadata": {},
   "outputs": [],
   "source": []
  },
  {
   "cell_type": "markdown",
   "metadata": {},
   "source": [
    "### Condition Statement and String\n",
    "Write a program and do the following:\n",
    "\n",
    "* 1) ask this question and take user input from keyboard: Do you want to watch the movie \"Joker\"?\n",
    "* 2) if the user input is YES (regardless of cases) or Y or y, print out: I want to watch it too.\n",
    "* 3) if the user input is not what listed above, print: Good bye.\n",
    "\n",
    "Your program should accept 'yes' or 'y' regardless of case as valid input."
   ]
  },
  {
   "cell_type": "code",
   "execution_count": null,
   "metadata": {},
   "outputs": [],
   "source": []
  }
 ],
 "metadata": {
  "kernelspec": {
   "display_name": "Python 3",
   "language": "python",
   "name": "python3"
  },
  "language_info": {
   "codemirror_mode": {
    "name": "ipython",
    "version": 3
   },
   "file_extension": ".py",
   "mimetype": "text/x-python",
   "name": "python",
   "nbconvert_exporter": "python",
   "pygments_lexer": "ipython3",
   "version": "3.7.3"
  }
 },
 "nbformat": 4,
 "nbformat_minor": 2
}
