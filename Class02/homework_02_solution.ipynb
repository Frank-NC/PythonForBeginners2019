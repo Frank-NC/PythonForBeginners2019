{
 "cells": [
  {
   "cell_type": "markdown",
   "metadata": {},
   "source": [
    "# Python Programming for Kids\n",
    "## Coding Homework for week 2\n",
    "### Using variables, string functions, print, format strings"
   ]
  },
  {
   "cell_type": "markdown",
   "metadata": {},
   "source": [
    "Do not use a calculator.\n",
    "Calculate the perimeter of a rectangle with a length of 1233.75 feet and height of 637.84 feet. Your output should be like this (replace the xxx with the actual number):\n",
    "\n",
    "The perimeter of the rectangle is xxx feet.\n",
    "\n",
    "**Challenge question:** how to output float numbers with only two digits after decimal point. for example 12.02 instead of 12.0200001.\n",
    "\n",
    "[Hint on StackOverflow.com](https://stackoverflow.com/questions/455612/limiting-floats-to-two-decimal-points)"
   ]
  },
  {
   "cell_type": "code",
   "execution_count": 1,
   "metadata": {},
   "outputs": [
    {
     "name": "stdout",
     "output_type": "stream",
     "text": [
      "The perimeter of the rectangle is 3743.1800000000003 feet.\n",
      "The perimeter of the rectangle is 3743.18 feet.\n"
     ]
    }
   ],
   "source": [
    "# Solution:\n",
    "p = 1233.75*2 + 637.84*2\n",
    "# good solution\n",
    "print(\"The perimeter of the rectangle is \" + str(p) + \" feet.\")\n",
    "\n",
    "# challenge question\n",
    "print(\"The perimeter of the rectangle is %.2f feet.\" % p)"
   ]
  },
  {
   "cell_type": "markdown",
   "metadata": {},
   "source": [
    "Write a one line program to print two sentences in the format as shown below:\n",
    "\n",
    "Twinkle, twinkle, little star, \n",
    "\n",
    "        How I wonder what you are! "
   ]
  },
  {
   "cell_type": "code",
   "execution_count": 2,
   "metadata": {},
   "outputs": [
    {
     "name": "stdout",
     "output_type": "stream",
     "text": [
      "Twinkle, twinkle, little star, \n",
      "\tHow I wonder what you are!\n"
     ]
    }
   ],
   "source": [
    "print(\"Twinkle, twinkle, little star, \\n\\tHow I wonder what you are!\")"
   ]
  },
  {
   "cell_type": "markdown",
   "metadata": {},
   "source": [
    "Write a Python program to swap the value of two variables.\n",
    "a = 10\n",
    "b = 20\n",
    "''' put your code of swapping a and b here'''\n",
    "print('a=', a, 'b=', b)\n",
    "The result should be \"a=20 b=10"
   ]
  },
  {
   "cell_type": "code",
   "execution_count": 13,
   "metadata": {},
   "outputs": [
    {
     "name": "stdout",
     "output_type": "stream",
     "text": [
      "\n",
      "Before swap a = 30 and b = 20\n",
      "\n",
      "After swaping a = 20 and b = 30\n",
      "\n"
     ]
    }
   ],
   "source": [
    "a = 30\n",
    "b = 20\n",
    "print(\"\\nBefore swap a = %d and b = %d\" %(a, b))\n",
    "a, b = b, a\n",
    "print(\"\\nAfter swaping a = %d and b = %d\" %(a, b))\n",
    "print()"
   ]
  },
  {
   "cell_type": "markdown",
   "metadata": {},
   "source": [
    "Write a Python program to count the number of occurrence of a specific character in a string.\n",
    "\n",
    "for example:\n",
    "\n",
    "The target string is: The quick brown fox jumps over the lazy dog.\n",
    "\n",
    "total 'o' in the target string: 4"
   ]
  },
  {
   "cell_type": "code",
   "execution_count": 20,
   "metadata": {},
   "outputs": [
    {
     "name": "stdout",
     "output_type": "stream",
     "text": [
      "The target string is: The quick brown fox jumps over the lazy dog.\n",
      "total 'o' in the target string: 4\n"
     ]
    }
   ],
   "source": [
    "s = \"The quick brown fox jumps over the lazy dog.\"\n",
    "print('The target string is: %s'%s)\n",
    "print('total \\'%s\\' in the target string: %d'%('o', s.count(\"o\")))\n"
   ]
  },
  {
   "cell_type": "markdown",
   "metadata": {},
   "source": [
    "Write a Python program to replace all of the letter 'a' in the user input word with letter '@'\n",
    "\n",
    "for example, for string 'restart', the output will be 'rest@rt'\n",
    "\n",
    "(hint, Google \"Python, string replace\")"
   ]
  },
  {
   "cell_type": "code",
   "execution_count": 2,
   "metadata": {},
   "outputs": [
    {
     "name": "stdout",
     "output_type": "stream",
     "text": [
      "type a word: restart\n",
      "rest@rt\n"
     ]
    }
   ],
   "source": [
    "word = input(\"type a word: \")\n",
    "output = word.replace('a', '@')\n",
    "print(output)"
   ]
  },
  {
   "cell_type": "code",
   "execution_count": null,
   "metadata": {},
   "outputs": [],
   "source": []
  }
 ],
 "metadata": {
  "kernelspec": {
   "display_name": "Python 3",
   "language": "python",
   "name": "python3"
  },
  "language_info": {
   "codemirror_mode": {
    "name": "ipython",
    "version": 3
   },
   "file_extension": ".py",
   "mimetype": "text/x-python",
   "name": "python",
   "nbconvert_exporter": "python",
   "pygments_lexer": "ipython3",
   "version": "3.7.3"
  }
 },
 "nbformat": 4,
 "nbformat_minor": 2
}
