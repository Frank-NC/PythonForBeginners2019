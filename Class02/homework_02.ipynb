{
 "cells": [
  {
   "cell_type": "markdown",
   "metadata": {},
   "source": [
    "# Python Programming for Kids\n",
    "## Coding Homework for week 2\n",
    "### Using variables, string functions, print, format strings"
   ]
  },
  {
   "cell_type": "markdown",
   "metadata": {},
   "source": [
    "### Problem 1:\n",
    "Do not use a calculator.\n",
    "Calculate the perimeter of a rectangle with a length of 1233.75 feet and height of 637.84 feet. Your output should be like this (replace the xxx with the actual number):\n",
    "\n",
    "The perimeter of the rectangle is xxx feet.\n",
    "\n",
    "**Challenge question:** how to output float numbers with only two digits after decimal point. for example 12.02 instead of 12.0200001.\n",
    "\n",
    "[Hint on StackOverflow.com](https://stackoverflow.com/questions/455612/limiting-floats-to-two-decimal-points)"
   ]
  },
  {
   "cell_type": "markdown",
   "metadata": {},
   "source": [
    "### Problem 2: \n",
    "Write a one line program to print two sentences in the format as shown below:\n",
    "\n",
    "Twinkle, twinkle, little star, \n",
    "\n",
    "&nbsp;&nbsp;&nbsp;&nbsp;&nbsp;How I wornder what you are!"
   ]
  },
  {
   "cell_type": "markdown",
   "metadata": {},
   "source": [
    "### Problem 3:\n",
    "Write a Python program to swap the value of two variables.\n",
    "a = 10\n",
    "b = 20\n",
    "''' put your code of swapping a and b here'''\n",
    "print('a=', a, 'b=', b)\n",
    "\n",
    "The result should be \"a=20 b=10"
   ]
  },
  {
   "cell_type": "markdown",
   "metadata": {},
   "source": [
    "### Problem 4:\n",
    "Write a Python program to count the number of occurrence of a specific character in a string.\n",
    "\n",
    "for example:\n",
    "\n",
    "The target string is: The quick brown fox jumps over the lazy dog.\n",
    "\n",
    "total 'o' in the target string: 4"
   ]
  },
  {
   "cell_type": "markdown",
   "metadata": {},
   "source": [
    "### Problem 5:\n",
    "Write a Python program to replace all of the letter 'a' in the user input word with letter '@'\n",
    "\n",
    "for example, for string 'restart', the output will be 'rest@rt'\n",
    "\n",
    "(hint, Google \"Python, string replace\")"
   ]
  },
  {
   "cell_type": "code",
   "execution_count": null,
   "metadata": {},
   "outputs": [],
   "source": []
  }
 ],
 "metadata": {
  "kernelspec": {
   "display_name": "Python 3",
   "language": "python",
   "name": "python3"
  },
  "language_info": {
   "codemirror_mode": {
    "name": "ipython",
    "version": 3
   },
   "file_extension": ".py",
   "mimetype": "text/x-python",
   "name": "python",
   "nbconvert_exporter": "python",
   "pygments_lexer": "ipython3",
   "version": "3.6.4"
  }
 },
 "nbformat": 4,
 "nbformat_minor": 2
}
