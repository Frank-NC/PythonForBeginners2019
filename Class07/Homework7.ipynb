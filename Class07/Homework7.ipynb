{
 "cells": [
  {
   "cell_type": "markdown",
   "metadata": {},
   "source": [
    "Python List Review\n",
    "\n",
    "* len() the length of the list\n",
    "* index() find an item's location\n",
    "* in  check existence\n",
    "* append() add more items from the back\n",
    "* insert() add item at a given position\n",
    "* my_list = []  empty a list\n",
    "* my_list.clear() empty a list\n",
    "* sort()\tsort a list\n",
    "* reverse()  reverse a list\n",
    "* extend() extend (join) two lists\n",
    "* del  removing items from list\n",
    "* pop() removing from the back of a list\n",
    "* range() create a list with numbers\n",
    "* enumerate() return 'index' and 'item value' of the each item in a list"
   ]
  },
  {
   "cell_type": "markdown",
   "metadata": {},
   "source": [
    "### 1 write a program to add line number in front of each line in the following string\n",
    "### You are required to use enumerate() function"
   ]
  },
  {
   "cell_type": "code",
   "execution_count": null,
   "metadata": {},
   "outputs": [],
   "source": [
    "essay = '''The Zen of Python\n",
    "by Tim Peters\n",
    "\n",
    "Beautiful is better than ugly.\n",
    "Explicit is better than implicit.\n",
    "Simple is better than complex.\n",
    "Complex is better than complicated.\n",
    "Flat is better than nested.\n",
    "Sparse is better than dense.\n",
    "Readability counts.'''\n",
    "\n",
    "# write your code at below\n"
   ]
  },
  {
   "cell_type": "markdown",
   "metadata": {},
   "source": [
    "### 2 Find the duplicate items\n",
    "Write a Python program that takes two lists and print out all of their common members.\n",
    "### you are required to use 'for ... in...' statement and 'if ... in ...' statement "
   ]
  },
  {
   "cell_type": "code",
   "execution_count": 1,
   "metadata": {},
   "outputs": [],
   "source": [
    "list1 = [1, 2, 4, 56, 67, 78, 97, 52, 23, 46, 91, 13, 7]\n",
    "list2 = [10, 2, 5, 57, 67, 79, 96, 52, 25, 47, 95, 14, 7, 101, 23, 44]\n"
   ]
  },
  {
   "cell_type": "markdown",
   "metadata": {},
   "source": [
    "### 3 Write a program to reverse a string\n"
   ]
  },
  {
   "cell_type": "code",
   "execution_count": 5,
   "metadata": {},
   "outputs": [
    {
     "name": "stdout",
     "output_type": "stream",
     "text": [
      "n\n",
      "on\n",
      "hon\n",
      "thon\n",
      "ython\n",
      "Python\n"
     ]
    }
   ],
   "source": [
    "msg = \"nohtyP\"\n",
    "# add your program here to reverse the content in 'msg'\n",
    "rev = ''\n",
    "for c in msg:\n",
    "    rev = c + rev \n",
    "    print(rev)\n"
   ]
  },
  {
   "cell_type": "markdown",
   "metadata": {},
   "source": [
    "### 4 Find the maximum number in a list \n",
    "Please do NOT use the Python max() function\n",
    "\n",
    "Use a for loop, find the maximum number in a list:\n",
    "\n",
    "prices = [80, 65, 23, 91, 78, 95, 91, 50]\n",
    "\n",
    "\n",
    "Hint:\n",
    "* Assume the first item in the list is the maximum number, put the value to a variable representing the current maximum value found.\n",
    "* Go through the list items one by one;\n",
    "*    if the next item in the list is bigger than the current maximum value found, update the current maximum value.\n",
    "\n"
   ]
  },
  {
   "cell_type": "code",
   "execution_count": 7,
   "metadata": {},
   "outputs": [
    {
     "name": "stdout",
     "output_type": "stream",
     "text": [
      "95\n"
     ]
    }
   ],
   "source": [
    "prices = [80, 65, 23, 91, 78, 95, 91, 50]\n",
    "# Write your program below to find the max value in the prices list\n",
    "mx = prices[0]\n",
    "for x in prices:\n",
    "    if mx < x:\n",
    "        mx = x\n",
    "print(mx)"
   ]
  },
  {
   "cell_type": "markdown",
   "metadata": {},
   "source": [
    "### 5 Write the output of the following program\n",
    "Please do NOT run the program. Pretend you are a computer and running the program below, what result will you output?"
   ]
  },
  {
   "cell_type": "code",
   "execution_count": 2,
   "metadata": {},
   "outputs": [],
   "source": [
    "for x in range(12):\n",
    "    print(x%4, end=', ')\n"
   ]
  },
  {
   "cell_type": "code",
   "execution_count": null,
   "metadata": {},
   "outputs": [],
   "source": [
    "0, 1, 2, 3, 4, 5, 6, 7, 8\n",
    "0, 1, 2, 3, 0, 1, 2, 3, 0, "
   ]
  },
  {
   "cell_type": "code",
   "execution_count": null,
   "metadata": {},
   "outputs": [],
   "source": [
    "x = 5\n",
    "y = 6\n",
    "\n",
    "\n",
    "x = y\n",
    "y = z\n"
   ]
  }
 ],
 "metadata": {
  "kernelspec": {
   "display_name": "Python 3",
   "language": "python",
   "name": "python3"
  },
  "language_info": {
   "codemirror_mode": {
    "name": "ipython",
    "version": 3
   },
   "file_extension": ".py",
   "mimetype": "text/x-python",
   "name": "python",
   "nbconvert_exporter": "python",
   "pygments_lexer": "ipython3",
   "version": "3.7.3"
  }
 },
 "nbformat": 4,
 "nbformat_minor": 2
}
