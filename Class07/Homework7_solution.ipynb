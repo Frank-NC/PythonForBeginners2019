{
 "cells": [
  {
   "cell_type": "markdown",
   "metadata": {},
   "source": [
    "### 1 write a program to add line number in front of each line in the following string\n",
    "### You are required to use enumerate() function"
   ]
  },
  {
   "cell_type": "code",
   "execution_count": null,
   "metadata": {},
   "outputs": [],
   "source": [
    "essay = '''The Zen of Python\n",
    "by Tim Peters\n",
    "\n",
    "Beautiful is better than ugly.\n",
    "Explicit is better than implicit.\n",
    "Simple is better than complex.\n",
    "Complex is better than complicated.\n",
    "Flat is better than nested.\n",
    "Sparse is better than dense.\n",
    "Readability counts.'''\n",
    "\n",
    "# write your code at below\n",
    "for i, line in enumerate(essay.split('\\n')):\n",
    "    print(\"%d) %s\"%(i, line))"
   ]
  },
  {
   "cell_type": "markdown",
   "metadata": {},
   "source": [
    "### 2 Find the duplicate items\n",
    "Write a Python program that takes two lists and print out all of their common members.\n",
    "### you are required to use 'for ... in...' statement and 'if ... in ...' statement "
   ]
  },
  {
   "cell_type": "code",
   "execution_count": null,
   "metadata": {},
   "outputs": [],
   "source": [
    "list1 = [1, 2, 4, 56, 67, 78, 97, 52, 23, 46, 91, 13, 7]\n",
    "list2 = [10, 2, 5, 57, 67, 79, 96, 52, 25, 47, 95, 14, 7, 101, 23, 44]\n",
    "for item in list1:\n",
    "    if item in list2:\n",
    "        print(item)"
   ]
  },
  {
   "cell_type": "markdown",
   "metadata": {},
   "source": [
    "### 3 Write a program to reverse a string\n"
   ]
  },
  {
   "cell_type": "code",
   "execution_count": 1,
   "metadata": {},
   "outputs": [],
   "source": [
    "msg = \"nohtyP\"\n",
    "# add your program here to reverse the content in 'msg'\n"
   ]
  },
  {
   "cell_type": "markdown",
   "metadata": {},
   "source": [
    "### 4 Find the maximum number in a list \n",
    "Please do NOT use the Python max() function\n",
    "\n",
    "Use a for loop, find the maximum number in a list:\n",
    "\n",
    "prices = [80, 65, 23, 91, 78, 95, 91, 50]\n",
    "\n",
    "\n",
    "Hint:\n",
    "* Assume the first item in the list is the maximum number, put the value to a variable representing the current maximum value found.\n",
    "* Go through the list items one by one;\n",
    "*    if the next item in the list is bigger than the current maximum value found, update the current maximum value.\n",
    "\n"
   ]
  },
  {
   "cell_type": "code",
   "execution_count": 2,
   "metadata": {},
   "outputs": [],
   "source": [
    "prices = [80, 65, 23, 91, 78, 95, 91, 50]\n",
    "# Write your program below to find the max value in the prices list\n"
   ]
  },
  {
   "cell_type": "markdown",
   "metadata": {},
   "source": [
    "### 5 Write the output of the following program\n",
    "Please do NOT run the program. Pretend you are a computer and running the program below, what result will you output?"
   ]
  },
  {
   "cell_type": "code",
   "execution_count": 4,
   "metadata": {},
   "outputs": [
    {
     "name": "stdout",
     "output_type": "stream",
     "text": [
      "0, 1, 2, 3, 0, 1, 2, 3, 0, 1, 2, 3, "
     ]
    }
   ],
   "source": [
    "for x in range(12):\n",
    "    print(x%4, end=', ')"
   ]
  },
  {
   "cell_type": "code",
   "execution_count": null,
   "metadata": {},
   "outputs": [],
   "source": []
  }
 ],
 "metadata": {
  "kernelspec": {
   "display_name": "Python 3",
   "language": "python",
   "name": "python3"
  },
  "language_info": {
   "codemirror_mode": {
    "name": "ipython",
    "version": 3
   },
   "file_extension": ".py",
   "mimetype": "text/x-python",
   "name": "python",
   "nbconvert_exporter": "python",
   "pygments_lexer": "ipython3",
   "version": "3.7.3"
  }
 },
 "nbformat": 4,
 "nbformat_minor": 2
}
