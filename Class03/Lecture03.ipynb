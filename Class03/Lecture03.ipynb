{
 "cells": [
  {
   "cell_type": "markdown",
   "metadata": {},
   "source": [
    "# The range() function in Python\n",
    "\n",
    "The range() function will create a ordered list of numbers.\n",
    "\n",
    "range() function can take 1, or 2, or 3 input arguments in the form of \"range(start, end, step)\"\n",
    "Note: the end number is not included in the result list. Step can be a positive or negative number\n",
    "\n",
    "For example:\n",
    "\n",
    "range(10): means a list of (0, 1, 2, 3, 4, 5, 6, 7, 8, 9)\n",
    "\n",
    "range(5, 10): means a list of (5, 6, 7, 8, 9)\n",
    "\n",
    "range(5, 10, 2): means a list of (5, 7, 9)\n",
    "\n",
    "range(10, 5, -2): means a list of (10, 8, 6)\n",
    "\n",
    "\n",
    "# for loop\n",
    "A \"for loop\" can be used to execute a set of statement for a certain number of times.\n",
    "\n",
    "For example:"
   ]
  },
  {
   "cell_type": "code",
   "execution_count": 1,
   "metadata": {},
   "outputs": [
    {
     "name": "stdout",
     "output_type": "stream",
     "text": [
      "0\n",
      "1\n",
      "2\n",
      "3\n",
      "4\n",
      "5\n",
      "6\n",
      "7\n",
      "8\n",
      "9\n"
     ]
    }
   ],
   "source": [
    "for x in range(10):\n",
    "    print(x)"
   ]
  },
  {
   "cell_type": "code",
   "execution_count": 2,
   "metadata": {},
   "outputs": [
    {
     "name": "stdout",
     "output_type": "stream",
     "text": [
      "5\n",
      "6\n",
      "7\n",
      "8\n",
      "9\n"
     ]
    }
   ],
   "source": [
    "for y in range(5, 10):\n",
    "    print(y)"
   ]
  },
  {
   "cell_type": "code",
   "execution_count": 6,
   "metadata": {},
   "outputs": [
    {
     "name": "stdout",
     "output_type": "stream",
     "text": [
      "1\n",
      "3\n",
      "5\n",
      "7\n",
      "9\n"
     ]
    }
   ],
   "source": [
    "# print all of the positive odd numbers less than 10\n",
    "for z in range(1, 10, 2):\n",
    "    print(z)"
   ]
  },
  {
   "cell_type": "markdown",
   "metadata": {},
   "source": [
    "## The continue Statement\n",
    "With the continue statement we can stop the current iteration of the loop, and continue with the next:"
   ]
  },
  {
   "cell_type": "code",
   "execution_count": 9,
   "metadata": {},
   "outputs": [
    {
     "name": "stdout",
     "output_type": "stream",
     "text": [
      "0\n",
      "1\n",
      "2\n",
      "3\n",
      "4\n",
      "5\n",
      "6\n",
      "8\n",
      "9\n"
     ]
    }
   ],
   "source": [
    "# print integers from 0 to 9, but skip 7\n",
    "for x in range(10):\n",
    "    if x > 6 and x < 8:\n",
    "        continue\n",
    "    else:\n",
    "        print(x)"
   ]
  },
  {
   "cell_type": "markdown",
   "metadata": {},
   "source": [
    "## The break statement\n",
    "\n",
    "With the break statement we can stop the loop before it has looped through all the items:"
   ]
  },
  {
   "cell_type": "code",
   "execution_count": 10,
   "metadata": {},
   "outputs": [
    {
     "name": "stdout",
     "output_type": "stream",
     "text": [
      "Found the number:  6\n"
     ]
    }
   ],
   "source": [
    "# find the integer that when it is added by 4 equal to 10\n",
    "for x in range(10):\n",
    "    if x + 4 == 10:\n",
    "        print(\"Found the number: \", x)\n",
    "        break\n"
   ]
  },
  {
   "cell_type": "markdown",
   "metadata": {},
   "source": [
    "## Else in For Loop\n",
    "The else keyword in a for loop specifies a block of code to be executed when the loop is finished:"
   ]
  },
  {
   "cell_type": "code",
   "execution_count": 7,
   "metadata": {},
   "outputs": [
    {
     "name": "stdout",
     "output_type": "stream",
     "text": [
      "0\n",
      "1\n",
      "2\n",
      "3\n",
      "4\n",
      "5\n",
      "for loop has completed\n",
      "after the for loop\n"
     ]
    }
   ],
   "source": [
    "# only print integers from 0, to 5\n",
    "for x in range(10):\n",
    "    if x < 6:\n",
    "        print(x)\n",
    "    else:\n",
    "        continue\n",
    "else:\n",
    "    # the following line will only be executed when the loop finished without break\n",
    "    print(\"for loop has completed\")\n",
    "print(\"after the for loop\")"
   ]
  },
  {
   "cell_type": "markdown",
   "metadata": {},
   "source": [
    "## Example 2: else in for loop\n",
    "\n",
    "When the for loop is terminated before it reaches the full range, \"else:\" statement will not be executed."
   ]
  },
  {
   "cell_type": "code",
   "execution_count": 12,
   "metadata": {},
   "outputs": [
    {
     "name": "stdout",
     "output_type": "stream",
     "text": [
      "0\n",
      "1\n",
      "2\n",
      "3\n",
      "4\n",
      "5\n",
      "skip since x= 6\n",
      "skip since x= 7\n",
      "skip since x= 8\n",
      "break since x= 9\n",
      "after the for loop\n"
     ]
    }
   ],
   "source": [
    "for x in range(10):\n",
    "    if x < 6:\n",
    "        print(x)\n",
    "    elif x > 8:\n",
    "        print('break since x=', x)\n",
    "        break\n",
    "    else:\n",
    "        print('skip since x=', x)\n",
    "        continue\n",
    "else:\n",
    "    # the following line will only be executed when the loop finished without break\n",
    "    print(\"for loop has completed\")\n",
    "print(\"after the for loop\")"
   ]
  },
  {
   "cell_type": "markdown",
   "metadata": {},
   "source": [
    "## Nested Loops\n",
    "A nested loop is a loop inside a loop.\n",
    "\n",
    "The \"inner loop\" will be executed one time for each iteration of the \"outer loop\":"
   ]
  },
  {
   "cell_type": "code",
   "execution_count": 15,
   "metadata": {},
   "outputs": [
    {
     "name": "stdout",
     "output_type": "stream",
     "text": [
      "( 0 , 3 )\n",
      "( 0 , 4 )\n",
      "( 0 , 5 )\n",
      "( 1 , 3 )\n",
      "( 1 , 4 )\n",
      "( 1 , 5 )\n",
      "( 2 , 3 )\n",
      "( 2 , 4 )\n",
      "( 2 , 5 )\n"
     ]
    }
   ],
   "source": [
    "for x in range(3):\n",
    "    for y in range(3, 6):\n",
    "        print('(', x, ',', y, ')')"
   ]
  },
  {
   "cell_type": "code",
   "execution_count": null,
   "metadata": {},
   "outputs": [],
   "source": []
  }
 ],
 "metadata": {
  "kernelspec": {
   "display_name": "Python 3",
   "language": "python",
   "name": "python3"
  },
  "language_info": {
   "codemirror_mode": {
    "name": "ipython",
    "version": 3
   },
   "file_extension": ".py",
   "mimetype": "text/x-python",
   "name": "python",
   "nbconvert_exporter": "python",
   "pygments_lexer": "ipython3",
   "version": "3.7.3"
  }
 },
 "nbformat": 4,
 "nbformat_minor": 2
}
