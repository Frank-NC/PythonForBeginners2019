{
 "cells": [
  {
   "cell_type": "markdown",
   "metadata": {},
   "source": [
    "Importing a module: so Python knows that you are going to use it"
   ]
  },
  {
   "cell_type": "code",
   "execution_count": null,
   "metadata": {},
   "outputs": [],
   "source": [
    "import turtle"
   ]
  },
  {
   "cell_type": "markdown",
   "metadata": {},
   "source": [
    "Creating a canvas:"
   ]
  },
  {
   "cell_type": "code",
   "execution_count": null,
   "metadata": {},
   "outputs": [],
   "source": [
    "turtle.pen()"
   ]
  },
  {
   "cell_type": "markdown",
   "metadata": {},
   "source": [
    "### turtle function\n",
    "```\n",
    "moving the turtle: turtle.forward(), turtle.backward().\n",
    "moving the turtle: turtle.goto()\n",
    "turn the turtle: turtle.left(), turtle.right()\n",
    "change pen stustus: turtle.penup(), turtle.pendown()\n",
    "pen speed: turtle.speed()\n",
    "clear the screen: turtle.clear(), turtle.reset()\n",
    "init the screen: turtle.Screen()\n",
    "create a turtle: turtle.Turtle()\n",
    "create a turtle: turtle.Pen\n",
    "```\n",
    "### screen functions:\n",
    "```\n",
    "set background color: bgcolor()\n",
    "set screen title: title()\n",
    "wait for user to close window: mainloop()\n",
    "```\n"
   ]
  },
  {
   "cell_type": "code",
   "execution_count": null,
   "metadata": {},
   "outputs": [],
   "source": [
    "import turtle             # Allows us to use turtles\n",
    "wn = turtle.Screen()      # Creates a playground for turtles\n",
    "wn.bgcolor(\"lightgreen\")  # set background color\n",
    "wn.title(\"Tess & Alex\")   # set window's title\n",
    "alex = turtle.Turtle()    # Create a turtle, assign to alex\n",
    "\n",
    "alex.forward(50)          # Tell alex to move forward by 50 units\n",
    "alex.left(90)             # Tell alex to turn by 90 degrees\n",
    "alex.forward(50)          # Complete the second side of a rectangle\n",
    "alex.left(90)             # Tell alex to turn by 90 degrees\n",
    "alex.forward(50)          # Complete the second side of a rectangle\n",
    "alex.left(90)             # Tell alex to turn by 90 degrees\n",
    "alex.forward(50)          # Complete the second side of a rectangle\n",
    "\n",
    "wn.mainloop()             # Wait for user to close window\n"
   ]
  },
  {
   "cell_type": "code",
   "execution_count": 1,
   "metadata": {},
   "outputs": [],
   "source": [
    "import turtle \n",
    "# draw curve y=x*x\n",
    "\n",
    "loadWindow = turtle.Screen() \n",
    "turtle.speed(10) \n",
    "\n",
    "turtle.penup()\n",
    "for x in range(-10, 11):\n",
    "    y = x*x\n",
    "    turtle.goto(x*10,y)\n",
    "    turtle.pendown()\n",
    "loadWindow.mainloop()"
   ]
  },
  {
   "cell_type": "code",
   "execution_count": null,
   "metadata": {},
   "outputs": [],
   "source": []
  }
 ],
 "metadata": {
  "kernelspec": {
   "display_name": "Python 3",
   "language": "python",
   "name": "python3"
  },
  "language_info": {
   "codemirror_mode": {
    "name": "ipython",
    "version": 3
   },
   "file_extension": ".py",
   "mimetype": "text/x-python",
   "name": "python",
   "nbconvert_exporter": "python",
   "pygments_lexer": "ipython3",
   "version": "3.6.4"
  }
 },
 "nbformat": 4,
 "nbformat_minor": 2
}
