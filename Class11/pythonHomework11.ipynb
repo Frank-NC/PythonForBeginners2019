{
 "cells": [
  {
   "cell_type": "markdown",
   "metadata": {},
   "source": [
    "### Read the Class Presentation Document First\n",
    "\n",
    "Please spend 10 minutes to go through the class document about Python file input/output"
   ]
  },
  {
   "cell_type": "markdown",
   "metadata": {},
   "source": [
    "### 1\n",
    "\n",
    "write integer numbers from 0 to 39 to a file named \"number.csv\". The number in the file should be in the following format:\n",
    "\n",
    "* every two numbers in a line\n",
    "* at each line, the two numbers are seperated by a comma ','\n",
    "\n",
    "For example:\n",
    "\n",
    "```\n",
    "0, 1\n",
    "2, 3\n",
    "4, 5\n",
    "6, 7\n",
    "...\n",
    "38, 39\n",
    "\n",
    "```\n"
   ]
  },
  {
   "cell_type": "markdown",
   "metadata": {},
   "source": [
    "### 2\n",
    "Write a program to read the file you created in problem 1 (number.csv). Your program should read the file, process the content in the file and create a list. Each item in the list is corresponding to the number in the file.\n",
    "\n",
    "for example, assume you read the file and put each number in the file into a list called 'datalist'\n",
    "\n",
    "* print(datalist)\n",
    "\n",
    "The output of the print command above should look like this:\n",
    "```\n",
    "[0, 1, 2, 3, 4, ...., 39]\n",
    "```"
   ]
  },
  {
   "cell_type": "code",
   "execution_count": null,
   "metadata": {},
   "outputs": [],
   "source": []
  }
 ],
 "metadata": {
  "kernelspec": {
   "display_name": "Python 3",
   "language": "python",
   "name": "python3"
  },
  "language_info": {
   "codemirror_mode": {
    "name": "ipython",
    "version": 3
   },
   "file_extension": ".py",
   "mimetype": "text/x-python",
   "name": "python",
   "nbconvert_exporter": "python",
   "pygments_lexer": "ipython3",
   "version": "3.7.3"
  }
 },
 "nbformat": 4,
 "nbformat_minor": 2
}
