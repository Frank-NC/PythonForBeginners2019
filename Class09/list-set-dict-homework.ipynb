{
 "cells": [
  {
   "cell_type": "code",
   "execution_count": null,
   "metadata": {},
   "outputs": [],
   "source": []
  },
  {
   "cell_type": "markdown",
   "metadata": {},
   "source": [
    "# Homework for Python List, Set, Dict \n",
    "\n",
    "## Read a Python book\n",
    "\n",
    "\"Python for kids\" is a book for beginners. If you Google \"Python for kids, pdf\", the book should come out at the top of the search results as a free download pdf file.\n",
    "\n",
    "https://doc.lagout.org/programmation/python/Python%20for%20Kids_%20A%20Playful%20Introduction%20to%20Programming%20[Briggs%202012-12-22].pdf\n",
    "\n",
    "Read the textbook chapters regarding the \"List\", \"Set\" and \"Dictionary\""
   ]
  },
  {
   "cell_type": "markdown",
   "metadata": {},
   "source": [
    "\n",
    "## List\n",
    "Extra reading:\n",
    "\n",
    "https://www.programiz.com/python-programming/list\n",
    "\n",
    "1)\n",
    "\n",
    "* Create a list of three of your favorite movies\n",
    "* enumerate all movies (print out the list)\n",
    "* use 'append' to add a new movie at the end of list, then print out the list.\n",
    "* pop out the first element of the list, then print out the list.\n",
    "* reverse the list, then print out the ist."
   ]
  },
  {
   "cell_type": "code",
   "execution_count": null,
   "metadata": {},
   "outputs": [],
   "source": []
  },
  {
   "cell_type": "markdown",
   "metadata": {},
   "source": [
    "2) \n",
    "\n",
    "Write a Python program to display the first and last colors from the following list. Assume you can't count the length of the list by looking at the list. \n",
    "\n",
    "color_list = [\"Red\",\"Green\",\"White\" ,\"Black\", \"Blue\", \"Grey\", \"Orange\"]"
   ]
  },
  {
   "cell_type": "code",
   "execution_count": null,
   "metadata": {
    "collapsed": true
   },
   "outputs": [],
   "source": []
  },
  {
   "cell_type": "markdown",
   "metadata": {},
   "source": [
    "## Set\n",
    "\n",
    "3)\n",
    "\n",
    "Extra reading: https://www.programiz.com/python-programming/set\n",
    "\n",
    "* create a set of all top 4 fruits that you like, put it in set A\n",
    "* create another set of top 4 fruits that your dad or mom like, put it in set B\n",
    "* find and print out what fruits that both you and your parent like\n",
    "* find and print out what fruits that only you like"
   ]
  },
  {
   "cell_type": "code",
   "execution_count": null,
   "metadata": {
    "collapsed": true
   },
   "outputs": [],
   "source": []
  },
  {
   "cell_type": "markdown",
   "metadata": {},
   "source": [
    "## Dict\n",
    "\n",
    "4)\n",
    "\n",
    "Extra Reading: https://www.programiz.com/python-programming/dictionary\n",
    "\n",
    "* create a dict that contain key-value pairs of {country: capital}, example: {'US': 'Washington DC'}, put at least 5 entries in it\n",
    "* print all the country names\n",
    "* print all capitals\n",
    "* add one entry to the dict\n",
    "* check if 'China' in your dict keys\n",
    "* check if 'Shanghai' in your dict values"
   ]
  },
  {
   "cell_type": "code",
   "execution_count": null,
   "metadata": {
    "collapsed": true
   },
   "outputs": [],
   "source": []
  },
  {
   "cell_type": "markdown",
   "metadata": {},
   "source": [
    "## 3 Dictionary to Lists\n",
    "\n",
    "5)\n",
    "\n",
    "For the following dictionary: \n",
    "\n",
    " * change Ethel Smyth's sports to Tennis.\n",
    " * print all of the keys\n",
    " * print all of the values\n",
    " \n"
   ]
  },
  {
   "cell_type": "code",
   "execution_count": null,
   "metadata": {},
   "outputs": [],
   "source": [
    "peopleDict = {'Ralph Williams' : 'Football',\n",
    "        'Michael Tippett' : 'Basketball',\n",
    "        'Edward Elgar' : 'Baseball',\n",
    "        'Rebecca Clarke' : 'Netball',\n",
    "        'Ethel Smyth' : 'Badminton',\n",
    "        'Frank Bridge' : 'Rugby'}"
   ]
  }
 ],
 "metadata": {
  "anaconda-cloud": {},
  "kernelspec": {
   "display_name": "Python 3",
   "language": "python",
   "name": "python3"
  },
  "language_info": {
   "codemirror_mode": {
    "name": "ipython",
    "version": 3
   },
   "file_extension": ".py",
   "mimetype": "text/x-python",
   "name": "python",
   "nbconvert_exporter": "python",
   "pygments_lexer": "ipython3",
   "version": "3.7.3"
  }
 },
 "nbformat": 4,
 "nbformat_minor": 2
}
