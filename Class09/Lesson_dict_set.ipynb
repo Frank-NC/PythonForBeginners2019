{
 "cells": [
  {
   "cell_type": "markdown",
   "metadata": {},
   "source": [
    "# Python Data Types - Set, Dictionary\n",
    "\n",
    "\n",
    "In this lesson, we learn 2 important data types:\n",
    "* Set : a sequence of unique items\n",
    "* Dictionary : set of key:value pairs, aka, Map, Associative Array, Hash Table"
   ]
  },
  {
   "cell_type": "markdown",
   "metadata": {},
   "source": [
    "## Set\n",
    "\n",
    "* an unordered collection of distinct items\n",
    "* set collection <font color=red>__delimitor__</font> is curly brackets: {, } "
   ]
  },
  {
   "cell_type": "code",
   "execution_count": 2,
   "metadata": {
    "collapsed": true
   },
   "outputs": [],
   "source": [
    "color_set = {'Red','Green','Blue'}"
   ]
  },
  {
   "cell_type": "code",
   "execution_count": 3,
   "metadata": {},
   "outputs": [
    {
     "data": {
      "text/plain": [
       "set"
      ]
     },
     "execution_count": 3,
     "metadata": {},
     "output_type": "execute_result"
    }
   ],
   "source": [
    "type(color_set)"
   ]
  },
  {
   "cell_type": "code",
   "execution_count": 4,
   "metadata": {
    "collapsed": true
   },
   "outputs": [],
   "source": [
    "color_set.add('White')"
   ]
  },
  {
   "cell_type": "code",
   "execution_count": 5,
   "metadata": {},
   "outputs": [
    {
     "name": "stdout",
     "output_type": "stream",
     "text": [
      "{'Blue', 'White', 'Green', 'Red'}\n"
     ]
    }
   ],
   "source": [
    "# cannot add duplicate item\n",
    "color_set.add('Red')\n",
    "print(color_set)"
   ]
  },
  {
   "cell_type": "code",
   "execution_count": 6,
   "metadata": {},
   "outputs": [
    {
     "data": {
      "text/plain": [
       "4"
      ]
     },
     "execution_count": 6,
     "metadata": {},
     "output_type": "execute_result"
    }
   ],
   "source": [
    "len(color_set)"
   ]
  },
  {
   "cell_type": "code",
   "execution_count": 7,
   "metadata": {},
   "outputs": [
    {
     "name": "stdout",
     "output_type": "stream",
     "text": [
      "False\n"
     ]
    }
   ],
   "source": [
    "# check existence\n",
    "print('Black' in color_set)"
   ]
  },
  {
   "cell_type": "code",
   "execution_count": 8,
   "metadata": {},
   "outputs": [
    {
     "name": "stdout",
     "output_type": "stream",
     "text": [
      "True\n"
     ]
    }
   ],
   "source": [
    "# check existence\n",
    "print('Red' in color_set)"
   ]
  },
  {
   "cell_type": "markdown",
   "metadata": {},
   "source": [
    "### Distinct items in a list"
   ]
  },
  {
   "cell_type": "code",
   "execution_count": 9,
   "metadata": {},
   "outputs": [
    {
     "data": {
      "text/plain": [
       "[3, 5, 3, 13, 7, 9, 13, 13]"
      ]
     },
     "execution_count": 9,
     "metadata": {},
     "output_type": "execute_result"
    }
   ],
   "source": [
    "num_list = [3, 5, 3, 13, 7, 9, 13, 13]\n",
    "num_list"
   ]
  },
  {
   "cell_type": "code",
   "execution_count": 10,
   "metadata": {},
   "outputs": [
    {
     "name": "stdout",
     "output_type": "stream",
     "text": [
      "{9, 13, 3, 5, 7}\n"
     ]
    }
   ],
   "source": [
    "# convert a list to a set\n",
    "print(set(num_list))"
   ]
  },
  {
   "cell_type": "markdown",
   "metadata": {},
   "source": [
    "### Set operations\n",
    "\n",
    "#### Venn diagram\n",
    "\n",
    "<img src=../images/venn_diagram.jpg>"
   ]
  },
  {
   "cell_type": "code",
   "execution_count": 11,
   "metadata": {},
   "outputs": [
    {
     "name": "stdout",
     "output_type": "stream",
     "text": [
      "{'Triangle', 'Pentagon', 'Circle', 'Hexagon'}\n"
     ]
    }
   ],
   "source": [
    "shapes_1 = {'Circle','Triangle','Pentagon', 'Hexagon'}\n",
    "print(shapes_1)"
   ]
  },
  {
   "cell_type": "code",
   "execution_count": 12,
   "metadata": {},
   "outputs": [
    {
     "data": {
      "text/plain": [
       "set"
      ]
     },
     "execution_count": 12,
     "metadata": {},
     "output_type": "execute_result"
    }
   ],
   "source": [
    "type(shapes_1)"
   ]
  },
  {
   "cell_type": "code",
   "execution_count": 13,
   "metadata": {},
   "outputs": [
    {
     "name": "stdout",
     "output_type": "stream",
     "text": [
      "{'Diamond', 'Triangle', 'Square', 'Circle'}\n"
     ]
    }
   ],
   "source": [
    "shapes_2 = {'Circle','Triangle','Diamond', 'Square'}\n",
    "print(shapes_2)"
   ]
  },
  {
   "cell_type": "code",
   "execution_count": 14,
   "metadata": {},
   "outputs": [
    {
     "data": {
      "text/plain": [
       "{'Circle', 'Triangle'}"
      ]
     },
     "execution_count": 14,
     "metadata": {},
     "output_type": "execute_result"
    }
   ],
   "source": [
    "# Intersection -- find the common item between two sets\n",
    "shapes_1.intersection(shapes_2)"
   ]
  },
  {
   "cell_type": "code",
   "execution_count": 15,
   "metadata": {},
   "outputs": [
    {
     "data": {
      "text/plain": [
       "{'Circle', 'Diamond', 'Hexagon', 'Pentagon', 'Square', 'Triangle'}"
      ]
     },
     "execution_count": 15,
     "metadata": {},
     "output_type": "execute_result"
    }
   ],
   "source": [
    "# Union -- find total items among all the sets\n",
    "shapes_1.union(shapes_2)"
   ]
  },
  {
   "cell_type": "code",
   "execution_count": 16,
   "metadata": {},
   "outputs": [
    {
     "data": {
      "text/plain": [
       "{'Hexagon', 'Pentagon'}"
      ]
     },
     "execution_count": 16,
     "metadata": {},
     "output_type": "execute_result"
    }
   ],
   "source": [
    "# Difference\n",
    "shapes_1.difference(shapes_2)"
   ]
  },
  {
   "cell_type": "code",
   "execution_count": 17,
   "metadata": {},
   "outputs": [
    {
     "data": {
      "text/plain": [
       "{'Diamond', 'Square'}"
      ]
     },
     "execution_count": 17,
     "metadata": {},
     "output_type": "execute_result"
    }
   ],
   "source": [
    "# order matters\n",
    "shapes_2.difference(shapes_1)"
   ]
  },
  {
   "cell_type": "markdown",
   "metadata": {},
   "source": [
    "## [Dictionary](https://docs.python.org/3/library/stdtypes.html?highlight=set#dict) / Map\n",
    "\n",
    "* Dictionary <font color=red>__delimitor__</font> is curly brackets: {, } , \n",
    "    * key/value pair  <font color=red>__delimitor__</font> is \":\"\n",
    "* Keys are distinct, that is why it uses same delimitors as set\n",
    "* The value store information associated with a key\n",
    "* an unordered collection of key:value pair (unlike regular English dictionary, keys are NOT sorted alphabetically)\n",
    "* a very efficient/useful data structure\n",
    "* Three nicknames\n",
    "    * Map (2-dimentional)\n",
    "    * Associative Array\n",
    "    * Hash table"
   ]
  },
  {
   "cell_type": "markdown",
   "metadata": {},
   "source": [
    "### Start with an example"
   ]
  },
  {
   "cell_type": "code",
   "execution_count": 8,
   "metadata": {},
   "outputs": [
    {
     "name": "stdout",
     "output_type": "stream",
     "text": [
      "{'Ralph Williams': 'Rugby', 'Michael Tippett': 'Basketball', 'Edward Elgar': 'Baseball', 'Rebecca Clarke': 'Football', 'Ethel Smyth': 'Badminton', 'Frank Bridge': 'Rugby'}\n"
     ]
    }
   ],
   "source": [
    "favorite_sports = {'Ralph Williams' : 'Football',\n",
    "    'Michael Tippett' : 'Basketball',\n",
    "    'Edward Elgar' : 'Baseball',\n",
    "    'Rebecca Clarke' : 'Football',\n",
    "    'Ethel Smyth' : 'Badminton',\n",
    "    'Frank Bridge' : 'Rugby',\n",
    "    'Ralph Williams' : 'Rugby',\n",
    "    }\n",
    "print(favorite_sports)"
   ]
  },
  {
   "cell_type": "code",
   "execution_count": 5,
   "metadata": {},
   "outputs": [
    {
     "data": {
      "text/plain": [
       "dict"
      ]
     },
     "execution_count": 5,
     "metadata": {},
     "output_type": "execute_result"
    }
   ],
   "source": [
    "type(favorite_sports)"
   ]
  },
  {
   "cell_type": "code",
   "execution_count": 6,
   "metadata": {},
   "outputs": [
    {
     "data": {
      "text/plain": [
       "6"
      ]
     },
     "execution_count": 6,
     "metadata": {},
     "output_type": "execute_result"
    }
   ],
   "source": [
    "len(favorite_sports)"
   ]
  },
  {
   "cell_type": "code",
   "execution_count": 7,
   "metadata": {},
   "outputs": [
    {
     "name": "stdout",
     "output_type": "stream",
     "text": [
      "{'Ralph Williams': 'Football', 'Michael Tippett': 'Basketball', 'Edward Elgar': 'Baseball', 'Rebecca Clarke': 'Football', 'Ethel Smyth': 'Badminton', 'Frank Bridge': 'Rugby'}\n"
     ]
    }
   ],
   "source": [
    "print(favorite_sports)"
   ]
  },
  {
   "cell_type": "markdown",
   "metadata": {
    "collapsed": true
   },
   "source": [
    "<img src=../images/dictionary.jpg>"
   ]
  },
  {
   "cell_type": "markdown",
   "metadata": {},
   "source": [
    "### How to create dictionary"
   ]
  },
  {
   "cell_type": "code",
   "execution_count": 22,
   "metadata": {},
   "outputs": [],
   "source": [
    "dict2 = { '工作' : 'work', '学习':'study, learn' , '玩':'play'}"
   ]
  },
  {
   "cell_type": "code",
   "execution_count": 23,
   "metadata": {},
   "outputs": [
    {
     "name": "stdout",
     "output_type": "stream",
     "text": [
      "{'学习': 'study, learn', '工作': 'work', '玩': 'play'}\n"
     ]
    }
   ],
   "source": [
    "print(dict2)"
   ]
  },
  {
   "cell_type": "code",
   "execution_count": 24,
   "metadata": {},
   "outputs": [
    {
     "data": {
      "text/plain": [
       "'study, learn'"
      ]
     },
     "execution_count": 24,
     "metadata": {},
     "output_type": "execute_result"
    }
   ],
   "source": [
    "dict2['学习']"
   ]
  },
  {
   "cell_type": "code",
   "execution_count": 25,
   "metadata": {},
   "outputs": [
    {
     "name": "stdout",
     "output_type": "stream",
     "text": [
      "Meaning of 工作 is work\n"
     ]
    }
   ],
   "source": [
    "key = '工作'\n",
    "print(\"Meaning of %s is %s\" % (key,  dict2[key]))"
   ]
  },
  {
   "cell_type": "code",
   "execution_count": 13,
   "metadata": {},
   "outputs": [
    {
     "name": "stdout",
     "output_type": "stream",
     "text": [
      "John\n"
     ]
    }
   ],
   "source": [
    "dict3 = dict(name='John', age=10, height=54.5, weight= 70)\n",
    "dict4 = {'age': 10, 'height': 54.5, 'name': 'John', 'weight': 70}\n",
    "print(dict4['name'])"
   ]
  },
  {
   "cell_type": "code",
   "execution_count": 27,
   "metadata": {},
   "outputs": [
    {
     "data": {
      "text/plain": [
       "{'age': 10, 'height': 54.5, 'name': 'John', 'weight': 70}"
      ]
     },
     "execution_count": 27,
     "metadata": {},
     "output_type": "execute_result"
    }
   ],
   "source": [
    "dict3"
   ]
  },
  {
   "cell_type": "code",
   "execution_count": 28,
   "metadata": {},
   "outputs": [
    {
     "data": {
      "text/plain": [
       "dict"
      ]
     },
     "execution_count": 28,
     "metadata": {},
     "output_type": "execute_result"
    }
   ],
   "source": [
    "type(dict3)"
   ]
  },
  {
   "cell_type": "code",
   "execution_count": 29,
   "metadata": {},
   "outputs": [
    {
     "data": {
      "text/plain": [
       "4"
      ]
     },
     "execution_count": 29,
     "metadata": {},
     "output_type": "execute_result"
    }
   ],
   "source": [
    "len(dict3)"
   ]
  },
  {
   "cell_type": "markdown",
   "metadata": {},
   "source": [
    "### Common operations"
   ]
  },
  {
   "cell_type": "markdown",
   "metadata": {},
   "source": [
    "#### get all the keys"
   ]
  },
  {
   "cell_type": "code",
   "execution_count": 30,
   "metadata": {},
   "outputs": [],
   "source": [
    "key_list = dict2.keys()"
   ]
  },
  {
   "cell_type": "code",
   "execution_count": 31,
   "metadata": {},
   "outputs": [
    {
     "name": "stdout",
     "output_type": "stream",
     "text": [
      "dict_keys(['学习', '工作', '玩'])\n"
     ]
    }
   ],
   "source": [
    "print(key_list)"
   ]
  },
  {
   "cell_type": "markdown",
   "metadata": {},
   "source": [
    "#### get all the values"
   ]
  },
  {
   "cell_type": "code",
   "execution_count": 32,
   "metadata": {},
   "outputs": [],
   "source": [
    "value_list = dict2.values()"
   ]
  },
  {
   "cell_type": "code",
   "execution_count": 33,
   "metadata": {},
   "outputs": [
    {
     "name": "stdout",
     "output_type": "stream",
     "text": [
      "dict_values(['study, learn', 'work', 'play'])\n"
     ]
    }
   ],
   "source": [
    "print(value_list)"
   ]
  },
  {
   "cell_type": "markdown",
   "metadata": {},
   "source": [
    "#### get all the items\n",
    "\n",
    "key:value pair is called an item"
   ]
  },
  {
   "cell_type": "code",
   "execution_count": 34,
   "metadata": {
    "collapsed": true
   },
   "outputs": [],
   "source": [
    "item_list = dict2.items()"
   ]
  },
  {
   "cell_type": "code",
   "execution_count": 35,
   "metadata": {},
   "outputs": [
    {
     "name": "stdout",
     "output_type": "stream",
     "text": [
      "dict_items([('学习', 'study, learn'), ('工作', 'work'), ('玩', 'play')])\n"
     ]
    }
   ],
   "source": [
    "print(item_list)"
   ]
  },
  {
   "cell_type": "code",
   "execution_count": 36,
   "metadata": {},
   "outputs": [
    {
     "name": "stdout",
     "output_type": "stream",
     "text": [
      "3\n"
     ]
    }
   ],
   "source": [
    "# count number of items\n",
    "print(len(dict2))"
   ]
  },
  {
   "cell_type": "markdown",
   "metadata": {},
   "source": [
    "#### in - existence check"
   ]
  },
  {
   "cell_type": "code",
   "execution_count": 37,
   "metadata": {},
   "outputs": [
    {
     "name": "stdout",
     "output_type": "stream",
     "text": [
      "True\n"
     ]
    }
   ],
   "source": [
    "print('玩' in dict2)"
   ]
  },
  {
   "cell_type": "code",
   "execution_count": 38,
   "metadata": {},
   "outputs": [
    {
     "name": "stdout",
     "output_type": "stream",
     "text": [
      "False\n"
     ]
    }
   ],
   "source": [
    "print('游戏' in dict2)"
   ]
  },
  {
   "cell_type": "markdown",
   "metadata": {},
   "source": [
    "#### add an item"
   ]
  },
  {
   "cell_type": "code",
   "execution_count": 17,
   "metadata": {},
   "outputs": [
    {
     "name": "stdout",
     "output_type": "stream",
     "text": [
      "game\n"
     ]
    }
   ],
   "source": [
    "dict2 = { '工作' : 'work', '学习':'study, learn' , '玩':'play'}\n",
    "dict2['工作'] = 'game'\n",
    "a = dict2['工作']\n",
    "print(a)"
   ]
  },
  {
   "cell_type": "code",
   "execution_count": null,
   "metadata": {},
   "outputs": [],
   "source": []
  },
  {
   "cell_type": "code",
   "execution_count": 40,
   "metadata": {},
   "outputs": [
    {
     "data": {
      "text/plain": [
       "{'学习': 'study, learn', '工作': 'work', '游戏': 'game', '玩': 'play'}"
      ]
     },
     "execution_count": 40,
     "metadata": {},
     "output_type": "execute_result"
    }
   ],
   "source": [
    "dict2"
   ]
  },
  {
   "cell_type": "code",
   "execution_count": 41,
   "metadata": {},
   "outputs": [
    {
     "name": "stdout",
     "output_type": "stream",
     "text": [
      "4\n"
     ]
    }
   ],
   "source": [
    "# count number of items\n",
    "print(len(dict2))"
   ]
  },
  {
   "cell_type": "markdown",
   "metadata": {},
   "source": [
    "#### update an item"
   ]
  },
  {
   "cell_type": "code",
   "execution_count": 42,
   "metadata": {
    "collapsed": true
   },
   "outputs": [],
   "source": [
    "dict2['游戏'] = 'computer game'.upper()"
   ]
  },
  {
   "cell_type": "code",
   "execution_count": 43,
   "metadata": {},
   "outputs": [
    {
     "data": {
      "text/plain": [
       "{'学习': 'study, learn', '工作': 'work', '游戏': 'COMPUTER GAME', '玩': 'play'}"
      ]
     },
     "execution_count": 43,
     "metadata": {},
     "output_type": "execute_result"
    }
   ],
   "source": [
    "dict2"
   ]
  },
  {
   "cell_type": "markdown",
   "metadata": {},
   "source": [
    "#### remove an item"
   ]
  },
  {
   "cell_type": "code",
   "execution_count": 44,
   "metadata": {
    "collapsed": true
   },
   "outputs": [],
   "source": [
    "dict2['work'] = '工作'"
   ]
  },
  {
   "cell_type": "code",
   "execution_count": 45,
   "metadata": {},
   "outputs": [
    {
     "data": {
      "text/plain": [
       "{'work': '工作',\n",
       " '学习': 'study, learn',\n",
       " '工作': 'work',\n",
       " '游戏': 'COMPUTER GAME',\n",
       " '玩': 'play'}"
      ]
     },
     "execution_count": 45,
     "metadata": {},
     "output_type": "execute_result"
    }
   ],
   "source": [
    "dict2"
   ]
  },
  {
   "cell_type": "code",
   "execution_count": 46,
   "metadata": {
    "collapsed": true
   },
   "outputs": [],
   "source": [
    "del dict2['work']"
   ]
  },
  {
   "cell_type": "code",
   "execution_count": 47,
   "metadata": {},
   "outputs": [
    {
     "data": {
      "text/plain": [
       "{'学习': 'study, learn', '工作': 'work', '游戏': 'COMPUTER GAME', '玩': 'play'}"
      ]
     },
     "execution_count": 47,
     "metadata": {},
     "output_type": "execute_result"
    }
   ],
   "source": [
    "dict2"
   ]
  },
  {
   "cell_type": "code",
   "execution_count": 48,
   "metadata": {
    "collapsed": true
   },
   "outputs": [],
   "source": [
    "dict2['work'] = '工作'"
   ]
  },
  {
   "cell_type": "code",
   "execution_count": 49,
   "metadata": {},
   "outputs": [
    {
     "data": {
      "text/plain": [
       "{'work': '工作',\n",
       " '学习': 'study, learn',\n",
       " '工作': 'work',\n",
       " '游戏': 'COMPUTER GAME',\n",
       " '玩': 'play'}"
      ]
     },
     "execution_count": 49,
     "metadata": {},
     "output_type": "execute_result"
    }
   ],
   "source": [
    "dict2"
   ]
  },
  {
   "cell_type": "code",
   "execution_count": 50,
   "metadata": {},
   "outputs": [
    {
     "data": {
      "text/plain": [
       "'工作'"
      ]
     },
     "execution_count": 50,
     "metadata": {},
     "output_type": "execute_result"
    }
   ],
   "source": [
    "dict2.pop('work')"
   ]
  },
  {
   "cell_type": "code",
   "execution_count": 51,
   "metadata": {},
   "outputs": [
    {
     "data": {
      "text/plain": [
       "{'学习': 'study, learn', '工作': 'work', '游戏': 'COMPUTER GAME', '玩': 'play'}"
      ]
     },
     "execution_count": 51,
     "metadata": {},
     "output_type": "execute_result"
    }
   ],
   "source": [
    "dict2"
   ]
  },
  {
   "cell_type": "markdown",
   "metadata": {},
   "source": [
    "#### clear a dictionary"
   ]
  },
  {
   "cell_type": "code",
   "execution_count": 52,
   "metadata": {
    "collapsed": true
   },
   "outputs": [],
   "source": [
    "dict3 = {1: 'one', 2: 'two', 3: 'three'}"
   ]
  },
  {
   "cell_type": "code",
   "execution_count": 53,
   "metadata": {},
   "outputs": [
    {
     "data": {
      "text/plain": [
       "{1: 'one', 2: 'two', 3: 'three'}"
      ]
     },
     "execution_count": 53,
     "metadata": {},
     "output_type": "execute_result"
    }
   ],
   "source": [
    "dict3"
   ]
  },
  {
   "cell_type": "code",
   "execution_count": 54,
   "metadata": {
    "collapsed": true
   },
   "outputs": [],
   "source": [
    "dict3.clear()"
   ]
  },
  {
   "cell_type": "code",
   "execution_count": 55,
   "metadata": {},
   "outputs": [
    {
     "data": {
      "text/plain": [
       "{}"
      ]
     },
     "execution_count": 55,
     "metadata": {},
     "output_type": "execute_result"
    }
   ],
   "source": [
    "dict3"
   ]
  },
  {
   "cell_type": "code",
   "execution_count": 56,
   "metadata": {},
   "outputs": [
    {
     "data": {
      "text/plain": [
       "0"
      ]
     },
     "execution_count": 56,
     "metadata": {},
     "output_type": "execute_result"
    }
   ],
   "source": [
    "len(dict3)"
   ]
  },
  {
   "cell_type": "markdown",
   "metadata": {},
   "source": [
    "#### reset to empty"
   ]
  },
  {
   "cell_type": "code",
   "execution_count": 57,
   "metadata": {
    "collapsed": true
   },
   "outputs": [],
   "source": [
    "dict3 = {1: 'one', 2: 'two', 3: 'three'}"
   ]
  },
  {
   "cell_type": "code",
   "execution_count": 58,
   "metadata": {},
   "outputs": [
    {
     "data": {
      "text/plain": [
       "{1: 'one', 2: 'two', 3: 'three'}"
      ]
     },
     "execution_count": 58,
     "metadata": {},
     "output_type": "execute_result"
    }
   ],
   "source": [
    "dict3"
   ]
  },
  {
   "cell_type": "code",
   "execution_count": 59,
   "metadata": {
    "collapsed": true
   },
   "outputs": [],
   "source": [
    "dict3 = {}"
   ]
  },
  {
   "cell_type": "code",
   "execution_count": 60,
   "metadata": {},
   "outputs": [
    {
     "data": {
      "text/plain": [
       "{}"
      ]
     },
     "execution_count": 60,
     "metadata": {},
     "output_type": "execute_result"
    }
   ],
   "source": [
    "dict3"
   ]
  },
  {
   "cell_type": "markdown",
   "metadata": {},
   "source": [
    "#### merge two dictionaries into one\n",
    "\n",
    "row-wise\n",
    "\n",
    "\n",
    "<img src=../images/merge-dict.jpg>"
   ]
  },
  {
   "cell_type": "code",
   "execution_count": 21,
   "metadata": {},
   "outputs": [],
   "source": [
    "# western countries\n",
    "dict4_a = {'美国':'USA', '英国':'England', '法国':'France', '德国':'Germany' \n",
    "           #, '俄国' : 'Russia'\n",
    "          }"
   ]
  },
  {
   "cell_type": "code",
   "execution_count": 22,
   "metadata": {},
   "outputs": [
    {
     "data": {
      "text/plain": [
       "{'美国': 'USA', '英国': 'England', '法国': 'France', '德国': 'Germany'}"
      ]
     },
     "execution_count": 22,
     "metadata": {},
     "output_type": "execute_result"
    }
   ],
   "source": [
    "dict4_a"
   ]
  },
  {
   "cell_type": "code",
   "execution_count": 23,
   "metadata": {},
   "outputs": [],
   "source": [
    "# eastern countries\n",
    "dict4_b = {'中国':'China', '印度':'India', '日本':'Japan'}"
   ]
  },
  {
   "cell_type": "code",
   "execution_count": 24,
   "metadata": {},
   "outputs": [
    {
     "data": {
      "text/plain": [
       "{'中国': 'China', '印度': 'India', '日本': 'Japan'}"
      ]
     },
     "execution_count": 24,
     "metadata": {},
     "output_type": "execute_result"
    }
   ],
   "source": [
    "dict4_b"
   ]
  },
  {
   "cell_type": "code",
   "execution_count": 25,
   "metadata": {},
   "outputs": [],
   "source": [
    "dict4 = dict(list(dict4_a.items()) + list(dict4_b.items()))"
   ]
  },
  {
   "cell_type": "code",
   "execution_count": 66,
   "metadata": {},
   "outputs": [
    {
     "data": {
      "text/plain": [
       "{'中国': 'China',\n",
       " '印度': 'India',\n",
       " '德国': 'Germany',\n",
       " '日本': 'Japan',\n",
       " '法国': 'France',\n",
       " '美国': 'USA',\n",
       " '英国': 'England'}"
      ]
     },
     "execution_count": 66,
     "metadata": {},
     "output_type": "execute_result"
    }
   ],
   "source": [
    "dict4"
   ]
  },
  {
   "cell_type": "markdown",
   "metadata": {},
   "source": [
    "#### zip two lists into a dictionary\n",
    "\n",
    "column-wise"
   ]
  },
  {
   "cell_type": "code",
   "execution_count": 26,
   "metadata": {},
   "outputs": [],
   "source": [
    "key_list = dict4.keys()"
   ]
  },
  {
   "cell_type": "code",
   "execution_count": 27,
   "metadata": {},
   "outputs": [],
   "source": [
    "value_list = dict4.values()"
   ]
  },
  {
   "cell_type": "code",
   "execution_count": 28,
   "metadata": {},
   "outputs": [
    {
     "data": {
      "text/plain": [
       "(dict_keys(['美国', '英国', '法国', '德国', '中国', '印度', '日本']),\n",
       " dict_values(['USA', 'England', 'France', 'Germany', 'China', 'India', 'Japan']))"
      ]
     },
     "execution_count": 28,
     "metadata": {},
     "output_type": "execute_result"
    }
   ],
   "source": [
    "key_list, value_list"
   ]
  },
  {
   "cell_type": "code",
   "execution_count": 29,
   "metadata": {},
   "outputs": [],
   "source": [
    "dict5 = dict(zip(key_list, value_list))"
   ]
  },
  {
   "cell_type": "code",
   "execution_count": null,
   "metadata": {},
   "outputs": [],
   "source": []
  },
  {
   "cell_type": "code",
   "execution_count": 30,
   "metadata": {},
   "outputs": [
    {
     "data": {
      "text/plain": [
       "{'美国': 'USA',\n",
       " '英国': 'England',\n",
       " '法国': 'France',\n",
       " '德国': 'Germany',\n",
       " '中国': 'China',\n",
       " '印度': 'India',\n",
       " '日本': 'Japan'}"
      ]
     },
     "execution_count": 30,
     "metadata": {},
     "output_type": "execute_result"
    }
   ],
   "source": [
    "dict5"
   ]
  },
  {
   "cell_type": "code",
   "execution_count": 31,
   "metadata": {},
   "outputs": [],
   "source": [
    "# switch key/value\n",
    "dict6 = dict(zip(value_list, key_list))"
   ]
  },
  {
   "cell_type": "code",
   "execution_count": 73,
   "metadata": {
    "scrolled": true
   },
   "outputs": [
    {
     "data": {
      "text/plain": [
       "{'China': '中国',\n",
       " 'England': '英国',\n",
       " 'France': '法国',\n",
       " 'Germany': '德国',\n",
       " 'India': '印度',\n",
       " 'Japan': '日本',\n",
       " 'USA': '美国'}"
      ]
     },
     "execution_count": 73,
     "metadata": {},
     "output_type": "execute_result"
    }
   ],
   "source": [
    "dict6"
   ]
  },
  {
   "cell_type": "markdown",
   "metadata": {},
   "source": [
    "### Complex dictionary"
   ]
  },
  {
   "cell_type": "code",
   "execution_count": 74,
   "metadata": {
    "collapsed": true
   },
   "outputs": [],
   "source": [
    "# key is string, value is a list"
   ]
  },
  {
   "cell_type": "code",
   "execution_count": 75,
   "metadata": {
    "collapsed": true
   },
   "outputs": [],
   "source": [
    "dict7 = dict(one=[0], two=[0,1], three=[0,1,2], four=[0,1,2,4])"
   ]
  },
  {
   "cell_type": "code",
   "execution_count": 76,
   "metadata": {},
   "outputs": [
    {
     "data": {
      "text/plain": [
       "{'four': [0, 1, 2, 4], 'one': [0], 'three': [0, 1, 2], 'two': [0, 1]}"
      ]
     },
     "execution_count": 76,
     "metadata": {},
     "output_type": "execute_result"
    }
   ],
   "source": [
    "dict7"
   ]
  },
  {
   "cell_type": "code",
   "execution_count": 77,
   "metadata": {
    "collapsed": true
   },
   "outputs": [],
   "source": [
    "# nested dictionary:  key is number, value is a dictionary"
   ]
  },
  {
   "cell_type": "code",
   "execution_count": 78,
   "metadata": {
    "collapsed": true
   },
   "outputs": [],
   "source": [
    "dict8 = {1: {'name':'John Wang', 'sex':'Male', 'grade':7, 'age':14} ,\n",
    "         2: {'name':'Jane Li', 'sex':'Female', 'grade':8, 'age':15} ,\n",
    "         3: {'name':'Kevin Chen', 'sex':'Male', 'grade':6, 'age':12} \n",
    "        }"
   ]
  },
  {
   "cell_type": "code",
   "execution_count": 79,
   "metadata": {},
   "outputs": [
    {
     "data": {
      "text/plain": [
       "{1: {'age': 14, 'grade': 7, 'name': 'John Wang', 'sex': 'Male'},\n",
       " 2: {'age': 15, 'grade': 8, 'name': 'Jane Li', 'sex': 'Female'},\n",
       " 3: {'age': 12, 'grade': 6, 'name': 'Kevin Chen', 'sex': 'Male'}}"
      ]
     },
     "execution_count": 79,
     "metadata": {},
     "output_type": "execute_result"
    }
   ],
   "source": [
    "dict8"
   ]
  },
  {
   "cell_type": "code",
   "execution_count": 80,
   "metadata": {},
   "outputs": [
    {
     "data": {
      "text/plain": [
       "{'age': 14, 'grade': 7, 'name': 'John Wang', 'sex': 'Male'}"
      ]
     },
     "execution_count": 80,
     "metadata": {},
     "output_type": "execute_result"
    }
   ],
   "source": [
    "dict8[1]"
   ]
  },
  {
   "cell_type": "code",
   "execution_count": 81,
   "metadata": {},
   "outputs": [],
   "source": [
    "#dict8[5]"
   ]
  },
  {
   "cell_type": "markdown",
   "metadata": {},
   "source": [
    "### Iterating a Dictionary with for-loop"
   ]
  },
  {
   "cell_type": "code",
   "execution_count": 32,
   "metadata": {},
   "outputs": [
    {
     "name": "stdout",
     "output_type": "stream",
     "text": [
      "China\n",
      "England\n",
      "France\n",
      "Germany\n",
      "India\n",
      "Japan\n",
      "USA\n"
     ]
    }
   ],
   "source": [
    "dict6 = \\\n",
    "{'China': '中国',\n",
    " 'England': '英国',\n",
    " 'France': '法国',\n",
    " 'Germany': '德国',\n",
    " 'India': '印度',\n",
    " 'Japan': '日本',\n",
    " 'USA': '美国'}\n",
    "\n",
    "for item in dict6:\n",
    "    print(item)"
   ]
  },
  {
   "cell_type": "code",
   "execution_count": 33,
   "metadata": {},
   "outputs": [
    {
     "name": "stdout",
     "output_type": "stream",
     "text": [
      "key= China  \t:  value= 中国\n",
      "key= England  \t:  value= 英国\n",
      "key= France  \t:  value= 法国\n",
      "key= Germany  \t:  value= 德国\n",
      "key= India  \t:  value= 印度\n",
      "key= Japan  \t:  value= 日本\n",
      "key= USA  \t:  value= 美国\n"
     ]
    }
   ],
   "source": [
    "dict6 = \\\n",
    "{'China': '中国',\n",
    " 'England': '英国',\n",
    " 'France': '法国',\n",
    " 'Germany': '德国',\n",
    " 'India': '印度',\n",
    " 'Japan': '日本',\n",
    " 'USA': '美国'}\n",
    "for key,value in dict6.items():\n",
    "    print('key=', key,' \\t: ', 'value=',value)"
   ]
  },
  {
   "cell_type": "code",
   "execution_count": 34,
   "metadata": {},
   "outputs": [
    {
     "name": "stdout",
     "output_type": "stream",
     "text": [
      "dict_items([('China', '中国'), ('England', '英国'), ('France', '法国'), ('Germany', '德国'), ('India', '印度'), ('Japan', '日本'), ('USA', '美国')])\n"
     ]
    }
   ],
   "source": [
    "print(dict6.items())"
   ]
  },
  {
   "cell_type": "code",
   "execution_count": 35,
   "metadata": {},
   "outputs": [
    {
     "name": "stdout",
     "output_type": "stream",
     "text": [
      "loop counter = 1\n",
      "\t\tkey= China\n",
      "loop counter = 2\n",
      "\t\tkey= England\n",
      "loop counter = 3\n",
      "\t\tkey= France\n",
      "loop counter = 4\n",
      "\t\tkey= Germany\n",
      "loop counter = 5\n",
      "\t\tkey= India\n",
      "loop counter = 6\n",
      "\t\tkey= Japan\n",
      "loop counter = 7\n",
      "\t\tkey= USA\n"
     ]
    }
   ],
   "source": [
    "dict6 = \\\n",
    "{'China': '中国',\n",
    " 'England': '英国',\n",
    " 'France': '法国',\n",
    " 'Germany': '德国',\n",
    " 'India': '印度',\n",
    " 'Japan': '日本',\n",
    " 'USA': '美国'}\n",
    "# how to track loop number - use a counter\n",
    "\n",
    "# initialize the counter before loop starts\n",
    "n = 0 \n",
    "for item in dict6:\n",
    "    n = n + 1  # increment counter by 1\n",
    "    print('loop counter = %d' % n)\n",
    "    print('\\t\\tkey=', item)"
   ]
  },
  {
   "cell_type": "code",
   "execution_count": 36,
   "metadata": {},
   "outputs": [
    {
     "name": "stdout",
     "output_type": "stream",
     "text": [
      "loop counter = 1\n",
      "\t\tKey  = China\n",
      "\t\tValue= 中国\n",
      "loop counter = 2\n",
      "\t\tKey  = England\n",
      "\t\tValue= 英国\n",
      "loop counter = 3\n",
      "\t\tKey  = France\n",
      "\t\tValue= 法国\n",
      "loop counter = 4\n",
      "\t\tKey  = Germany\n",
      "\t\tValue= 德国\n",
      "loop counter = 5\n",
      "\t\tKey  = India\n",
      "\t\tValue= 印度\n",
      "loop counter = 6\n",
      "\t\tKey  = Japan\n",
      "\t\tValue= 日本\n",
      "loop counter = 7\n",
      "\t\tKey  = USA\n",
      "\t\tValue= 美国\n"
     ]
    }
   ],
   "source": [
    "dict6 = \\\n",
    "{'China': '中国',\n",
    " 'England': '英国',\n",
    " 'France': '法国',\n",
    " 'Germany': '德国',\n",
    " 'India': '印度',\n",
    " 'Japan': '日本',\n",
    " 'USA': '美国'}\n",
    "\n",
    "# how to loop thru a dictionary\n",
    "\n",
    "# initialize the counter before loop starts\n",
    "n = 0 \n",
    "for item in dict6:\n",
    "    n = n + 1  # increment counter by 1\n",
    "    print('loop counter = %d' % n)\n",
    "    print('\\t\\tKey  =', item)\n",
    "    print('\\t\\tValue=', dict6[item])"
   ]
  },
  {
   "cell_type": "markdown",
   "metadata": {},
   "source": [
    "\n",
    "\n"
   ]
  },
  {
   "cell_type": "code",
   "execution_count": null,
   "metadata": {},
   "outputs": [],
   "source": []
  }
 ],
 "metadata": {
  "anaconda-cloud": {},
  "kernelspec": {
   "display_name": "Python 3",
   "language": "python",
   "name": "python3"
  },
  "language_info": {
   "codemirror_mode": {
    "name": "ipython",
    "version": 3
   },
   "file_extension": ".py",
   "mimetype": "text/x-python",
   "name": "python",
   "nbconvert_exporter": "python",
   "pygments_lexer": "ipython3",
   "version": "3.7.3"
  }
 },
 "nbformat": 4,
 "nbformat_minor": 1
}
