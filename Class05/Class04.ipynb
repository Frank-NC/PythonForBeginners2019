{
 "cells": [
  {
   "cell_type": "markdown",
   "metadata": {},
   "source": [
    "## Print Function"
   ]
  },
  {
   "cell_type": "markdown",
   "metadata": {},
   "source": [
    "print() function comes with a parameter called 'end'. By default, the value of this parameter is '\\n', i.e. the new line character."
   ]
  },
  {
   "cell_type": "code",
   "execution_count": 2,
   "metadata": {},
   "outputs": [
    {
     "name": "stdout",
     "output_type": "stream",
     "text": [
      "0\n",
      "1\n",
      "2\n"
     ]
    }
   ],
   "source": [
    "for i in range (3): \n",
    "      print(i)"
   ]
  },
  {
   "cell_type": "code",
   "execution_count": 3,
   "metadata": {},
   "outputs": [
    {
     "name": "stdout",
     "output_type": "stream",
     "text": [
      "0   1   2   "
     ]
    }
   ],
   "source": [
    "for i in range(3):\n",
    "      print(i, end='   ')"
   ]
  },
  {
   "cell_type": "code",
   "execution_count": 4,
   "metadata": {},
   "outputs": [
    {
     "name": "stdout",
     "output_type": "stream",
     "text": [
      "0*1*2*"
     ]
    }
   ],
   "source": [
    "for i in range(3):\n",
    "      print(i, end='*')"
   ]
  },
  {
   "cell_type": "code",
   "execution_count": 5,
   "metadata": {},
   "outputs": [
    {
     "name": "stdout",
     "output_type": "stream",
     "text": [
      "012"
     ]
    }
   ],
   "source": [
    "for i in range(3):\n",
    "      print(i, end='')"
   ]
  },
  {
   "cell_type": "markdown",
   "metadata": {},
   "source": [
    "print with placeholders %\n",
    "```\n",
    "%d  print as an integer\n",
    "%f  print as a float\n",
    "%s  print as a string\n",
    "\n",
    "%m.nf\n",
    "%.2f float with 2 digits after decimal\n",
    "%6.2 float with 6 digits integer and 2 digits after decimal\n",
    "\n",
    "```"
   ]
  },
  {
   "cell_type": "code",
   "execution_count": 1,
   "metadata": {},
   "outputs": [
    {
     "ename": "NameError",
     "evalue": "name 'x' is not defined",
     "output_type": "error",
     "traceback": [
      "\u001b[1;31m---------------------------------------------------------------------------\u001b[0m",
      "\u001b[1;31mNameError\u001b[0m                                 Traceback (most recent call last)",
      "\u001b[1;32m<ipython-input-1-05f4c85f941b>\u001b[0m in \u001b[0;36m<module>\u001b[1;34m\u001b[0m\n\u001b[1;32m----> 1\u001b[1;33m \u001b[0mprint\u001b[0m\u001b[1;33m(\u001b[0m\u001b[1;34m'first number is %d, second number is %f'\u001b[0m\u001b[1;33m%\u001b[0m\u001b[1;33m(\u001b[0m\u001b[0mx\u001b[0m\u001b[1;33m,\u001b[0m \u001b[0my\u001b[0m\u001b[1;33m)\u001b[0m\u001b[1;33m)\u001b[0m\u001b[1;33m\u001b[0m\u001b[1;33m\u001b[0m\u001b[0m\n\u001b[0m",
      "\u001b[1;31mNameError\u001b[0m: name 'x' is not defined"
     ]
    }
   ],
   "source": [
    "print('first number is %d, second number is %f'%(x, y))"
   ]
  },
  {
   "cell_type": "markdown",
   "metadata": {},
   "source": [
    "## Homework 3: print triangle with *"
   ]
  },
  {
   "cell_type": "code",
   "execution_count": null,
   "metadata": {},
   "outputs": [],
   "source": [
    "Using nested loops"
   ]
  },
  {
   "cell_type": "code",
   "execution_count": null,
   "metadata": {},
   "outputs": [],
   "source": [
    "Using string multiplication"
   ]
  },
  {
   "cell_type": "code",
   "execution_count": 65,
   "metadata": {
    "scrolled": true
   },
   "outputs": [
    {
     "name": "stdout",
     "output_type": "stream",
     "text": [
      "please input maximum number of stars in a row:5\n",
      "*\n",
      "**\n",
      "***\n",
      "****\n",
      "*****\n",
      "****\n",
      "***\n",
      "**\n",
      "*\n"
     ]
    }
   ],
   "source": [
    "max_star = int(input(\"please input maximum number of stars in a row:\"))\n",
    "for row in range(1,  max_star+1):\n",
    "    print('*'*row)\n",
    "    \n",
    "for row in range(max_star-1, 0, -1):\n",
    "    print('*'*row)\n"
   ]
  },
  {
   "cell_type": "code",
   "execution_count": null,
   "metadata": {},
   "outputs": [],
   "source": [
    "## Print a Diamond Shape of starts of odd number of input"
   ]
  },
  {
   "cell_type": "code",
   "execution_count": 2,
   "metadata": {},
   "outputs": [
    {
     "name": "stdout",
     "output_type": "stream",
     "text": [
      "please input maximum number of stars in a row:7\n",
      "   *\n",
      "  ***\n",
      " *****\n",
      "*******\n",
      " *****\n",
      "  ***\n",
      "   *\n"
     ]
    }
   ],
   "source": [
    "while True:\n",
    "    width = int(input(\"please input maximum number of stars in a row:\"))\n",
    "    if width%2 != 0:\n",
    "        break\n",
    "    print('Please input an odd number.')\n",
    "    \n",
    "spaces = width//2\n",
    "for row in range(1,  width+1, 2):\n",
    "    print(' '*spaces, end='')\n",
    "    print('*'*row)\n",
    "    spaces -=1\n",
    "    \n",
    "# the bottom half of diamond, do not print middle row again (starts from width-2)\n",
    "spaces = 1\n",
    "for row in range(width-2, 0, -2):\n",
    "    print(' '*(spaces), end='')\n",
    "    print('*'*row)\n",
    "    spaces +=1"
   ]
  },
  {
   "cell_type": "markdown",
   "metadata": {},
   "source": [
    "Print the diamond in the middle of a row"
   ]
  },
  {
   "cell_type": "code",
   "execution_count": 68,
   "metadata": {},
   "outputs": [
    {
     "name": "stdout",
     "output_type": "stream",
     "text": [
      "Offset is  10\n",
      "please input maximum number of stars in a row:7\n",
      "             *\n",
      "            ***\n",
      "           *****\n",
      "          *******\n",
      "           *****\n",
      "            ***\n",
      "             *\n"
     ]
    }
   ],
   "source": [
    "# defind an offset to print the diamond in the middle of the row\n",
    "offset = 10\n",
    "print('Offset is ', offset)\n",
    "\n",
    "while True:\n",
    "    width = int(input(\"please input maximum number of stars in a row:\"))\n",
    "    if width%2 != 0:\n",
    "        break\n",
    "    print('Please input an odd number.')\n",
    "    \n",
    "spaces = width//2\n",
    "for row in range(1,  width+1, 2):\n",
    "    print(' '*(offset+spaces), end='')\n",
    "    print('*'*row)\n",
    "    spaces -=1\n",
    "    \n",
    "# the bottom half of diamond, do not print middle row again (starts from width-2)\n",
    "spaces = 1\n",
    "for row in range(width-2, 0, -2):\n",
    "    print(' '*(offset+spaces), end='')\n",
    "    print('*'*row)\n",
    "    spaces +=1"
   ]
  },
  {
   "cell_type": "markdown",
   "metadata": {},
   "source": [
    "## Swap the value of two variables"
   ]
  },
  {
   "cell_type": "code",
   "execution_count": 3,
   "metadata": {},
   "outputs": [
    {
     "name": "stdout",
     "output_type": "stream",
     "text": [
      "a= 7 b= 3\n"
     ]
    }
   ],
   "source": [
    "a = 3\n",
    "b = 7\n",
    "#a, b = b, a\n",
    "print('a=', a, 'b=', b)"
   ]
  },
  {
   "cell_type": "code",
   "execution_count": 4,
   "metadata": {},
   "outputs": [
    {
     "name": "stdout",
     "output_type": "stream",
     "text": [
      "a= 7 b= 3\n"
     ]
    }
   ],
   "source": [
    "a = 3\n",
    "b = 7\n",
    "# swapping\n",
    "c = a\n",
    "a = b\n",
    "b = c\n",
    "print('a=', a, 'b=', b)"
   ]
  },
  {
   "cell_type": "markdown",
   "metadata": {},
   "source": [
    "Without using Python's swap assignment directly"
   ]
  },
  {
   "cell_type": "markdown",
   "metadata": {},
   "source": [
    "## Homework: Print odd numbers\n",
    "Print all of the odd numbers between 80 to 101. Print as the following format:\n",
    "\n",
    "each odd number in seperate line, with a sequence number in front of it. For example:\n",
    "\n",
    "1) 81\n",
    "\n",
    "2) 83\n",
    "\n",
    "3) 85"
   ]
  },
  {
   "cell_type": "code",
   "execution_count": 24,
   "metadata": {},
   "outputs": [
    {
     "name": "stdout",
     "output_type": "stream",
     "text": [
      "1) 81\n",
      "2) 83\n",
      "3) 85\n",
      "4) 87\n",
      "5) 89\n",
      "6) 91\n",
      "7) 93\n",
      "8) 95\n",
      "9) 97\n",
      "10) 99\n"
     ]
    }
   ],
   "source": [
    "i=1\n",
    "for even in range(81, 101, 2):\n",
    "    print(\"%d) %d\" % (i, even))\n",
    "    i=i+1"
   ]
  },
  {
   "cell_type": "markdown",
   "metadata": {},
   "source": [
    "## Homework check if a given year is leap year or not"
   ]
  },
  {
   "cell_type": "markdown",
   "metadata": {},
   "source": [
    "Using nested conditions\n",
    "\n",
    "A leap year is exactly divisible by 4 except for century years (years ending with 00). The century year is a leap year only if it is perfectly divisible by 400. For example,"
   ]
  },
  {
   "cell_type": "code",
   "execution_count": null,
   "metadata": {},
   "outputs": [],
   "source": [
    "year = int(input(\"Enter a year: \"))\n",
    "# Write your program below to check if the value of the variable 'year' is leap year or not\n",
    "\n",
    "if (year % 4) == 0:\n",
    "   if (year % 100) == 0:\n",
    "       if (year % 400) == 0:\n",
    "           print(\"{0} is a leap year\".format(year))\n",
    "           # or you can print in the following way\n",
    "           # print(\"%d is a leap year\" % year)\n",
    "       else:\n",
    "           print(\"{0} is not a leap year\".format(year))\n",
    "   else:\n",
    "       print(\"{0} is a leap year\".format(year))\n",
    "else:\n",
    "   print(\"{0} is not a leap year\".format(year))"
   ]
  },
  {
   "cell_type": "markdown",
   "metadata": {},
   "source": [
    "## Median Number\n",
    "Write a Python program to find the median of three numbers from the user input. "
   ]
  },
  {
   "cell_type": "code",
   "execution_count": 5,
   "metadata": {},
   "outputs": [
    {
     "name": "stdout",
     "output_type": "stream",
     "text": [
      "number 123\n",
      "number 212\n",
      "number 315\n",
      "23 12 15\n"
     ]
    }
   ],
   "source": [
    "a = int(input('number 1: '))\n",
    "b = int(input('number 2:'))\n",
    "c = int(input('number 3: '))\n",
    "\n",
    "print(a, b, c)\n",
    "\n",
    "if a>b:\n",
    "    if c>a:\n",
    "        print('median: ', a) # c>a>b\n",
    "    elif c<b:\n",
    "        print('median: ', b) # a>b>c\n",
    "    else:\n",
    "        printprint('median: ', c)\n",
    "elif b>a\n",
    "    if c>b:\n",
    "        print('median: ', b) # c>b>a\n",
    "    elif c<a:\n",
    "        print('median: ', a) # b>a>c\n",
    "    else:\n",
    "        print('median: ', c)\n",
    "    \n"
   ]
  },
  {
   "cell_type": "markdown",
   "metadata": {},
   "source": [
    "## Compute the greatest common divisor (GCD) of two positive integers"
   ]
  },
  {
   "cell_type": "code",
   "execution_count": null,
   "metadata": {},
   "outputs": [],
   "source": [
    "a = int(input('number 1: '))\n",
    "b = int(input('number 2:'))\n",
    "\n",
    "gcd = 1\n",
    "if a > b:\n",
    "    gcd = b\n",
    "else:\n",
    "    gcd = a\n",
    "\n",
    "for x in range(gcd, 0, -1):\n",
    "    if a%x == 0 and b%x == 0:\n",
    "        print('gcd', x)\n",
    "        break"
   ]
  },
  {
   "cell_type": "markdown",
   "metadata": {},
   "source": [
    "## Get the least common multiple (LCM) of two positive integers"
   ]
  },
  {
   "cell_type": "markdown",
   "metadata": {},
   "source": [
    "Use while True"
   ]
  },
  {
   "cell_type": "markdown",
   "metadata": {},
   "source": [
    "## Find Required Numbers\n",
    "Write a program which will find all such numbers which are divisible by 7 but are not a multiple of 5,\n",
    "between 2000 and 2200 (both included).\n",
    "The numbers obtained should be printed in a comma-separated sequence on a single line.\n"
   ]
  },
  {
   "cell_type": "markdown",
   "metadata": {},
   "source": [
    "## Check if a user input number is a Prime Number"
   ]
  },
  {
   "cell_type": "code",
   "execution_count": 12,
   "metadata": {},
   "outputs": [
    {
     "name": "stdout",
     "output_type": "stream",
     "text": [
      "input a positive number: 12\n",
      "not a prime number\n"
     ]
    }
   ],
   "source": [
    "a = int(input('input a positive number: '))\n",
    "\n",
    "for x in range(2, a//2):\n",
    "    if a%x == 0:\n",
    "        print('not a prime number')\n",
    "        break\n",
    "else:\n",
    "    print('it is a prime number')\n",
    "\n"
   ]
  },
  {
   "cell_type": "markdown",
   "metadata": {},
   "source": [
    "without using 'for loop else'"
   ]
  },
  {
   "cell_type": "markdown",
   "metadata": {},
   "source": [
    "## Find 10 prime numbers that are bigger than 12345"
   ]
  },
  {
   "cell_type": "markdown",
   "metadata": {},
   "source": [
    "Use 'while True'"
   ]
  },
  {
   "cell_type": "markdown",
   "metadata": {},
   "source": [
    "## Chicken Story -1: 鸡兔同笼\n",
    "\n",
    "Solving the famous ancient Chinese math problem called “Chickens and Rabbits in a Cage.”\n",
    "\n",
    "A farmer put chickens and rabbits in a cage. There are totally 49 animals and 124 legs in the cage. How many rabbits are there in the cage?\n",
    "\n",
    "Your output should be:\n",
    "\n",
    "There are totally ?? rabbits in the cage!"
   ]
  },
  {
   "cell_type": "code",
   "execution_count": 13,
   "metadata": {},
   "outputs": [
    {
     "name": "stdout",
     "output_type": "stream",
     "text": [
      "chickens: 36, rabbits: 13\n"
     ]
    }
   ],
   "source": [
    "#c = 49\n",
    "\n",
    "for c in range (49, -1, -1): # chickens from 49, to 0\n",
    "    r = 49 -c\n",
    "    if c*2 + r*4 == 124:\n",
    "        print('chickens: %d, rabbits: %d'% (c, r))\n"
   ]
  },
  {
   "cell_type": "markdown",
   "metadata": {},
   "source": [
    "## Chicken Story -2: Only Chickens\n",
    "\n",
    "```\n",
    "A rooster cost 5 dollars\n",
    "A hen cost 3 dollars\n",
    "Three baby chikens cost 1 dollars\n",
    "```\n",
    "Now you need to spend exactly $100 to buy exactly 100 chickens, without any money left. How many rooster, hen and baby chikens should you buy?\n",
    "Note: There might be more than one solutions"
   ]
  },
  {
   "cell_type": "markdown",
   "metadata": {},
   "source": [
    "## The Smart Monkeys\n",
    "\n",
    "A group of monkeies picked up some peaches on the first day. They ate half of them and gave another peach from the other half left to a baby monkey.\n",
    "On the second day, they ate half of what had left from previous day, and give another peach from the other half to a baby monkey.\n",
    "Every day they did the same, until on the 15th day, they found they only have 1 peach left.\n",
    "\n",
    "Make a program, print out how many peaches those monkey had on each day, from day 15 to day 1.\n",
    "\n",
    "For Example, your program should print out like the following:\n",
    "```\n",
    "day 15: 1\n",
    "day 14: 4\n",
    "day 13: 10\n",
    "...\n",
    "...\n",
    "```\n",
    "Note: make a program to do the calculation, do NOT do the calculation yourself."
   ]
  },
  {
   "cell_type": "markdown",
   "metadata": {},
   "source": [
    "## Square Root\n",
    "This problem is optional for students who do not know what is \"square root\".\n",
    "\n",
    "There is a positive integer X. After adding 100 to x, we got y, which is equal to the square of an integer. Now we add 168 to y, again the result is equal to the square of another integer.\n",
    "\n",
    "Make a program to find out the smallest possible value of X.\n",
    "\n",
    "Note: make a program to do the calculation, do NOT do the calculation yourself.\n",
    "\n",
    "Hint: to get the square root, use: math.sqrt( )"
   ]
  },
  {
   "cell_type": "code",
   "execution_count": null,
   "metadata": {},
   "outputs": [],
   "source": []
  }
 ],
 "metadata": {
  "kernelspec": {
   "display_name": "Python 3",
   "language": "python",
   "name": "python3"
  },
  "language_info": {
   "codemirror_mode": {
    "name": "ipython",
    "version": 3
   },
   "file_extension": ".py",
   "mimetype": "text/x-python",
   "name": "python",
   "nbconvert_exporter": "python",
   "pygments_lexer": "ipython3",
   "version": "3.7.3"
  }
 },
 "nbformat": 4,
 "nbformat_minor": 2
}
