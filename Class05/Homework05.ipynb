{
 "cells": [
  {
   "cell_type": "markdown",
   "metadata": {},
   "source": [
    "# Homework 5"
   ]
  },
  {
   "cell_type": "markdown",
   "metadata": {},
   "source": [
    "## Example: \n",
    "### Print Function"
   ]
  },
  {
   "cell_type": "markdown",
   "metadata": {},
   "source": [
    "print() function comes with a parameter called 'end'. By default, the value of this parameter is '\\n', i.e. the new line character."
   ]
  },
  {
   "cell_type": "code",
   "execution_count": 2,
   "metadata": {},
   "outputs": [
    {
     "name": "stdout",
     "output_type": "stream",
     "text": [
      "0\n",
      "1\n",
      "2\n"
     ]
    }
   ],
   "source": [
    "for i in range (3): \n",
    "      print(i)"
   ]
  },
  {
   "cell_type": "code",
   "execution_count": 3,
   "metadata": {},
   "outputs": [
    {
     "name": "stdout",
     "output_type": "stream",
     "text": [
      "0   1   2   "
     ]
    }
   ],
   "source": [
    "for i in range(3):\n",
    "      print(i, end='   ')"
   ]
  },
  {
   "cell_type": "code",
   "execution_count": 4,
   "metadata": {},
   "outputs": [
    {
     "name": "stdout",
     "output_type": "stream",
     "text": [
      "0*1*2*"
     ]
    }
   ],
   "source": [
    "for i in range(3):\n",
    "      print(i, end='*')"
   ]
  },
  {
   "cell_type": "code",
   "execution_count": 5,
   "metadata": {},
   "outputs": [
    {
     "name": "stdout",
     "output_type": "stream",
     "text": [
      "012"
     ]
    }
   ],
   "source": [
    "for i in range(3):\n",
    "      print(i, end='')"
   ]
  },
  {
   "cell_type": "markdown",
   "metadata": {},
   "source": [
    "print with placeholders %\n",
    "```\n",
    "%d  print as an integer\n",
    "%f  print as a float\n",
    "%s  print as a string\n",
    "\n",
    "%m.nf\n",
    "%.2f float with 2 digits after decimal\n",
    "%6.2 float with 6 digits integer and 2 digits after decimal\n",
    "\n",
    "```"
   ]
  },
  {
   "cell_type": "code",
   "execution_count": 3,
   "metadata": {},
   "outputs": [
    {
     "name": "stdout",
     "output_type": "stream",
     "text": [
      "first number is 100, second number is 1234.567800\n",
      "first number is  100, second number is 1234.57\n"
     ]
    }
   ],
   "source": [
    "x = 100\n",
    "y = 1234.5678\n",
    "print('first number is %d, second number is %f'%(x, y))\n",
    "print('first number is %4d, second number is %4.2f'%(x, y))"
   ]
  },
  {
   "cell_type": "markdown",
   "metadata": {},
   "source": [
    "## Homework 1:"
   ]
  },
  {
   "cell_type": "markdown",
   "metadata": {},
   "source": [
    "## Print a Diamond Shape of stars based on an odd number of input by the user\n",
    "```\n",
    "   *\n",
    "  ***\n",
    " *****\n",
    "*******\n",
    " *****\n",
    "  ***\n",
    "   *\n",
    "```"
   ]
  },
  {
   "cell_type": "markdown",
   "metadata": {},
   "source": [
    "## Example:  Swap the value of two variables"
   ]
  },
  {
   "cell_type": "code",
   "execution_count": 3,
   "metadata": {},
   "outputs": [
    {
     "name": "stdout",
     "output_type": "stream",
     "text": [
      "a= 7 b= 3\n"
     ]
    }
   ],
   "source": [
    "a = 3\n",
    "b = 7\n",
    "#a, b = b, a\n",
    "print('a=', a, 'b=', b)"
   ]
  },
  {
   "cell_type": "markdown",
   "metadata": {},
   "source": [
    "Without using Python's swap assignment directly"
   ]
  },
  {
   "cell_type": "code",
   "execution_count": 4,
   "metadata": {},
   "outputs": [
    {
     "name": "stdout",
     "output_type": "stream",
     "text": [
      "a= 7 b= 3\n"
     ]
    }
   ],
   "source": [
    "a = 3\n",
    "b = 7\n",
    "# swapping\n",
    "c = a\n",
    "a = b\n",
    "b = c\n",
    "print('a=', a, 'b=', b)"
   ]
  },
  {
   "cell_type": "markdown",
   "metadata": {},
   "source": [
    "## Example\n",
    "### Compute the greatest common divisor (GCD) of two positive integers"
   ]
  },
  {
   "cell_type": "code",
   "execution_count": 9,
   "metadata": {},
   "outputs": [
    {
     "name": "stdout",
     "output_type": "stream",
     "text": [
      "number 1: 16\n",
      "number 2:24\n",
      "gcd 8\n"
     ]
    }
   ],
   "source": [
    "a = int(input('number 1: '))\n",
    "b = int(input('number 2:'))\n",
    "\n",
    "gcd = 1\n",
    "if a > b:\n",
    "    gcd = b\n",
    "else:\n",
    "    gcd = a\n",
    "\n",
    "for x in range(gcd, 0, -1):\n",
    "    if a%x == 0 and b%x == 0:\n",
    "        print('gcd', x)\n",
    "        break"
   ]
  },
  {
   "cell_type": "markdown",
   "metadata": {},
   "source": [
    "## Homework 2\n",
    "## Get the least common multiple (LCM) of two positive integers\n",
    "https://en.wikipedia.org/wiki/Least_common_multiple"
   ]
  },
  {
   "cell_type": "markdown",
   "metadata": {},
   "source": [
    "Hint: Let user input two numbers, Use while True, start to try with the smaller number, test if it is the LCM. If not, add 1 and test again."
   ]
  },
  {
   "cell_type": "markdown",
   "metadata": {},
   "source": [
    "## Homework 3\n",
    "## Check if a user input number is a Prime Number\n",
    "\n",
    "Try to make your program to make as least calculation as possible"
   ]
  },
  {
   "cell_type": "markdown",
   "metadata": {},
   "source": [
    "## Homework 4\n",
    "### Find 10 prime numbers that are bigger than 12345"
   ]
  },
  {
   "cell_type": "markdown",
   "metadata": {},
   "source": [
    "## Homework 5\n",
    "### Chicken Story -1: 鸡兔同笼\n",
    "\n",
    "Solving the famous ancient Chinese math problem called “Chickens and Rabbits in a Cage.”\n",
    "\n",
    "A farmer put chickens and rabbits in a cage. There are totally 49 animals and 124 legs in the cage. How many rabbits are there in the cage?\n",
    "\n",
    "Your output should be:\n",
    "\n",
    "There are totally ?? rabbits in the cage!"
   ]
  },
  {
   "cell_type": "code",
   "execution_count": null,
   "metadata": {},
   "outputs": [],
   "source": []
  }
 ],
 "metadata": {
  "kernelspec": {
   "display_name": "Python 3",
   "language": "python",
   "name": "python3"
  },
  "language_info": {
   "codemirror_mode": {
    "name": "ipython",
    "version": 3
   },
   "file_extension": ".py",
   "mimetype": "text/x-python",
   "name": "python",
   "nbconvert_exporter": "python",
   "pygments_lexer": "ipython3",
   "version": "3.7.3"
  }
 },
 "nbformat": 4,
 "nbformat_minor": 2
}
