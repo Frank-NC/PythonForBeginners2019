{
 "cells": [
  {
   "cell_type": "markdown",
   "metadata": {},
   "source": [
    "## Print Function"
   ]
  },
  {
   "cell_type": "markdown",
   "metadata": {},
   "source": [
    "print() function comes with a parameter called 'end'. By default, the value of this parameter is '\\n', i.e. the new line character."
   ]
  },
  {
   "cell_type": "code",
   "execution_count": 2,
   "metadata": {},
   "outputs": [
    {
     "name": "stdout",
     "output_type": "stream",
     "text": [
      "0\n",
      "1\n",
      "2\n"
     ]
    }
   ],
   "source": [
    "for i in range (3): \n",
    "      print(i)"
   ]
  },
  {
   "cell_type": "code",
   "execution_count": 3,
   "metadata": {},
   "outputs": [
    {
     "name": "stdout",
     "output_type": "stream",
     "text": [
      "0   1   2   "
     ]
    }
   ],
   "source": [
    "for i in range(3):\n",
    "      print(i, end='   ')"
   ]
  },
  {
   "cell_type": "code",
   "execution_count": 4,
   "metadata": {},
   "outputs": [
    {
     "name": "stdout",
     "output_type": "stream",
     "text": [
      "0*1*2*"
     ]
    }
   ],
   "source": [
    "for i in range(3):\n",
    "      print(i, end='*')"
   ]
  },
  {
   "cell_type": "code",
   "execution_count": 5,
   "metadata": {},
   "outputs": [
    {
     "name": "stdout",
     "output_type": "stream",
     "text": [
      "012"
     ]
    }
   ],
   "source": [
    "for i in range(3):\n",
    "      print(i, end='')"
   ]
  },
  {
   "cell_type": "markdown",
   "metadata": {},
   "source": [
    "## Homework 3: print triangle with *"
   ]
  },
  {
   "cell_type": "code",
   "execution_count": null,
   "metadata": {},
   "outputs": [],
   "source": [
    "Using nested loops"
   ]
  },
  {
   "cell_type": "code",
   "execution_count": 64,
   "metadata": {},
   "outputs": [
    {
     "name": "stdout",
     "output_type": "stream",
     "text": [
      "please input maximum number of stars in a row:5\n",
      "*\n",
      "**\n",
      "***\n",
      "****\n",
      "*****\n",
      "****\n",
      "***\n",
      "**\n",
      "*\n"
     ]
    }
   ],
   "source": [
    "max_star = int(input(\"please input maximum number of stars in a row:\"))\n",
    "for row in range(1,  max_star+1):\n",
    "    #print from one start a row to max_star in a row\n",
    "    for num_star in range(0,  row):\n",
    "        print('*', end='')\n",
    "    \n",
    "    # outside the for loop, start a new line\n",
    "    print()\n",
    "    \n",
    "for row in range(max_star-1, 0, -1):\n",
    "    # print * from max_star-1 in a row to one star in a row\n",
    "    for num_star in range(0, row):\n",
    "        print('*', end='')\n",
    "    \n",
    "    print()"
   ]
  },
  {
   "cell_type": "code",
   "execution_count": null,
   "metadata": {},
   "outputs": [],
   "source": [
    "Using string multiplication"
   ]
  },
  {
   "cell_type": "code",
   "execution_count": 65,
   "metadata": {},
   "outputs": [
    {
     "name": "stdout",
     "output_type": "stream",
     "text": [
      "please input maximum number of stars in a row:5\n",
      "*\n",
      "**\n",
      "***\n",
      "****\n",
      "*****\n",
      "****\n",
      "***\n",
      "**\n",
      "*\n"
     ]
    }
   ],
   "source": [
    "max_star = int(input(\"please input maximum number of stars in a row:\"))\n",
    "for row in range(1,  max_star+1):\n",
    "    print('*'*row)\n",
    "    \n",
    "for row in range(max_star-1, 0, -1):\n",
    "    print('*'*row)\n"
   ]
  },
  {
   "cell_type": "code",
   "execution_count": null,
   "metadata": {},
   "outputs": [],
   "source": [
    "## Print a Diamond Shape of starts of odd number of input"
   ]
  },
  {
   "cell_type": "code",
   "execution_count": 70,
   "metadata": {},
   "outputs": [
    {
     "name": "stdout",
     "output_type": "stream",
     "text": [
      "please input maximum number of stars in a row:8\n",
      "Please input an odd number.\n",
      "please input maximum number of stars in a row:7\n",
      "   *\n",
      "  ***\n",
      " *****\n",
      "*******\n",
      " *****\n",
      "  ***\n",
      "   *\n"
     ]
    }
   ],
   "source": [
    "while True:\n",
    "    width = int(input(\"please input maximum number of stars in a row:\"))\n",
    "    if width%2 != 0:\n",
    "        break\n",
    "    print('Please input an odd number.')\n",
    "    \n",
    "spaces = width//2\n",
    "for row in range(1,  width+1, 2):\n",
    "    print(' '*spaces, end='')\n",
    "    print('*'*row)\n",
    "    spaces -=1\n",
    "    \n",
    "# the bottom half of diamond, do not print middle row again (starts from width-2)\n",
    "spaces = 1\n",
    "for row in range(width-2, 0, -2):\n",
    "    print(' '*(spaces), end='')\n",
    "    print('*'*row)\n",
    "    spaces +=1"
   ]
  },
  {
   "cell_type": "markdown",
   "metadata": {},
   "source": [
    "Print the diamond in the middle of a row"
   ]
  },
  {
   "cell_type": "code",
   "execution_count": 68,
   "metadata": {},
   "outputs": [
    {
     "name": "stdout",
     "output_type": "stream",
     "text": [
      "Offset is  10\n",
      "please input maximum number of stars in a row:7\n",
      "             *\n",
      "            ***\n",
      "           *****\n",
      "          *******\n",
      "           *****\n",
      "            ***\n",
      "             *\n"
     ]
    }
   ],
   "source": [
    "# defind an offset to print the diamond in the middle of the row\n",
    "offset = 10\n",
    "print('Offset is ', offset)\n",
    "\n",
    "while True:\n",
    "    width = int(input(\"please input maximum number of stars in a row:\"))\n",
    "    if width%2 != 0:\n",
    "        break\n",
    "    print('Please input an odd number.')\n",
    "    \n",
    "spaces = width//2\n",
    "for row in range(1,  width+1, 2):\n",
    "    print(' '*(offset+spaces), end='')\n",
    "    print('*'*row)\n",
    "    spaces -=1\n",
    "    \n",
    "# the bottom half of diamond, do not print middle row again (starts from width-2)\n",
    "spaces = 1\n",
    "for row in range(width-2, 0, -2):\n",
    "    print(' '*(offset+spaces), end='')\n",
    "    print('*'*row)\n",
    "    spaces +=1"
   ]
  },
  {
   "cell_type": "markdown",
   "metadata": {},
   "source": [
    "## Swap the value of two variables"
   ]
  },
  {
   "cell_type": "code",
   "execution_count": 92,
   "metadata": {},
   "outputs": [
    {
     "name": "stdout",
     "output_type": "stream",
     "text": [
      "before swapping  2 5\n",
      "after swapping  5 2\n"
     ]
    }
   ],
   "source": [
    "a = 2\n",
    "b = 5\n",
    "print('before swapping ', a, b)\n",
    "a, b = b, a\n",
    "print('after swapping ', a, b)"
   ]
  },
  {
   "cell_type": "markdown",
   "metadata": {},
   "source": [
    "Without using Python's swap assignment directly"
   ]
  },
  {
   "cell_type": "code",
   "execution_count": 93,
   "metadata": {},
   "outputs": [
    {
     "name": "stdout",
     "output_type": "stream",
     "text": [
      "before swapping  2 5\n",
      "after swapping  5 2\n"
     ]
    }
   ],
   "source": [
    "a = 2\n",
    "b = 5\n",
    "print('before swapping ', a, b)\n",
    "c = a\n",
    "a = b\n",
    "b = c\n",
    "print('after swapping ', a, b)"
   ]
  },
  {
   "cell_type": "markdown",
   "metadata": {},
   "source": [
    "## Homework: Print odd numbers\n",
    "Print all of the odd numbers between 80 to 101. Print as the following format:\n",
    "\n",
    "each odd number in seperate line, with a sequence number in front of it. For example:\n",
    "\n",
    "1) 81\n",
    "\n",
    "2) 83\n",
    "\n",
    "3) 85"
   ]
  },
  {
   "cell_type": "code",
   "execution_count": 24,
   "metadata": {},
   "outputs": [
    {
     "name": "stdout",
     "output_type": "stream",
     "text": [
      "1) 81\n",
      "2) 83\n",
      "3) 85\n",
      "4) 87\n",
      "5) 89\n",
      "6) 91\n",
      "7) 93\n",
      "8) 95\n",
      "9) 97\n",
      "10) 99\n"
     ]
    }
   ],
   "source": [
    "i=1\n",
    "for even in range(81, 101, 2):\n",
    "    print(\"%d) %d\" % (i, even))\n",
    "    i=i+1"
   ]
  },
  {
   "cell_type": "markdown",
   "metadata": {},
   "source": [
    "## Homework check if a given year is leap year or not"
   ]
  },
  {
   "cell_type": "markdown",
   "metadata": {},
   "source": [
    "Using nested conditions\n",
    "\n",
    "A leap year is exactly divisible by 4 except for century years (years ending with 00). The century year is a leap year only if it is perfectly divisible by 400. For example,"
   ]
  },
  {
   "cell_type": "code",
   "execution_count": null,
   "metadata": {},
   "outputs": [],
   "source": [
    "year = int(input(\"Enter a year: \"))\n",
    "# Write your program below to check if the value of the variable 'year' is leap year or not\n",
    "\n",
    "if (year % 4) == 0:\n",
    "   if (year % 100) == 0:\n",
    "       if (year % 400) == 0:\n",
    "           print(\"{0} is a leap year\".format(year))\n",
    "           # or you can print in the following way\n",
    "           # print(\"%d is a leap year\" % year)\n",
    "       else:\n",
    "           print(\"{0} is not a leap year\".format(year))\n",
    "   else:\n",
    "       print(\"{0} is a leap year\".format(year))\n",
    "else:\n",
    "   print(\"{0} is not a leap year\".format(year))"
   ]
  },
  {
   "cell_type": "markdown",
   "metadata": {},
   "source": [
    "## Median Number\n",
    "Write a Python program to find the median of three numbers from the user input. "
   ]
  },
  {
   "cell_type": "code",
   "execution_count": 52,
   "metadata": {},
   "outputs": [
    {
     "name": "stdout",
     "output_type": "stream",
     "text": [
      "Input first number: 10\n",
      "Input second number: 20\n",
      "Input third number: 15\n",
      "The median is  15\n"
     ]
    }
   ],
   "source": [
    "a = int(input(\"Input first number: \"))\n",
    "b = int(input(\"Input second number: \"))\n",
    "c = int(input(\"Input third number: \"))\n",
    "if a > b:\n",
    "    if a < c:\n",
    "        median = a\n",
    "    elif b > c:\n",
    "        median = b\n",
    "    else:\n",
    "        median = c\n",
    "else:\n",
    "    if a > c:\n",
    "        median = a\n",
    "    elif b < c:\n",
    "        median = b\n",
    "    else:\n",
    "        median = c\n",
    "\n",
    "print(\"The median is \", median)"
   ]
  },
  {
   "cell_type": "markdown",
   "metadata": {},
   "source": [
    "## Compute the greatest common divisor (GCD) of two positive integers"
   ]
  },
  {
   "cell_type": "code",
   "execution_count": 84,
   "metadata": {},
   "outputs": [
    {
     "name": "stdout",
     "output_type": "stream",
     "text": [
      "Input first integer: 16\n",
      "Input second integer: 16\n",
      "The GCD of 16 and 16 is 16\n"
     ]
    }
   ],
   "source": [
    "a = int(input(\"Input first integer: \"))\n",
    "b = int(input(\"Input second integer: \"))\n",
    "\n",
    "if a > b:\n",
    "    divisor = b\n",
    "else:\n",
    "    divisor = a\n",
    "\n",
    "for gcd in range(divisor, 0, -1):\n",
    "\n",
    "    if a%gcd == 0 and b%gcd == 0:\n",
    "        print('The GCD of %d and %d is %d' % (a, b, gcd))\n",
    "        break\n",
    "    "
   ]
  },
  {
   "cell_type": "markdown",
   "metadata": {},
   "source": [
    "## Get the least common multiple (LCM) of two positive integers"
   ]
  },
  {
   "cell_type": "code",
   "execution_count": 87,
   "metadata": {},
   "outputs": [
    {
     "name": "stdout",
     "output_type": "stream",
     "text": [
      "Input first integer: 12\n",
      "Input second integer: 24\n",
      "The least common multiple of 12 and 24 is 24\n"
     ]
    }
   ],
   "source": [
    "a = int(input(\"Input first integer: \"))\n",
    "b = int(input(\"Input second integer: \"))\n",
    "\n",
    "if a > b:\n",
    "    multiple = a\n",
    "else:\n",
    "    multiple = b\n",
    "    \n",
    "while multiple%a!=0 or multiple%b!=0:\n",
    "    multiple = multiple + 1\n",
    "\n",
    "print('The least common multiple of %d and %d is %d' % (a, b, multiple))"
   ]
  },
  {
   "cell_type": "markdown",
   "metadata": {},
   "source": [
    "Use while True"
   ]
  },
  {
   "cell_type": "code",
   "execution_count": 89,
   "metadata": {},
   "outputs": [
    {
     "name": "stdout",
     "output_type": "stream",
     "text": [
      "Input first integer: 8\n",
      "Input second integer: 12\n",
      "The least common multiple of 8 and 12 is 24\n"
     ]
    }
   ],
   "source": [
    "a = int(input(\"Input first integer: \"))\n",
    "b = int(input(\"Input second integer: \"))\n",
    "\n",
    "if a > b:\n",
    "    multiple = a\n",
    "else:\n",
    "    multiple = b\n",
    "    \n",
    "while True:\n",
    "    if multiple%a==0 and multiple%b==0:\n",
    "        print('The least common multiple of %d and %d is %d' % (a, b, multiple))\n",
    "        break\n",
    "        \n",
    "    multiple = multiple + 1\n",
    "\n"
   ]
  },
  {
   "cell_type": "markdown",
   "metadata": {},
   "source": [
    "## Find Required Numbers\n",
    "Write a program which will find all such numbers which are divisible by 7 but are not a multiple of 5,\n",
    "between 2000 and 2200 (both included).\n",
    "The numbers obtained should be printed in a comma-separated sequence on a single line.\n"
   ]
  },
  {
   "cell_type": "code",
   "execution_count": 91,
   "metadata": {},
   "outputs": [
    {
     "name": "stdout",
     "output_type": "stream",
     "text": [
      "2002, 2009, 2016, 2023, 2037, 2044, 2051, 2058, 2072, 2079, 2086, 2093, 2107, 2114, 2121, 2128, 2142, 2149, 2156, 2163, 2177, 2184, 2191, 2198, "
     ]
    }
   ],
   "source": [
    "l=[]\n",
    "for i in range(2000, 2201):\n",
    "    if (i%7==0) and (i%5!=0):\n",
    "        print(i, end=', ')\n",
    "\n"
   ]
  },
  {
   "cell_type": "markdown",
   "metadata": {},
   "source": [
    "## Check if a user input number is a Prime Number"
   ]
  },
  {
   "cell_type": "code",
   "execution_count": 12,
   "metadata": {},
   "outputs": [
    {
     "name": "stdout",
     "output_type": "stream",
     "text": [
      "Enter a number: -7\n",
      "-7 is not a prime number\n"
     ]
    }
   ],
   "source": [
    "# take input from the user\n",
    "num = int(input(\"Enter a number: \"))\n",
    "# prime numbers are greater than 1\n",
    "if num > 1:\n",
    "    # check for factors\n",
    "    for i in range(2,int(num/2)):\n",
    "        if (num % i) == 0:\n",
    "            print(num,\"is not a prime number\")\n",
    "            print(i,\"times\",int(num/i),\"is\",num)\n",
    "            break\n",
    "    else:\n",
    "        print(num,\"is a prime number\")\n",
    "       \n",
    "# if input number is less than or equal to 1, it is not prime\n",
    "else:\n",
    "   print(num,\"is not a prime number\")"
   ]
  },
  {
   "cell_type": "markdown",
   "metadata": {},
   "source": [
    "without using 'for loop else'"
   ]
  },
  {
   "cell_type": "code",
   "execution_count": 21,
   "metadata": {},
   "outputs": [
    {
     "name": "stdout",
     "output_type": "stream",
     "text": [
      "Enter a number: 19\n",
      "After for loop, i= 8\n",
      "19 is a prime number\n"
     ]
    }
   ],
   "source": [
    "# take input from the user\n",
    "num = int(input(\"Enter a number: \"))\n",
    "# prime numbers are greater than 1\n",
    "if num > 1:\n",
    "    # check for factors\n",
    "    for i in range(2,int(num/2)):\n",
    "        if (num % i) == 0:\n",
    "            print(num,\"is not a prime number\")\n",
    "            print(i,\"times\",int(num/i),\"is\",num)\n",
    "            break\n",
    "    print('After for loop, i=', i)\n",
    "    if i+1 >= int(num/2):\n",
    "        print(num,\"is a prime number\")\n",
    "       \n",
    "# if input number is less than or equal to 1, it is not prime\n",
    "else:\n",
    "   print(num,\"is not a prime number\")"
   ]
  },
  {
   "cell_type": "markdown",
   "metadata": {},
   "source": [
    "## Find 10 prime numbers that are bigger than 12345"
   ]
  },
  {
   "cell_type": "code",
   "execution_count": 16,
   "metadata": {},
   "outputs": [
    {
     "name": "stdout",
     "output_type": "stream",
     "text": [
      "0 )  12347 is a prime number\n",
      "1 )  12373 is a prime number\n",
      "2 )  12377 is a prime number\n",
      "3 )  12379 is a prime number\n",
      "4 )  12391 is a prime number\n",
      "5 )  12401 is a prime number\n",
      "6 )  12409 is a prime number\n",
      "7 )  12413 is a prime number\n",
      "8 )  12421 is a prime number\n",
      "9 )  12433 is a prime number\n"
     ]
    }
   ],
   "source": [
    "# setup a counter\n",
    "count = 0\n",
    "# initial number \n",
    "num = 12345\n",
    "while count < 10:\n",
    "    # check for factors\n",
    "    for i in range(2,int(num/2)):\n",
    "        if (num % i) == 0:\n",
    "            break\n",
    "    else:\n",
    "        print(count, ') ', num,\"is a prime number\")\n",
    "        count = count + 1\n",
    "    num = num +1"
   ]
  },
  {
   "cell_type": "markdown",
   "metadata": {},
   "source": [
    "Use 'while True'"
   ]
  },
  {
   "cell_type": "code",
   "execution_count": 17,
   "metadata": {},
   "outputs": [
    {
     "name": "stdout",
     "output_type": "stream",
     "text": [
      "0 )  12347 is a prime number\n",
      "1 )  12373 is a prime number\n",
      "2 )  12377 is a prime number\n",
      "3 )  12379 is a prime number\n",
      "4 )  12391 is a prime number\n",
      "5 )  12401 is a prime number\n",
      "6 )  12409 is a prime number\n",
      "7 )  12413 is a prime number\n",
      "8 )  12421 is a prime number\n",
      "9 )  12433 is a prime number\n"
     ]
    }
   ],
   "source": [
    "# setup a counter\n",
    "count = 0\n",
    "# initial number \n",
    "num = 12345\n",
    "while True:\n",
    "    # check for factors\n",
    "    for i in range(2,int(num/2)):\n",
    "        if (num % i) == 0:\n",
    "            break\n",
    "    else:\n",
    "        print(count, ') ', num,\"is a prime number\")\n",
    "        count = count + 1\n",
    "    if count == 10:\n",
    "        break\n",
    "    num = num +1"
   ]
  },
  {
   "cell_type": "markdown",
   "metadata": {},
   "source": [
    "## Chicken Story -1: 鸡兔同笼\n",
    "\n",
    "Solving the famous ancient Chinese math problem called “Chickens and Rabbits in a Cage.”\n",
    "\n",
    "A farmer put chickens and rabbits in a cage. There are totally 49 animals and 124 legs in the cage. How many rabbits are there in the cage?\n",
    "\n",
    "Your output should be:\n",
    "\n",
    "There are totally ?? rabbits in the cage!"
   ]
  },
  {
   "cell_type": "code",
   "execution_count": 28,
   "metadata": {},
   "outputs": [
    {
     "name": "stdout",
     "output_type": "stream",
     "text": [
      "There are totally 65 rabbits and 180 chickens in the cage!\n"
     ]
    }
   ],
   "source": [
    "total = 245\n",
    "legs = 620\n",
    "\n",
    "# Write your program at below\n",
    "\n",
    "for numRabbit in range(total+1):\n",
    "    numChicken = total - numRabbit\n",
    "    if ((numRabbit*4 + numChicken*2) == legs):\n",
    "        print(\"There are totally %d rabbits and %d chickens in the cage!\" % (numRabbit, numChicken))\n",
    "        break\n",
    "else:\n",
    "    print('No sulution can be found')"
   ]
  },
  {
   "cell_type": "markdown",
   "metadata": {},
   "source": [
    "## Chicken Story -2: Only Chickens\n",
    "\n",
    "```\n",
    "A rooster cost 5 dollars\n",
    "A hen cost 3 dollars\n",
    "Three baby chikens cost 1 dollars\n",
    "```\n",
    "Now you need to spend exactly $100 to buy exactly 100 chickens, without any money left. How many rooster, hen and baby chikens should you buy?\n",
    "Note: There might be more than one solutions"
   ]
  },
  {
   "cell_type": "code",
   "execution_count": 51,
   "metadata": {},
   "outputs": [
    {
     "name": "stdout",
     "output_type": "stream",
     "text": [
      "Roosters: 2,  Hens: 34,  Baby chickens: 114\n",
      "Roosters: 6,  Hens: 27,  Baby chickens: 117\n",
      "Roosters: 10,  Hens: 20,  Baby chickens: 120\n",
      "Roosters: 14,  Hens: 13,  Baby chickens: 123\n",
      "Roosters: 18,  Hens: 6,  Baby chickens: 126\n"
     ]
    }
   ],
   "source": [
    "# r for Rooster\n",
    "# h for hen\n",
    "# c for baby chikens\n",
    "total_num = 100\n",
    "total_cost = 100\n",
    "for r in range(total_num):\n",
    "    for h in range(total_num-r):\n",
    "        c = total_num-r-h\n",
    "        if c%3 == 0:\n",
    "            if (5*r + h*3 + c/3) == total_cost:\n",
    "                print(\"Roosters: %d,  Hens: %d,  Baby chickens: %d\" % (r, h, c))\n"
   ]
  },
  {
   "cell_type": "markdown",
   "metadata": {},
   "source": [
    "## The Smart Monkeys\n",
    "\n",
    "A group of monkeies picked up some peaches on the first day. They ate half of them and gave another peach from the other half left to a baby monkey.\n",
    "On the second day, they ate half of what had left from previous day, and give another peach from the other half to a baby monkey.\n",
    "Every day they did the same, until on the 15th day, they found they only have 1 peach left.\n",
    "\n",
    "Make a program, print out how many peaches those monkey had on each day, from day 15 to day 1.\n",
    "\n",
    "For Example, your program should print out like the following:\n",
    "```\n",
    "day 15: 1\n",
    "day 14: 4\n",
    "day 13: 10\n",
    "...\n",
    "...\n",
    "```\n",
    "Note: make a program to do the calculation, do NOT do the calculation yourself."
   ]
  },
  {
   "cell_type": "code",
   "execution_count": 37,
   "metadata": {},
   "outputs": [
    {
     "name": "stdout",
     "output_type": "stream",
     "text": [
      "day 15: 1 peach\n",
      "day 14:       4 peaches\n",
      "day 13:      10 peaches\n",
      "day 12:      22 peaches\n",
      "day 11:      46 peaches\n",
      "day 10:      94 peaches\n",
      "day  9:     190 peaches\n",
      "day  8:     382 peaches\n",
      "day  7:     766 peaches\n",
      "day  6:    1534 peaches\n",
      "day  5:    3070 peaches\n",
      "day  4:    6142 peaches\n",
      "day  3:   12286 peaches\n",
      "day  2:   24574 peaches\n",
      "day  1:   49150 peaches\n"
     ]
    }
   ],
   "source": [
    "n = 1\n",
    "# Last day, print out directly\n",
    "print (\"day 15: 1 peach\")\n",
    "\n",
    "# loop from Day 29 to Day 1\n",
    "for i in range(14,0,-1):\n",
    "     n = (n+1)*2\n",
    "     print(\"day %2d: %7d peaches\" % (i, n))"
   ]
  },
  {
   "cell_type": "markdown",
   "metadata": {},
   "source": [
    "## Square Root\n",
    "This problem is optional for students who do not know what is \"square root\".\n",
    "\n",
    "There is a positive integer X. After adding 100 to x, we got y, which is equal to the square of an integer. Now we add 168 to y, again the result is equal to the square of another integer.\n",
    "\n",
    "Make a program to find out the smallest possible value of X.\n",
    "\n",
    "Note: make a program to do the calculation, do NOT do the calculation yourself.\n",
    "\n",
    "Hint: to get the square root, use: math.sqrt( )"
   ]
  },
  {
   "cell_type": "code",
   "execution_count": 38,
   "metadata": {},
   "outputs": [
    {
     "name": "stdout",
     "output_type": "stream",
     "text": [
      "21\n"
     ]
    }
   ],
   "source": [
    "import math\n",
    "\n",
    "num = 1\n",
    "while True:\n",
    "    sqrt1 = math.sqrt(num + 100)\n",
    "    sqrt2 = int(math.sqrt(num + 268)) # Note: use int() to convert the square root to an integer\n",
    "    # the following line demoes two different ways to check if a number is an integer\n",
    "    if sqrt1-int(sqrt1) == 0 and sqrt2*sqrt2 == (num+268):\n",
    "        print(num)\n",
    "        break\n",
    "    num += 1"
   ]
  },
  {
   "cell_type": "code",
   "execution_count": null,
   "metadata": {},
   "outputs": [],
   "source": []
  }
 ],
 "metadata": {
  "kernelspec": {
   "display_name": "Python 3",
   "language": "python",
   "name": "python3"
  },
  "language_info": {
   "codemirror_mode": {
    "name": "ipython",
    "version": 3
   },
   "file_extension": ".py",
   "mimetype": "text/x-python",
   "name": "python",
   "nbconvert_exporter": "python",
   "pygments_lexer": "ipython3",
   "version": "3.7.3"
  }
 },
 "nbformat": 4,
 "nbformat_minor": 2
}
