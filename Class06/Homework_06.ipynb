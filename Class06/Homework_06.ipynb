{
 "cells": [
  {
   "cell_type": "markdown",
   "metadata": {},
   "source": [
    "## 1  A Hidden Message \n",
    "\n",
    "Create a small program to print every other word in the following string, starting with the first word (this). You are only allowed to use \"print\" function once.\n",
    "\n",
    "\"this if is you not are a reading very this good then way you to have hide done a it message wrong\"\n",
    "\n",
    "Hints:\n",
    "* Use String.split() to converto a string to a list\n",
    "* Please print every the other words in a single line. You can add (concatenate) all of the words into a string, then just print a single string."
   ]
  },
  {
   "cell_type": "code",
   "execution_count": 6,
   "metadata": {},
   "outputs": [
    {
     "name": "stdout",
     "output_type": "stream",
     "text": [
      "this is not a very good way to hide a message "
     ]
    }
   ],
   "source": [
    "msg = \"this if is you not are a reading very this good then way you to have hide done a it message wrong\"\n",
    "\n",
    "words = msg.split()\n",
    "\n",
    "for i in range(0, len(words), 2):\n",
    "    print(words[i], end = ' ')\n",
    "\n"
   ]
  },
  {
   "cell_type": "code",
   "execution_count": 9,
   "metadata": {},
   "outputs": [
    {
     "name": "stdout",
     "output_type": "stream",
     "text": [
      "this is not a very good way to hide a message "
     ]
    }
   ],
   "source": [
    "msg = \"this if is you not are a reading very this good then way you to have hide done a it message wrong\"\n",
    "\n",
    "words = msg.split()\n",
    "\n",
    "count = 0\n",
    "for word in words:\n",
    "    if count % 2 == 0:\n",
    "        print(word, end = ' ')\n",
    "    count = count + 1\n",
    "\n"
   ]
  },
  {
   "cell_type": "code",
   "execution_count": 11,
   "metadata": {},
   "outputs": [
    {
     "name": "stdout",
     "output_type": "stream",
     "text": [
      "this is not a very good way to hide a message "
     ]
    }
   ],
   "source": [
    "msg = \"this if is you not are a reading very this good then way you to have hide done a it message wrong\"\n",
    "\n",
    "words = msg.split()\n",
    "\n",
    "for index, word in enumerate(words):\n",
    "    if index % 2 == 0:\n",
    "        print(word, end = ' ')\n"
   ]
  },
  {
   "cell_type": "code",
   "execution_count": 12,
   "metadata": {},
   "outputs": [
    {
     "name": "stdout",
     "output_type": "stream",
     "text": [
      "this is not a very good way to hide a message "
     ]
    }
   ],
   "source": [
    "msg = \"this if is you not are a reading very this good then way you to have hide done a it message wrong\"\n",
    "\n",
    "words = msg.split()\n",
    "switch = True\n",
    "\n",
    "for word in words:\n",
    "    if switch:\n",
    "        print(word, end = ' ')\n",
    "    switch = not switch\n"
   ]
  },
  {
   "cell_type": "markdown",
   "metadata": {},
   "source": [
    "## 2 Find the duplicate items\n",
    "Write a Python program that takes two lists and print out all of their common members."
   ]
  },
  {
   "cell_type": "code",
   "execution_count": 13,
   "metadata": {},
   "outputs": [
    {
     "name": "stdout",
     "output_type": "stream",
     "text": [
      "duplicate: 2\n",
      "duplicate: 67\n",
      "duplicate: 52\n",
      "duplicate: 23\n",
      "duplicate: 7\n"
     ]
    }
   ],
   "source": [
    "list1 = [1, 2, 4, 56, 67, 78, 97, 52, 23, 46, 91, 13, 7]\n",
    "list2 = [10, 2, 5, 57, 67, 79, 96, 52, 25, 47, 95, 14, 7, 101, 23, 44]\n",
    "\n",
    "\n",
    "for item1 in list1:\n",
    "    if item1 in list2:\n",
    "        print('duplicate:', item1)\n",
    "\n"
   ]
  },
  {
   "cell_type": "markdown",
   "metadata": {},
   "source": [
    "You output should be as the following:\n",
    "```\n",
    "2\n",
    "67\n",
    "52\n",
    "23\n",
    "7\n",
    "```"
   ]
  },
  {
   "cell_type": "markdown",
   "metadata": {},
   "source": [
    "## 3 write a program to add line number in front of each line in the following string"
   ]
  },
  {
   "cell_type": "code",
   "execution_count": 18,
   "metadata": {},
   "outputs": [
    {
     "name": "stdout",
     "output_type": "stream",
     "text": [
      "1 ) The Zen of Python\n",
      "2 ) by Tim Peters\n",
      "3 ) \n",
      "4 ) Beautiful is better than ugly.\n",
      "5 ) Explicit is better than implicit.\n",
      "6 ) Simple is better than complex.\n",
      "7 ) Complex is better than complicated.\n",
      "8 ) Flat is better than nested.\n",
      "9 ) Sparse is better than dense.\n",
      "10 ) Readability counts.\n"
     ]
    }
   ],
   "source": [
    "essay = '''The Zen of Python\n",
    "by Tim Peters\n",
    "\n",
    "Beautiful is better than ugly.\n",
    "Explicit is better than implicit.\n",
    "Simple is better than complex.\n",
    "Complex is better than complicated.\n",
    "Flat is better than nested.\n",
    "Sparse is better than dense.\n",
    "Readability counts.'''\n",
    "\n",
    "# write your code at below\n",
    "\n",
    "lines = essay.split('\\n')\n",
    "\n",
    "for index, line in enumerate(lines):\n",
    "    #print('%d) %s'%(index+1, line))\n",
    "    print(index+1, ')', line)\n"
   ]
  },
  {
   "cell_type": "markdown",
   "metadata": {},
   "source": [
    "Example output:\n",
    "\n",
    "```\n",
    "1) The Zen of Python\n",
    "2) by Tim Peters\n",
    "3) \n",
    "4) Beautiful is better than ugly.\n",
    "...\n",
    "\n",
    "```"
   ]
  },
  {
   "cell_type": "markdown",
   "metadata": {},
   "source": [
    "## 4 Chicken Story - 2\n",
    "\n",
    "```\n",
    "A rooster cost 5 dollars\n",
    "A hen cost 3 dollars\n",
    "Three baby chikens cost 1 dollars\n",
    "```\n",
    "Now you need to spend exactly $100 to buy exactly 100 chickens, without any money left. How many rooster, hen and baby chikens should you buy?\n",
    "Note: There might be more than one solutions"
   ]
  },
  {
   "cell_type": "code",
   "execution_count": null,
   "metadata": {},
   "outputs": [],
   "source": [
    "total_num = 100\n",
    "total_cost = 100\n",
    "\n",
    "# Start your program here"
   ]
  },
  {
   "cell_type": "markdown",
   "metadata": {},
   "source": [
    "## 5 Feed The Monkeys\n",
    "\n",
    "A group of monkeies picked up some peaches on the first day. They ate half of them and gave another peach from the other half left to a baby monkey.\n",
    "On the second day, they ate half of what had left from previous day, and give another peach from the other half to a baby monkey.\n",
    "Every day they did the same, until on the 15th day, they found they only have 1 peach left.\n",
    "\n",
    "Make a program, print out how many peaches those monkey had on each day, from day 15 to day 1.\n",
    "\n",
    "For Example, your program should print out like the following:\n",
    "```\n",
    "day 15: 1\n",
    "day 14: 4\n",
    "day 13: 10\n",
    "...\n",
    "...\n",
    "```\n"
   ]
  }
 ],
 "metadata": {
  "kernelspec": {
   "display_name": "Python 3",
   "language": "python",
   "name": "python3"
  },
  "language_info": {
   "codemirror_mode": {
    "name": "ipython",
    "version": 3
   },
   "file_extension": ".py",
   "mimetype": "text/x-python",
   "name": "python",
   "nbconvert_exporter": "python",
   "pygments_lexer": "ipython3",
   "version": "3.7.3"
  }
 },
 "nbformat": 4,
 "nbformat_minor": 2
}
