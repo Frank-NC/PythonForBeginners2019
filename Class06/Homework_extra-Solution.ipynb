{
 "cells": [
  {
   "cell_type": "markdown",
   "metadata": {},
   "source": [
    "## 4 Write a program to reverse a string\n",
    "\n",
    "Please do not use the existing reverse function of Python. Do the reverse with your own program.\n"
   ]
  },
  {
   "cell_type": "code",
   "execution_count": 1,
   "metadata": {},
   "outputs": [],
   "source": [
    "name = 'nohtyP'\n",
    "# add your program here to rever the string\n",
    "rev_name = ''\n",
    "for i in range(len(name)-1, -1, -1):\n",
    "    rev_name = rev_name + name[i]\n",
    "    \n",
    "print(rev_name)"
   ]
  },
  {
   "cell_type": "markdown",
   "metadata": {},
   "source": [
    "## 5 Find the maximum number in a list \n",
    "Please do NOT use the Python max() function\n",
    "\n",
    "Use a for loop, find the maximum number in a list:\n",
    "\n",
    "prices = [80, 65, 23, 91, 78, 95, 91, 50]\n",
    "\n",
    "\n",
    "Hint:\n",
    "* Assume the first item in the list is the maximum number, put the value to a variable representing the current maximum value found.\n",
    "* Go through the list items one by one;\n",
    "*    if the next item in the list is bigger than the current maximum value found, update the current maximum value.\n",
    "\n"
   ]
  },
  {
   "cell_type": "code",
   "execution_count": 2,
   "metadata": {},
   "outputs": [
    {
     "name": "stdout",
     "output_type": "stream",
     "text": [
      "max price is:  95\n"
     ]
    }
   ],
   "source": [
    "prices = [80, 65, 23, 91, 78, 95, 91, 50]\n",
    "max = prices[0]\n",
    "for item in prices:\n",
    "    if max < item:\n",
    "        max = item\n",
    "print('max price is: ', max)"
   ]
  },
  {
   "cell_type": "code",
   "execution_count": null,
   "metadata": {},
   "outputs": [],
   "source": []
  }
 ],
 "metadata": {
  "kernelspec": {
   "display_name": "Python 3",
   "language": "python",
   "name": "python3"
  },
  "language_info": {
   "codemirror_mode": {
    "name": "ipython",
    "version": 3
   },
   "file_extension": ".py",
   "mimetype": "text/x-python",
   "name": "python",
   "nbconvert_exporter": "python",
   "pygments_lexer": "ipython3",
   "version": "3.7.3"
  }
 },
 "nbformat": 4,
 "nbformat_minor": 2
}
