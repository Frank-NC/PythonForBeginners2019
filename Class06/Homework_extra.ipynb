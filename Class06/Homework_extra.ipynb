{
 "cells": [
  {
   "cell_type": "markdown",
   "metadata": {},
   "source": [
    "## 4 Write a program to reverse a string\n",
    "\n",
    "Please do not use the existing reverse function of Python. Do the reverse with your own program.\n"
   ]
  },
  {
   "cell_type": "code",
   "execution_count": 7,
   "metadata": {},
   "outputs": [
    {
     "name": "stdout",
     "output_type": "stream",
     "text": [
      "new string is:  Python\n"
     ]
    }
   ],
   "source": [
    "name = 'nohtyP'\n",
    "# add your program here to rever the string\n",
    "#print(name[1])\n",
    "new_name = ''\n",
    "for letter in name:\n",
    "    new_name = letter + new_name\n",
    "\n",
    "print('new string is: ', new_name)"
   ]
  },
  {
   "cell_type": "markdown",
   "metadata": {},
   "source": [
    "## 5 Find the maximum number in a list \n",
    "Please do NOT use the Python max() function\n",
    "\n",
    "Use a for loop, find the maximum number in a list:\n",
    "\n",
    "prices = [80, 65, 23, 91, 78, 95, 91, 50]\n",
    "\n",
    "\n",
    "Hint:\n",
    "* Assume the first item in the list is the maximum number, put the value to a variable representing the current maximum value found.\n",
    "* Go through the list items one by one;\n",
    "*    if the next item in the list is bigger than the current maximum value found, update the current maximum value.\n",
    "\n"
   ]
  },
  {
   "cell_type": "code",
   "execution_count": 8,
   "metadata": {},
   "outputs": [
    {
     "name": "stdout",
     "output_type": "stream",
     "text": [
      "95\n"
     ]
    }
   ],
   "source": [
    "prices = [80, 65, 23, 91, 78, 95, 91, 50]\n",
    "\n",
    "max_price = prices[0]\n",
    "\n",
    "for ....prices\n",
    "\n",
    "\n",
    "\n",
    "\n",
    "\n",
    "print(mx_price)"
   ]
  },
  {
   "cell_type": "code",
   "execution_count": null,
   "metadata": {},
   "outputs": [],
   "source": []
  }
 ],
 "metadata": {
  "kernelspec": {
   "display_name": "Python 3",
   "language": "python",
   "name": "python3"
  },
  "language_info": {
   "codemirror_mode": {
    "name": "ipython",
    "version": 3
   },
   "file_extension": ".py",
   "mimetype": "text/x-python",
   "name": "python",
   "nbconvert_exporter": "python",
   "pygments_lexer": "ipython3",
   "version": "3.7.3"
  }
 },
 "nbformat": 4,
 "nbformat_minor": 2
}
