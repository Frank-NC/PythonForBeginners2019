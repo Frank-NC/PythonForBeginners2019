{
 "cells": [
  {
   "cell_type": "markdown",
   "metadata": {},
   "source": [
    "# Python Data Types - List\n",
    "\n",
    "\n",
    "In this lesson, we learn 2 important data types:\n",
    "\n",
    "* List : an array of objects\n",
    "* Tuple : like List, but immutable (or unchangeable)"
   ]
  },
  {
   "cell_type": "markdown",
   "metadata": {},
   "source": [
    "### List Function Summary\n",
    "* len() the length of the list\n",
    "* index() find an item's location\n",
    "* in  check existence\n",
    "* append() add more items from the back\n",
    "* insert() add item at a given position\n",
    "* my_list = []  empty a list\n",
    "* sort()\tsort a list\n",
    "* reverse()  reverse a list\n",
    "* extend() extend (join) two lists\n",
    "* del  removing items from list\n",
    "* pop() removing from the back of a list\n",
    "* range() create a list with numbers"
   ]
  },
  {
   "cell_type": "markdown",
   "metadata": {},
   "source": [
    "## [List](https://docs.python.org/3/library/stdtypes.html#list)\n",
    "\n",
    "List is a sequence of objects : number, character, string, object.\n",
    "\n",
    "List sequence  <font color=red>__delimitor__</font> is square brackets: [ , ]\n",
    "\n",
    "List may be called Array, Vector, Tensor in other lang."
   ]
  },
  {
   "cell_type": "markdown",
   "metadata": {},
   "source": [
    "<img src=../images/shopping-list.jpg width=80%>"
   ]
  },
  {
   "cell_type": "code",
   "execution_count": 1,
   "metadata": {},
   "outputs": [],
   "source": [
    "empty_list = []\n",
    "\n",
    "number_list = [-1, 0, 1]\n",
    "\n",
    "my_shopping_list = ['Milk', 'Eggs', 'Cheese', 'Butter']"
   ]
  },
  {
   "cell_type": "code",
   "execution_count": 2,
   "metadata": {},
   "outputs": [
    {
     "data": {
      "text/plain": [
       "(list, list, list)"
      ]
     },
     "execution_count": 2,
     "metadata": {},
     "output_type": "execute_result"
    }
   ],
   "source": [
    "type(empty_list), type(number_list), type(my_shopping_list)"
   ]
  },
  {
   "cell_type": "markdown",
   "metadata": {},
   "source": [
    "### index\n",
    "\n",
    "The index of a list is a sequence number of an item in the list\n",
    "\n",
    "The index is used to access the element of the list\n",
    "\n",
    "Syntax:\n",
    "\n",
    "my_list[index]"
   ]
  },
  {
   "cell_type": "code",
   "execution_count": 27,
   "metadata": {},
   "outputs": [
    {
     "data": {
      "text/plain": [
       "'p'"
      ]
     },
     "execution_count": 27,
     "metadata": {},
     "output_type": "execute_result"
    }
   ],
   "source": [
    "# varaible snake_name is a string\n",
    "snake_name = ['p', 'y','t','h','o','n']\n",
    "# first char\n",
    "snake_name[0]  "
   ]
  },
  {
   "cell_type": "markdown",
   "metadata": {},
   "source": [
    "<font color=red>__index is zero-based__</font>"
   ]
  },
  {
   "cell_type": "markdown",
   "metadata": {},
   "source": [
    "Negative index means counting from the end of the list. -1 means the last element of the list"
   ]
  },
  {
   "cell_type": "code",
   "execution_count": 24,
   "metadata": {},
   "outputs": [
    {
     "data": {
      "text/plain": [
       "'n'"
      ]
     },
     "execution_count": 24,
     "metadata": {},
     "output_type": "execute_result"
    }
   ],
   "source": [
    "# varaible snake_name is a string\n",
    "snake_name =  ['p', 'y','t','h','o','n']\n",
    "# last char\n",
    "snake_name[-1]"
   ]
  },
  {
   "cell_type": "markdown",
   "metadata": {},
   "source": [
    "<font color=red> Becareful of the index number of the last element:</font>"
   ]
  },
  {
   "cell_type": "code",
   "execution_count": 28,
   "metadata": {},
   "outputs": [
    {
     "ename": "IndexError",
     "evalue": "list index out of range",
     "output_type": "error",
     "traceback": [
      "\u001b[1;31m---------------------------------------------------------------------------\u001b[0m",
      "\u001b[1;31mIndexError\u001b[0m                                Traceback (most recent call last)",
      "\u001b[1;32m<ipython-input-28-b1fa574bf374>\u001b[0m in \u001b[0;36m<module>\u001b[1;34m\u001b[0m\n\u001b[0;32m      1\u001b[0m \u001b[0msnake_name\u001b[0m \u001b[1;33m=\u001b[0m  \u001b[1;33m[\u001b[0m\u001b[1;34m'p'\u001b[0m\u001b[1;33m,\u001b[0m \u001b[1;34m'y'\u001b[0m\u001b[1;33m,\u001b[0m\u001b[1;34m't'\u001b[0m\u001b[1;33m,\u001b[0m\u001b[1;34m'h'\u001b[0m\u001b[1;33m,\u001b[0m\u001b[1;34m'o'\u001b[0m\u001b[1;33m,\u001b[0m\u001b[1;34m'n'\u001b[0m\u001b[1;33m]\u001b[0m\u001b[1;33m\u001b[0m\u001b[1;33m\u001b[0m\u001b[0m\n\u001b[1;32m----> 2\u001b[1;33m \u001b[0msnake_name\u001b[0m\u001b[1;33m[\u001b[0m\u001b[1;36m6\u001b[0m\u001b[1;33m]\u001b[0m\u001b[1;33m\u001b[0m\u001b[1;33m\u001b[0m\u001b[0m\n\u001b[0m",
      "\u001b[1;31mIndexError\u001b[0m: list index out of range"
     ]
    }
   ],
   "source": [
    "snake_name =  ['p', 'y','t','h','o','n']\n",
    "snake_name[6]"
   ]
  },
  {
   "cell_type": "code",
   "execution_count": 26,
   "metadata": {},
   "outputs": [
    {
     "data": {
      "text/plain": [
       "'n'"
      ]
     },
     "execution_count": 26,
     "metadata": {},
     "output_type": "execute_result"
    }
   ],
   "source": [
    "snake_name3[5]"
   ]
  },
  {
   "cell_type": "code",
   "execution_count": 51,
   "metadata": {},
   "outputs": [
    {
     "data": {
      "text/plain": [
       "'n'"
      ]
     },
     "execution_count": 51,
     "metadata": {},
     "output_type": "execute_result"
    }
   ],
   "source": [
    "# going backward using negative index: \n",
    "# last char\n",
    "snake_name3[-1]"
   ]
  },
  {
   "cell_type": "code",
   "execution_count": 52,
   "metadata": {},
   "outputs": [
    {
     "data": {
      "text/plain": [
       "'h'"
      ]
     },
     "execution_count": 52,
     "metadata": {},
     "output_type": "execute_result"
    }
   ],
   "source": [
    "snake_name3[-3]"
   ]
  },
  {
   "cell_type": "markdown",
   "metadata": {},
   "source": [
    "### string is a special list of characters"
   ]
  },
  {
   "cell_type": "code",
   "execution_count": 4,
   "metadata": {},
   "outputs": [],
   "source": [
    "# varaible snake_name is a string\n",
    "snake_name = \"python\""
   ]
  },
  {
   "cell_type": "code",
   "execution_count": 42,
   "metadata": {},
   "outputs": [
    {
     "data": {
      "text/plain": [
       "str"
      ]
     },
     "execution_count": 42,
     "metadata": {},
     "output_type": "execute_result"
    }
   ],
   "source": [
    "type(snake_name)"
   ]
  },
  {
   "cell_type": "code",
   "execution_count": 43,
   "metadata": {
    "collapsed": true
   },
   "outputs": [],
   "source": [
    "# varaible snake_name2 is a list\n",
    "snake_name2 = ['p', 'y','t','h','o','n']"
   ]
  },
  {
   "cell_type": "code",
   "execution_count": 44,
   "metadata": {},
   "outputs": [
    {
     "data": {
      "text/plain": [
       "list"
      ]
     },
     "execution_count": 44,
     "metadata": {},
     "output_type": "execute_result"
    }
   ],
   "source": [
    "type(snake_name2)"
   ]
  },
  {
   "cell_type": "code",
   "execution_count": 20,
   "metadata": {
    "scrolled": true
   },
   "outputs": [
    {
     "name": "stdout",
     "output_type": "stream",
     "text": [
      "['p', 'y', 't', 'h', 'o', 'n']\n"
     ]
    }
   ],
   "source": [
    "# convert string to list\n",
    "snake_name3 = list(snake_name)\n",
    "print(snake_name3)"
   ]
  },
  {
   "cell_type": "code",
   "execution_count": 21,
   "metadata": {},
   "outputs": [
    {
     "data": {
      "text/plain": [
       "6"
      ]
     },
     "execution_count": 21,
     "metadata": {},
     "output_type": "execute_result"
    }
   ],
   "source": [
    "# length of list\n",
    "len(snake_name3)"
   ]
  },
  {
   "cell_type": "markdown",
   "metadata": {},
   "source": [
    "* word is a list of alphabets\n",
    "* sentence is a list of words and punctuations.\n",
    "* paragraph is a list of sentences\n",
    "* chapter ..."
   ]
  },
  {
   "cell_type": "code",
   "execution_count": 53,
   "metadata": {
    "collapsed": true
   },
   "outputs": [],
   "source": [
    "# python list can be made of different types\n",
    "my_list = ['This', 'book', 'costs', 10.50, '$']"
   ]
  },
  {
   "cell_type": "markdown",
   "metadata": {},
   "source": [
    "### common operations / functions"
   ]
  },
  {
   "cell_type": "markdown",
   "metadata": {},
   "source": [
    "#### len() - count list's length "
   ]
  },
  {
   "cell_type": "code",
   "execution_count": 2,
   "metadata": {},
   "outputs": [
    {
     "data": {
      "text/plain": [
       "5"
      ]
     },
     "execution_count": 2,
     "metadata": {},
     "output_type": "execute_result"
    }
   ],
   "source": [
    "my_list = ['This', 'book', 'costs', 10.50, '$']\n",
    "len(my_list)"
   ]
  },
  {
   "cell_type": "code",
   "execution_count": 3,
   "metadata": {},
   "outputs": [
    {
     "data": {
      "text/plain": [
       "'n'"
      ]
     },
     "execution_count": 3,
     "metadata": {},
     "output_type": "execute_result"
    }
   ],
   "source": [
    "snake_name =  ['p', 'y','t','h','o','n']\n",
    "snake_name[len(snake_name) - 1]"
   ]
  },
  {
   "cell_type": "code",
   "execution_count": 4,
   "metadata": {},
   "outputs": [
    {
     "data": {
      "text/plain": [
       "(float, str)"
      ]
     },
     "execution_count": 4,
     "metadata": {},
     "output_type": "execute_result"
    }
   ],
   "source": [
    "type(my_list[-2]), type(my_list[1])"
   ]
  },
  {
   "cell_type": "markdown",
   "metadata": {},
   "source": [
    "#### index() - find an item's location"
   ]
  },
  {
   "cell_type": "code",
   "execution_count": 5,
   "metadata": {},
   "outputs": [
    {
     "name": "stdout",
     "output_type": "stream",
     "text": [
      "1\n"
     ]
    }
   ],
   "source": [
    "print(my_list.index('book'))"
   ]
  },
  {
   "cell_type": "markdown",
   "metadata": {},
   "source": [
    "#### in - check existence"
   ]
  },
  {
   "cell_type": "code",
   "execution_count": 6,
   "metadata": {},
   "outputs": [
    {
     "name": "stdout",
     "output_type": "stream",
     "text": [
      "True\n"
     ]
    }
   ],
   "source": [
    "print('book' in my_list)"
   ]
  },
  {
   "cell_type": "code",
   "execution_count": 7,
   "metadata": {},
   "outputs": [
    {
     "name": "stdout",
     "output_type": "stream",
     "text": [
      "False\n"
     ]
    }
   ],
   "source": [
    "print('cost' in my_list)"
   ]
  },
  {
   "cell_type": "markdown",
   "metadata": {},
   "source": [
    "#### append() - add more items from the back"
   ]
  },
  {
   "cell_type": "code",
   "execution_count": 8,
   "metadata": {},
   "outputs": [],
   "source": [
    "my_list.append('I am going to order it')"
   ]
  },
  {
   "cell_type": "code",
   "execution_count": 9,
   "metadata": {},
   "outputs": [
    {
     "name": "stdout",
     "output_type": "stream",
     "text": [
      "['This', 'book', 'costs', 10.5, '$', 'I am going to order it']\n"
     ]
    }
   ],
   "source": [
    "print(my_list)"
   ]
  },
  {
   "cell_type": "markdown",
   "metadata": {},
   "source": [
    "#### insert() - add item at a given position"
   ]
  },
  {
   "cell_type": "code",
   "execution_count": 10,
   "metadata": {},
   "outputs": [],
   "source": [
    "my_list.insert(1, 'computer')"
   ]
  },
  {
   "cell_type": "code",
   "execution_count": 11,
   "metadata": {},
   "outputs": [
    {
     "name": "stdout",
     "output_type": "stream",
     "text": [
      "['This', 'computer', 'book', 'costs', 10.5, '$', 'I am going to order it']\n"
     ]
    }
   ],
   "source": [
    "print(my_list)"
   ]
  },
  {
   "cell_type": "markdown",
   "metadata": {},
   "source": [
    "#### empty a list"
   ]
  },
  {
   "cell_type": "code",
   "execution_count": 63,
   "metadata": {},
   "outputs": [
    {
     "name": "stdout",
     "output_type": "stream",
     "text": [
      "[]\n"
     ]
    }
   ],
   "source": [
    "my_list = []\n",
    "print(my_list)"
   ]
  },
  {
   "cell_type": "code",
   "execution_count": 64,
   "metadata": {},
   "outputs": [
    {
     "data": {
      "text/plain": [
       "0"
      ]
     },
     "execution_count": 64,
     "metadata": {},
     "output_type": "execute_result"
    }
   ],
   "source": [
    "len(my_list)"
   ]
  },
  {
   "cell_type": "markdown",
   "metadata": {},
   "source": [
    "#### sort() - sort a list"
   ]
  },
  {
   "cell_type": "code",
   "execution_count": 65,
   "metadata": {
    "collapsed": true
   },
   "outputs": [],
   "source": [
    "num_list = [120, 10, -1, 9999]"
   ]
  },
  {
   "cell_type": "code",
   "execution_count": 66,
   "metadata": {},
   "outputs": [
    {
     "name": "stdout",
     "output_type": "stream",
     "text": [
      "[-1, 10, 120, 9999]\n"
     ]
    }
   ],
   "source": [
    "num_list.sort()\n",
    "print(num_list)"
   ]
  },
  {
   "cell_type": "code",
   "execution_count": 67,
   "metadata": {},
   "outputs": [
    {
     "name": "stdout",
     "output_type": "stream",
     "text": [
      "[9999, 120, 10, -1]\n"
     ]
    }
   ],
   "source": [
    "# sort reverse order\n",
    "num_list.sort(reverse=True)\n",
    "print(num_list)"
   ]
  },
  {
   "cell_type": "markdown",
   "metadata": {},
   "source": [
    "#### reverse() - reverse a list"
   ]
  },
  {
   "cell_type": "code",
   "execution_count": 68,
   "metadata": {},
   "outputs": [
    {
     "data": {
      "text/plain": [
       "[9999, 120, 10, -1]"
      ]
     },
     "execution_count": 68,
     "metadata": {},
     "output_type": "execute_result"
    }
   ],
   "source": [
    "num_list"
   ]
  },
  {
   "cell_type": "code",
   "execution_count": 69,
   "metadata": {},
   "outputs": [
    {
     "data": {
      "text/plain": [
       "[-1, 10, 120, 9999]"
      ]
     },
     "execution_count": 69,
     "metadata": {},
     "output_type": "execute_result"
    }
   ],
   "source": [
    "num_list.reverse()\n",
    "num_list"
   ]
  },
  {
   "cell_type": "markdown",
   "metadata": {},
   "source": [
    "#### extend() - a list"
   ]
  },
  {
   "cell_type": "code",
   "execution_count": 48,
   "metadata": {},
   "outputs": [
    {
     "name": "stdout",
     "output_type": "stream",
     "text": [
      "['p', 'y', 't', 'h', 'o', 'n', 'RAM', 'Power Supply', 'Hard Drive']\n"
     ]
    }
   ],
   "source": [
    "snake_name =  ['p', 'y','t','h','o','n']\n",
    "PC_Components = ['RAM', 'Power Supply', 'Hard Drive']\n",
    "\n",
    "snake_name.extend(PC_Components)\n",
    "print(snake_name)"
   ]
  },
  {
   "cell_type": "code",
   "execution_count": 50,
   "metadata": {},
   "outputs": [
    {
     "name": "stdout",
     "output_type": "stream",
     "text": [
      "['p', 'y', 't', 'h', 'o', 'n', ['RAM', 'Power Supply', 'Hard Drive']]\n"
     ]
    }
   ],
   "source": [
    "snake_name =  ['p', 'y','t','h','o','n']\n",
    "PC_Components = ['RAM', 'Power Supply', 'Hard Drive']\n",
    "\n",
    "# what if you use append()\n",
    "\n",
    "snake_name.append(PC_Components)\n",
    "print(snake_name)"
   ]
  },
  {
   "cell_type": "markdown",
   "metadata": {},
   "source": [
    "#### del - removing item from list"
   ]
  },
  {
   "cell_type": "code",
   "execution_count": null,
   "metadata": {
    "collapsed": true
   },
   "outputs": [],
   "source": [
    "del PC_Components_Checklist[-1]"
   ]
  },
  {
   "cell_type": "code",
   "execution_count": null,
   "metadata": {},
   "outputs": [],
   "source": [
    "print(PC_Components_Checklist)"
   ]
  },
  {
   "cell_type": "markdown",
   "metadata": {},
   "source": [
    "#### pop() - remove from back"
   ]
  },
  {
   "cell_type": "code",
   "execution_count": null,
   "metadata": {},
   "outputs": [],
   "source": [
    "last_item = PC_Components_Checklist.pop()\n",
    "print(last_item)"
   ]
  },
  {
   "cell_type": "code",
   "execution_count": null,
   "metadata": {},
   "outputs": [],
   "source": [
    "print(PC_Components_Checklist)"
   ]
  },
  {
   "cell_type": "markdown",
   "metadata": {},
   "source": [
    "#### range()\n",
    "\n",
    "quickly generate an array - list of numbers"
   ]
  },
  {
   "cell_type": "code",
   "execution_count": 18,
   "metadata": {},
   "outputs": [
    {
     "data": {
      "text/plain": [
       "[0, 1, 2, 3, 4, 5, 6, 7, 8, 9, 10, 11, 12, 13, 14]"
      ]
     },
     "execution_count": 18,
     "metadata": {},
     "output_type": "execute_result"
    }
   ],
   "source": [
    "arr = list(range(15))\n",
    "arr"
   ]
  },
  {
   "cell_type": "markdown",
   "metadata": {},
   "source": [
    "#### generate a list of words from a sentence: split()\n",
    "\n",
    "Strings can be split into a set of substrings when they are separated by a repeated character. If a string consists of a simple sentence, the string can be split based on spaces. The split() function returns a list of substrings. The split() function takes one argument, the character that separates the parts of the string."
   ]
  },
  {
   "cell_type": "code",
   "execution_count": 45,
   "metadata": {},
   "outputs": [
    {
     "data": {
      "text/plain": [
       "['Strings',\n",
       " 'can',\n",
       " 'be',\n",
       " 'split',\n",
       " 'into',\n",
       " 'a',\n",
       " 'set',\n",
       " 'of',\n",
       " 'substrings',\n",
       " 'when',\n",
       " 'they',\n",
       " 'are',\n",
       " 'separated',\n",
       " 'by',\n",
       " 'a',\n",
       " 'repeated',\n",
       " 'character.',\n",
       " 'If',\n",
       " 'a',\n",
       " 'string',\n",
       " 'consists',\n",
       " 'of',\n",
       " 'a',\n",
       " 'simple',\n",
       " 'sentence,',\n",
       " 'the',\n",
       " 'string',\n",
       " 'can',\n",
       " 'be',\n",
       " 'split',\n",
       " 'based',\n",
       " 'on',\n",
       " 'spaces.',\n",
       " 'The',\n",
       " 'split()',\n",
       " 'function',\n",
       " 'returns',\n",
       " 'a',\n",
       " 'list',\n",
       " 'of',\n",
       " 'substrings.',\n",
       " 'The',\n",
       " 'split()',\n",
       " 'function',\n",
       " 'takes',\n",
       " 'one',\n",
       " 'argument,',\n",
       " 'the',\n",
       " 'character',\n",
       " 'that',\n",
       " 'separates',\n",
       " 'the',\n",
       " 'parts',\n",
       " 'of',\n",
       " 'the',\n",
       " 'string.']"
      ]
     },
     "execution_count": 45,
     "metadata": {},
     "output_type": "execute_result"
    }
   ],
   "source": [
    "split_fn_description = \"\"\"\n",
    "Strings can be split into a set of substrings when they are separated by a repeated character. If a string consists of a simple sentence, the string can be split based on spaces. The split() function returns a list of substrings. The split() function takes one argument, the character that separates the parts of the string.\n",
    "\"\"\"\n",
    "\n",
    "word_list = split_fn_description.split()\n",
    "word_list"
   ]
  },
  {
   "cell_type": "code",
   "execution_count": 47,
   "metadata": {},
   "outputs": [
    {
     "data": {
      "text/plain": [
       "['\\nStrings can be split into a set of substrings when they are separated by a repeated character',\n",
       " ' If a string consists of a simple sentence, the string can be split based on spaces',\n",
       " ' The split() function returns a list of substrings',\n",
       " ' The split() function takes one argument, the character that separates the parts of the string',\n",
       " '\\n']"
      ]
     },
     "execution_count": 47,
     "metadata": {},
     "output_type": "execute_result"
    }
   ],
   "source": [
    "split_fn_description = \"\"\"\n",
    "Strings can be split into a set of substrings when they are separated by a repeated character. If a string consists of a simple sentence, the string can be split based on spaces. The split() function returns a list of substrings. The split() function takes one argument, the character that separates the parts of the string.\n",
    "\"\"\"\n",
    "\n",
    "sentence_list = split_fn_description.split('.')\n",
    "sentence_list"
   ]
  },
  {
   "cell_type": "markdown",
   "metadata": {},
   "source": [
    "### Split a string for every line\n",
    "\n",
    "the new line is a special character in a string: \\n"
   ]
  },
  {
   "cell_type": "code",
   "execution_count": 52,
   "metadata": {},
   "outputs": [
    {
     "name": "stdout",
     "output_type": "stream",
     "text": [
      "The Zen of Python\n",
      "by Tim Peters\n",
      "\n",
      "Beautiful is better than ugly.\n",
      "Explicit is better than implicit.\n",
      "Simple is better than complex.\n",
      "Complex is better than complicated.\n",
      "Flat is better than nested.\n",
      "Sparse is better than dense.\n",
      "Readability counts.\n"
     ]
    }
   ],
   "source": [
    "essay = '''The Zen of Python\n",
    "by Tim Peters\n",
    "\n",
    "Beautiful is better than ugly.\n",
    "Explicit is better than implicit.\n",
    "Simple is better than complex.\n",
    "Complex is better than complicated.\n",
    "Flat is better than nested.\n",
    "Sparse is better than dense.\n",
    "Readability counts.'''\n",
    "\n",
    "# write your code at below\n",
    "\n",
    "lines = essay.split('\\n')  # number lines\n",
    "\n",
    "for l in lines:\n",
    "    print(l)\n"
   ]
  },
  {
   "cell_type": "markdown",
   "metadata": {},
   "source": [
    "## Multi Dimensional List\n",
    "The component of a list can be a list"
   ]
  },
  {
   "cell_type": "markdown",
   "metadata": {},
   "source": [
    "<img src=../images/DIY-build-PC.jpg width=100%>"
   ]
  },
  {
   "cell_type": "code",
   "execution_count": 17,
   "metadata": {},
   "outputs": [
    {
     "name": "stdout",
     "output_type": "stream",
     "text": [
      "main_Checklist\n",
      " ['CPU', 'Motherboard', 'Graphics Card', 'RAM']\n",
      "\n",
      "extra_Checklist\n",
      " ['Operating Sys', 'Keyboard']\n",
      "\n",
      "computer_Component_Checklist\n",
      " [['CPU', 'Motherboard', 'Graphics Card', 'RAM'], ['Operating Sys', 'Keyboard']]\n",
      "\n",
      "computer_Component_Checklist[0]\n",
      " ['CPU', 'Motherboard', 'Graphics Card', 'RAM']\n",
      "computer_Component_Checklist[1]\n",
      " ['Operating Sys', 'Keyboard']\n"
     ]
    }
   ],
   "source": [
    "main_Checklist = ['CPU', 'Motherboard', 'Graphics Card', 'RAM']\n",
    "print('main_Checklist\\n', main_Checklist)\n",
    "print()\n",
    "\n",
    "extra_Checklist = ['Operating Sys','Keyboard']\n",
    "print('extra_Checklist\\n', extra_Checklist)\n",
    "print()\n",
    "\n",
    "computer_Component_Checklist = [main_Checklist, extra_Checklist]\n",
    "print('computer_Component_Checklist\\n', computer_Component_Checklist)\n",
    "print()\n",
    "\n",
    "print('computer_Component_Checklist[0]\\n', computer_Component_Checklist[0])\n",
    "print('computer_Component_Checklist[1]\\n', computer_Component_Checklist[1])\n"
   ]
  },
  {
   "cell_type": "markdown",
   "metadata": {},
   "source": [
    "## Iterate Through a List with For Loop"
   ]
  },
  {
   "cell_type": "code",
   "execution_count": 32,
   "metadata": {},
   "outputs": [
    {
     "name": "stdout",
     "output_type": "stream",
     "text": [
      "python"
     ]
    }
   ],
   "source": [
    "# method 1\n",
    "snake_name =  ['p', 'y','t','h','o','n']\n",
    "for letter in snake_name:\n",
    "    print(letter, end='')"
   ]
  },
  {
   "cell_type": "code",
   "execution_count": 33,
   "metadata": {},
   "outputs": [
    {
     "name": "stdout",
     "output_type": "stream",
     "text": [
      "python"
     ]
    }
   ],
   "source": [
    "# method 2\n",
    "snake_name =  ['p', 'y','t','h','o','n']\n",
    "total = len(snake_name)\n",
    "for i in range(total):\n",
    "    print(snake_name[i], end='')"
   ]
  },
  {
   "cell_type": "markdown",
   "metadata": {},
   "source": [
    "## Iterate Through a List with For Loop, keeping the index number"
   ]
  },
  {
   "cell_type": "code",
   "execution_count": 34,
   "metadata": {},
   "outputs": [
    {
     "name": "stdout",
     "output_type": "stream",
     "text": [
      "0 )  p\n",
      "1 )  y\n",
      "2 )  t\n",
      "3 )  h\n",
      "4 )  o\n",
      "5 )  n\n"
     ]
    }
   ],
   "source": [
    "# Method 1\n",
    "snake_name =  ['p', 'y','t','h','o','n']\n",
    "for i in range(len(snake_name)):\n",
    "    print(i, ') ',snake_name[i])"
   ]
  },
  {
   "cell_type": "markdown",
   "metadata": {},
   "source": [
    "Using <font color='blue'><b>enumerate</b></font>"
   ]
  },
  {
   "cell_type": "code",
   "execution_count": 35,
   "metadata": {},
   "outputs": [
    {
     "name": "stdout",
     "output_type": "stream",
     "text": [
      "0 )  p\n",
      "1 )  y\n",
      "2 )  t\n",
      "3 )  h\n",
      "4 )  o\n",
      "5 )  n\n"
     ]
    }
   ],
   "source": [
    "# Method 2\n",
    "snake_name =  ['p', 'y','t','h','o','n']\n",
    "for i, l in enumerate(snake_name):\n",
    "    print(i, ') ', l)"
   ]
  },
  {
   "cell_type": "markdown",
   "metadata": {},
   "source": [
    "## [Tuple](https://docs.python.org/3/library/stdtypes.html#tuple)\n",
    "\n",
    "Tuple is a list whose item can not be changed.\n",
    "\n",
    "Tuple sequence <font color=red>__delimitor__</font> is parentheses: (, )"
   ]
  },
  {
   "cell_type": "markdown",
   "metadata": {},
   "source": [
    "<img src=../images/tube-of-tennis-balls-2.jpg width=70%>"
   ]
  },
  {
   "cell_type": "code",
   "execution_count": null,
   "metadata": {
    "collapsed": true
   },
   "outputs": [],
   "source": [
    "t = ('I', 'play', 'tennis')"
   ]
  },
  {
   "cell_type": "code",
   "execution_count": null,
   "metadata": {},
   "outputs": [],
   "source": [
    "print(t)"
   ]
  },
  {
   "cell_type": "code",
   "execution_count": null,
   "metadata": {},
   "outputs": [],
   "source": [
    "type(t)"
   ]
  },
  {
   "cell_type": "code",
   "execution_count": null,
   "metadata": {},
   "outputs": [],
   "source": [
    "len(t)"
   ]
  },
  {
   "cell_type": "code",
   "execution_count": null,
   "metadata": {},
   "outputs": [],
   "source": [
    "t[0]"
   ]
  },
  {
   "cell_type": "code",
   "execution_count": null,
   "metadata": {},
   "outputs": [],
   "source": [
    "t[1]"
   ]
  },
  {
   "cell_type": "code",
   "execution_count": null,
   "metadata": {},
   "outputs": [],
   "source": [
    "t[2]"
   ]
  },
  {
   "cell_type": "code",
   "execution_count": null,
   "metadata": {},
   "outputs": [],
   "source": [
    "t[2] = 'ping-pong'"
   ]
  },
  {
   "cell_type": "code",
   "execution_count": null,
   "metadata": {
    "collapsed": true
   },
   "outputs": [],
   "source": [
    "# convert tuple to list\n",
    "lst = list(t)"
   ]
  },
  {
   "cell_type": "code",
   "execution_count": null,
   "metadata": {},
   "outputs": [],
   "source": [
    "print(lst)"
   ]
  },
  {
   "cell_type": "code",
   "execution_count": null,
   "metadata": {},
   "outputs": [],
   "source": [
    "type(lst)"
   ]
  },
  {
   "cell_type": "code",
   "execution_count": null,
   "metadata": {
    "collapsed": true
   },
   "outputs": [],
   "source": [
    "lst[2] = 'ping-pong'"
   ]
  },
  {
   "cell_type": "code",
   "execution_count": null,
   "metadata": {
    "collapsed": true
   },
   "outputs": [],
   "source": [
    "# convert modified list back to tuple\n",
    "tpl = tuple(lst)"
   ]
  },
  {
   "cell_type": "code",
   "execution_count": null,
   "metadata": {},
   "outputs": [],
   "source": [
    "type(tpl)"
   ]
  },
  {
   "cell_type": "code",
   "execution_count": null,
   "metadata": {},
   "outputs": [],
   "source": [
    "print(tpl)"
   ]
  },
  {
   "cell_type": "markdown",
   "metadata": {},
   "source": [
    "__Note:__ We will cover topics on looping later"
   ]
  },
  {
   "cell_type": "code",
   "execution_count": null,
   "metadata": {
    "collapsed": true
   },
   "outputs": [],
   "source": []
  }
 ],
 "metadata": {
  "anaconda-cloud": {},
  "kernelspec": {
   "display_name": "Python 3",
   "language": "python",
   "name": "python3"
  },
  "language_info": {
   "codemirror_mode": {
    "name": "ipython",
    "version": 3
   },
   "file_extension": ".py",
   "mimetype": "text/x-python",
   "name": "python",
   "nbconvert_exporter": "python",
   "pygments_lexer": "ipython3",
   "version": "3.7.3"
  }
 },
 "nbformat": 4,
 "nbformat_minor": 1
}
